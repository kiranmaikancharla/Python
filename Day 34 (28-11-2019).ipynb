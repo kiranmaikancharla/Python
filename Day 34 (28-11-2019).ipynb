{
 "cells": [
  {
   "cell_type": "markdown",
   "metadata": {},
   "source": [
    "# Reguler Expressions"
   ]
  },
  {
   "cell_type": "code",
   "execution_count": 3,
   "metadata": {},
   "outputs": [
    {
     "name": "stdout",
     "output_type": "stream",
     "text": [
      "True\n",
      "False\n"
     ]
    }
   ],
   "source": [
    "# Function to test the two digit number as input\n",
    "# true- ip 2 digit number\n",
    "#false- ip not a 2 digit number\n",
    "import re\n",
    "def twoDigitMatching(n):\n",
    "    pattern ='^[0-9]{2}$'\n",
    "    n= str(n) #converts input into string format\n",
    "    if re.match(pattern,n):\n",
    "        return True\n",
    "    return False\n",
    "print(twoDigitMatching(12)) #true\n",
    "print(twoDigitMatching(123)) #false"
   ]
  },
  {
   "cell_type": "code",
   "execution_count": 14,
   "metadata": {},
   "outputs": [
    {
     "name": "stdout",
     "output_type": "stream",
     "text": [
      "True\n",
      "False\n",
      "False\n"
     ]
    }
   ],
   "source": [
    "# Regular Expression for Username\n",
    "#Username - Should contains lower and upper case charecters\n",
    "#Length -- Min 5 Max 12\n",
    "def validateUsername(s):\n",
    "    pattern ='^[a-zA-Z]{5,12}$'\n",
    "    if re.match(pattern,s):\n",
    "        return True\n",
    "    return False\n",
    "print(validateUsername('RajeeviK'))\n",
    "print(validateUsername('Anil'))\n",
    "print(validateUsername('RajeeviKattabcd'))"
   ]
  },
  {
   "cell_type": "code",
   "execution_count": 1,
   "metadata": {},
   "outputs": [
    {
     "ename": "IndentationError",
     "evalue": "unexpected indent (<ipython-input-1-d59f34fe820d>, line 5)",
     "output_type": "error",
     "traceback": [
      "\u001b[1;36m  File \u001b[1;32m\"<ipython-input-1-d59f34fe820d>\"\u001b[1;36m, line \u001b[1;32m5\u001b[0m\n\u001b[1;33m    - Parameters - Len Min 6 Max 10\u001b[0m\n\u001b[1;37m    ^\u001b[0m\n\u001b[1;31mIndentationError\u001b[0m\u001b[1;31m:\u001b[0m unexpected indent\n"
     ]
    }
   ],
   "source": [
    "#Regular Expression for Rollnumber\n",
    " # Ex- 14N61A0543 # valid\n",
    " # Ex- 15N61A0529  # not valid \n",
    "#Regular Expression for password\n",
    " - Parameters - Len Min 6 Max 10\n",
    " - Accept Lower case, Upper case "
   ]
  },
  {
   "cell_type": "markdown",
   "metadata": {},
   "source": [
    "# file Handling"
   ]
  },
  {
   "cell_type": "code",
   "execution_count": 2,
   "metadata": {},
   "outputs": [
    {
     "data": {
      "text/plain": [
       "['\\n',\n",
       " ' My Name is Rajeevi. It means Lotus. I love my name.\\n',\n",
       " ' Plastic bags are  major cause of environmental pollution. Plastic as a substance is non-biodegradable and thus plastic bags remain in the environment for hundreds of years polluting  immensely. It  become very essential to ban plastic bags before they ruin our planet completely. Many countries around the globe have either put a ban on the plastic bag or Levi tax on it. However, the problem hasnâ€™t been solved completely because the implementation it.\\n',\n",
       " '\\n']"
      ]
     },
     "execution_count": 2,
     "metadata": {},
     "output_type": "execute_result"
    }
   ],
   "source": [
    "\n",
    "def readfile(filename):\n",
    "    f= open(filename,'r')\n",
    "    filedata=f.readlines()\n",
    "    return filedata\n",
    "filename ='Rajeevi/file1.txt'\n",
    "readfile(filename)\n"
   ]
  },
  {
   "cell_type": "code",
   "execution_count": 2,
   "metadata": {},
   "outputs": [
    {
     "data": {
      "text/plain": [
       "87"
      ]
     },
     "execution_count": 2,
     "metadata": {},
     "output_type": "execute_result"
    }
   ],
   "source": [
    "import re\n",
    "def readfile(filename):\n",
    "    f= open(filename,'r')\n",
    "    filedata=f.read()\n",
    "    \n",
    "    return filedata\n",
    "filename ='Rajeevi/file1.txt'\n",
    "\n",
    "len(re.split(' ', readfile(filename)))\n"
   ]
  },
  {
   "cell_type": "code",
   "execution_count": 8,
   "metadata": {},
   "outputs": [
    {
     "data": {
      "text/plain": [
       "['\\n',\n",
       " 'My',\n",
       " 'Name',\n",
       " 'is',\n",
       " 'Rajeevi.',\n",
       " 'It',\n",
       " 'means',\n",
       " 'Lotus.',\n",
       " 'I',\n",
       " 'love',\n",
       " 'my',\n",
       " 'name.\\n',\n",
       " 'Plastic',\n",
       " 'bags',\n",
       " 'are',\n",
       " '',\n",
       " 'major',\n",
       " 'cause',\n",
       " 'of',\n",
       " 'environmental',\n",
       " 'pollution.',\n",
       " 'Plastic',\n",
       " 'as',\n",
       " 'a',\n",
       " 'substance',\n",
       " 'is',\n",
       " 'non-biodegradable',\n",
       " 'and',\n",
       " 'thus',\n",
       " 'plastic',\n",
       " 'bags',\n",
       " 'remain',\n",
       " 'in',\n",
       " 'the',\n",
       " 'environment',\n",
       " 'for',\n",
       " 'hundreds',\n",
       " 'of',\n",
       " 'years',\n",
       " 'polluting',\n",
       " '',\n",
       " 'immensely.',\n",
       " 'It',\n",
       " '',\n",
       " 'become',\n",
       " 'very',\n",
       " 'essential',\n",
       " 'to',\n",
       " 'ban',\n",
       " 'plastic',\n",
       " 'bags',\n",
       " 'before',\n",
       " 'they',\n",
       " 'ruin',\n",
       " 'our',\n",
       " 'planet',\n",
       " 'completely.',\n",
       " 'Many',\n",
       " 'countries',\n",
       " 'around',\n",
       " 'the',\n",
       " 'globe',\n",
       " 'have',\n",
       " 'either',\n",
       " 'put',\n",
       " 'a',\n",
       " 'ban',\n",
       " 'on',\n",
       " 'the',\n",
       " 'plastic',\n",
       " 'bag',\n",
       " 'or',\n",
       " 'Levi',\n",
       " 'tax',\n",
       " 'on',\n",
       " 'it.',\n",
       " 'However,',\n",
       " 'the',\n",
       " 'problem',\n",
       " 'hasnâ€™t',\n",
       " 'been',\n",
       " 'solved',\n",
       " 'completely',\n",
       " 'because',\n",
       " 'the',\n",
       " 'implementation',\n",
       " 'it.\\n\\n']"
      ]
     },
     "execution_count": 8,
     "metadata": {},
     "output_type": "execute_result"
    }
   ],
   "source": [
    "import re\n",
    "def readfile(filename):\n",
    "    f = open(filename,'r')\n",
    "    filedata=f.read()\n",
    "    f.close()\n",
    "    return filedata\n",
    "\n",
    "filename =('Rajeevi/file1.txt')\n",
    "\n",
    "#len(re.split(' ', readfile(filename)))\n",
    "wordlist = re.split('\\ ', readfile(filename))\n",
    "wordlist"
   ]
  },
  {
   "cell_type": "markdown",
   "metadata": {},
   "source": [
    "## frequency of data\n",
    " 1. Unique Data in the form of a Dictionary\n",
    "    {'To':0, 'introduction',0 ......}\n",
    " 2. Calculate the frequency for all keys in the dictionary\n",
    "    For every key in dictionary:\n",
    "        count the number of times the key is repeating in the \n",
    "    Assign the count of each key to the corresponding dictionary\n"
   ]
  },
  {
   "cell_type": "code",
   "execution_count": 21,
   "metadata": {},
   "outputs": [
    {
     "ename": "NameError",
     "evalue": "name 'extractuniquewords' is not defined",
     "output_type": "error",
     "traceback": [
      "\u001b[1;31m---------------------------------------------------------------------------\u001b[0m",
      "\u001b[1;31mNameError\u001b[0m                                 Traceback (most recent call last)",
      "\u001b[1;32m<ipython-input-21-c10df2a6de6c>\u001b[0m in \u001b[0;36m<module>\u001b[1;34m\u001b[0m\n\u001b[0;32m     10\u001b[0m     \u001b[1;32mreturn\u001b[0m \u001b[0muniquewords\u001b[0m\u001b[1;33m\u001b[0m\u001b[1;33m\u001b[0m\u001b[0m\n\u001b[0;32m     11\u001b[0m \u001b[0mfilename\u001b[0m \u001b[1;33m=\u001b[0m \u001b[1;34m'Rajeevi/file1.txt'\u001b[0m\u001b[1;33m\u001b[0m\u001b[1;33m\u001b[0m\u001b[0m\n\u001b[1;32m---> 12\u001b[1;33m \u001b[0muniquewords\u001b[0m \u001b[1;33m=\u001b[0m \u001b[0mextractuniquewords\u001b[0m\u001b[1;33m(\u001b[0m\u001b[0mfilename\u001b[0m\u001b[1;33m)\u001b[0m\u001b[1;33m\u001b[0m\u001b[1;33m\u001b[0m\u001b[0m\n\u001b[0m",
      "\u001b[1;31mNameError\u001b[0m: name 'extractuniquewords' is not defined"
     ]
    }
   ],
   "source": [
    "# Function to extract unique words in a text file\n",
    "import re\n",
    "def uniquewords(filename):\n",
    "    filedata = readfile(filename)\n",
    "    wordlist = re.split('\\ ', filedata)\n",
    "    uniquewords={}\n",
    "    for word in wordlist:\n",
    "        if word not in uniquewords.keys():\n",
    "            uniqueWords[word] = 1\n",
    "    return uniquewords\n",
    "filename = 'Rajeevi/file1.txt'\n",
    "uniquewords = extractuniquewords(filename)"
   ]
  },
  {
   "cell_type": "code",
   "execution_count": null,
   "metadata": {},
   "outputs": [],
   "source": []
  }
 ],
 "metadata": {
  "kernelspec": {
   "display_name": "Python 3",
   "language": "python",
   "name": "python3"
  },
  "language_info": {
   "codemirror_mode": {
    "name": "ipython",
    "version": 3
   },
   "file_extension": ".py",
   "mimetype": "text/x-python",
   "name": "python",
   "nbconvert_exporter": "python",
   "pygments_lexer": "ipython3",
   "version": "3.7.4"
  }
 },
 "nbformat": 4,
 "nbformat_minor": 2
}
