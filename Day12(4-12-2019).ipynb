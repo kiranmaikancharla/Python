{
 "cells": [
  {
   "cell_type": "code",
   "execution_count": 1,
   "metadata": {},
   "outputs": [
    {
     "name": "stdout",
     "output_type": "stream",
     "text": [
      "3.7.4 (default, Aug  9 2019, 18:34:13) [MSC v.1915 64 bit (AMD64)]\n"
     ]
    }
   ],
   "source": [
    "import sys\n",
    "print(sys.version)"
   ]
  },
  {
   "cell_type": "markdown",
   "metadata": {},
   "source": [
    "## To print the python version"
   ]
  },
  {
   "cell_type": "code",
   "execution_count": 2,
   "metadata": {},
   "outputs": [
    {
     "name": "stdout",
     "output_type": "stream",
     "text": [
      "sys.version_info(major=3, minor=7, micro=4, releaselevel='final', serial=0)\n"
     ]
    }
   ],
   "source": [
    "import sys\n",
    "print(sys.version_info)"
   ]
  },
  {
   "cell_type": "markdown",
   "metadata": {},
   "source": [
    "## To print current the time and date"
   ]
  },
  {
   "cell_type": "code",
   "execution_count": 16,
   "metadata": {},
   "outputs": [
    {
     "name": "stdout",
     "output_type": "stream",
     "text": [
      "2019-12-04 12:45:10.839838\n",
      "2019-12-04 12:45:10\n"
     ]
    }
   ],
   "source": [
    "import datetime\n",
    "now=datetime.datetime.now()\n",
    "print(now)\n",
    "print (now.strftime(\"%Y-%m-%d %H:%M:%S\"))\n"
   ]
  },
  {
   "cell_type": "code",
   "execution_count": 3,
   "metadata": {},
   "outputs": [
    {
     "name": "stdout",
     "output_type": "stream",
     "text": [
      "To Write a file \n",
      "and to Create the file\n",
      "Through Python Functions\n",
      "Rajee is a Mad Girl\n",
      "\n"
     ]
    }
   ],
   "source": [
    "f = open(\"python.txt\",\"r\") #read\n",
    "data = f.read()\n",
    "print(data)"
   ]
  },
  {
   "cell_type": "code",
   "execution_count": 1,
   "metadata": {},
   "outputs": [
    {
     "data": {
      "text/plain": [
       "<function TextIOWrapper.close()>"
      ]
     },
     "execution_count": 1,
     "metadata": {},
     "output_type": "execute_result"
    }
   ],
   "source": [
    "f = open('python.txt','a') #append\n",
    "f.write(\"hai everyone\")\n",
    "f.close"
   ]
  },
  {
   "cell_type": "code",
   "execution_count": 1,
   "metadata": {},
   "outputs": [
    {
     "name": "stdout",
     "output_type": "stream",
     "text": [
      "To Write a file \n",
      "and to Create the file\n",
      "Through Python Functions\n",
      "Rajee is a Mad Girl\n",
      "hai everyonehai everyonehai everyonehai everyone\n"
     ]
    }
   ],
   "source": [
    "f = open(\"python.txt\",\"r\") #read\n",
    "data = f.read()\n",
    "print(data)"
   ]
  },
  {
   "cell_type": "code",
   "execution_count": 15,
   "metadata": {},
   "outputs": [],
   "source": [
    "#Function to create file and write some 10 lines of data into the file\n",
    "\n",
    "\n",
    "f = open(\"python.txt\",\"w\")\n",
    "for i in range(10):\n",
    "    f.write(\"line number %d\\n\"%i )\n",
    "\n",
    "    "
   ]
  },
  {
   "cell_type": "code",
   "execution_count": 10,
   "metadata": {},
   "outputs": [
    {
     "name": "stdout",
     "output_type": "stream",
     "text": [
      "line number 0\n",
      "line number 1\n",
      "line number 2\n",
      "line number 3\n",
      "line number 4\n",
      "line number 5\n",
      "line number 6\n",
      "line number 7\n",
      "line number 8\n",
      "line number 9\n",
      "\n"
     ]
    }
   ],
   "source": [
    "f = open(\"python.txt\",\"r\") #read\n",
    "data = f.read()\n",
    "print(data)"
   ]
  },
  {
   "cell_type": "code",
   "execution_count": 19,
   "metadata": {},
   "outputs": [
    {
     "name": "stdout",
     "output_type": "stream",
     "text": [
      "30\n"
     ]
    }
   ],
   "source": [
    "# Count the no.of words in the given file\n",
    "\n",
    "f = open(\"python.txt\",\"r\")\n",
    "data = f.read()\n",
    "list = data.split()\n",
    "print(len(list))\n",
    "    \n"
   ]
  },
  {
   "cell_type": "code",
   "execution_count": 25,
   "metadata": {},
   "outputs": [
    {
     "name": "stdout",
     "output_type": "stream",
     "text": [
      "30\n",
      "140\n"
     ]
    }
   ],
   "source": [
    "# Count the no.of charectors in the given file\n",
    "\n",
    "f = open(\"python.txt\",\"r\")\n",
    "data = f.read()\n",
    "list = data.split()\n",
    "print(len(list))\n",
    "print(len(data))"
   ]
  },
  {
   "cell_type": "code",
   "execution_count": 11,
   "metadata": {},
   "outputs": [
    {
     "name": "stdout",
     "output_type": "stream",
     "text": [
      "30\n",
      "140\n",
      "11\n"
     ]
    }
   ],
   "source": [
    "# Count the no.of lines in a given file\n",
    "\n",
    "f = open(\"python.txt\",\"r\")\n",
    "data = f.read()\n",
    "list = data.split()\n",
    "print(len(list))#no.of words\n",
    "print(len(data))#no.of charectors\n",
    "print(len(data.split(\"\\n\")))#no.of lines"
   ]
  },
  {
   "cell_type": "code",
   "execution_count": 10,
   "metadata": {},
   "outputs": [
    {
     "name": "stdout",
     "output_type": "stream",
     "text": [
      "no.of charectors: 100 \n",
      " no of digits are 10\n"
     ]
    }
   ],
   "source": [
    "# Count the no.of alphabets and no.of digits in the given file\n",
    "\n",
    "ch = 0 \n",
    "num = 0\n",
    "for i in data:\n",
    "    if i.isalpha():\n",
    "        ch += 1\n",
    "    elif i.isdigit():\n",
    "        num += 1\n",
    "print(\"no.of charectors:\",ch,\"\\n no of digits are\",num)\n"
   ]
  },
  {
   "cell_type": "markdown",
   "metadata": {},
   "source": [
    "### Questions on file handling:\n",
    "1. Program to find the longest word in the given file\n",
    "2. Program to copy the contents of a file to another file"
   ]
  },
  {
   "cell_type": "code",
   "execution_count": 3,
   "metadata": {},
   "outputs": [
    {
     "name": "stdout",
     "output_type": "stream",
     "text": [
      "number\n",
      "number\n",
      "number\n",
      "number\n",
      "number\n",
      "number\n",
      "number\n",
      "number\n",
      "number\n",
      "number\n"
     ]
    }
   ],
   "source": [
    "def longestword(fn):\n",
    "    f = open(fn, 'r')\n",
    "    words = f.read().split()\n",
    "    length = len(max(words, key=len))\n",
    "    for i in words:\n",
    "        if len(i) == length:\n",
    "            print(i)\n",
    "longestword('python.txt')\n"
   ]
  },
  {
   "cell_type": "code",
   "execution_count": 9,
   "metadata": {},
   "outputs": [
    {
     "name": "stdout",
     "output_type": "stream",
     "text": [
      "number\n"
     ]
    }
   ],
   "source": [
    "f = open(\"python.txt\",\"r\")\n",
    "x = f.read()\n",
    "y = x.split()\n",
    "print(max(y))"
   ]
  },
  {
   "cell_type": "code",
   "execution_count": 4,
   "metadata": {},
   "outputs": [
    {
     "name": "stdout",
     "output_type": "stream",
     "text": [
      "line number 0\n",
      "line number 1\n",
      "line number 2\n",
      "line number 3\n",
      "line number 4\n",
      "line number 5\n",
      "line number 6\n",
      "line number 7\n",
      "line number 8\n",
      "line number 9\n",
      "\n"
     ]
    }
   ],
   "source": [
    "f = open(\"python.txt\")\n",
    "f1 = open(\"data.txt\",\"w\")\n",
    "for i in f:\n",
    "    f1.write(i)\n",
    "    f = open(\"python.txt\",\"r\")\n",
    "    data = f.read()\n",
    "print(data)\n",
    "    \n"
   ]
  },
  {
   "cell_type": "code",
   "execution_count": null,
   "metadata": {},
   "outputs": [],
   "source": []
  },
  {
   "cell_type": "code",
   "execution_count": null,
   "metadata": {},
   "outputs": [],
   "source": []
  },
  {
   "cell_type": "code",
   "execution_count": null,
   "metadata": {},
   "outputs": [],
   "source": []
  },
  {
   "cell_type": "code",
   "execution_count": null,
   "metadata": {},
   "outputs": [],
   "source": []
  },
  {
   "cell_type": "code",
   "execution_count": null,
   "metadata": {},
   "outputs": [],
   "source": []
  },
  {
   "cell_type": "code",
   "execution_count": null,
   "metadata": {},
   "outputs": [],
   "source": []
  }
 ],
 "metadata": {
  "kernelspec": {
   "display_name": "Python 3",
   "language": "python",
   "name": "python3"
  },
  "language_info": {
   "codemirror_mode": {
    "name": "ipython",
    "version": 3
   },
   "file_extension": ".py",
   "mimetype": "text/x-python",
   "name": "python",
   "nbconvert_exporter": "python",
   "pygments_lexer": "ipython3",
   "version": "3.7.4"
  }
 },
 "nbformat": 4,
 "nbformat_minor": 2
}
