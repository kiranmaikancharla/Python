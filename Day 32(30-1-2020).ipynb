{
 "cells": [
  {
   "cell_type": "code",
   "execution_count": 0,
   "metadata": {
    "colab": {},
    "colab_type": "code",
    "id": "x5Tx-ixyBDcl"
   },
   "outputs": [],
   "source": [
    "# H1"
   ]
  },
  {
   "cell_type": "markdown",
   "metadata": {
    "colab_type": "text",
    "id": "lARrKe9sDQWm"
   },
   "source": [
    "####### H6"
   ]
  },
  {
   "cell_type": "markdown",
   "metadata": {
    "colab_type": "text",
    "id": "8OQGJDELBFKg"
   },
   "source": [
    "* Heading\n",
    "  - Sub Heading1\n",
    "  - Sub Heading2\n",
    "    1. Indentation"
   ]
  },
  {
   "cell_type": "markdown",
   "metadata": {
    "colab_type": "text",
    "id": "N-wmCFqKCS3o"
   },
   "source": [
    "***Point1***"
   ]
  },
  {
   "cell_type": "markdown",
   "metadata": {
    "colab_type": "text",
    "id": "E9tzW1BtCyt9"
   },
   "source": [
    "**Point**"
   ]
  },
  {
   "cell_type": "markdown",
   "metadata": {
    "colab_type": "text",
    "id": "KYadzRjcC3pt"
   },
   "source": [
    "*Point*"
   ]
  },
  {
   "cell_type": "markdown",
   "metadata": {
    "colab_type": "text",
    "id": "zCdGl8XYELJY"
   },
   "source": [
    "### Adding the link to markdown\n",
    "* Google sites [facebook][1]\n",
    "[1]: https://www.facebook.com"
   ]
  },
  {
   "cell_type": "markdown",
   "metadata": {
    "colab_type": "text",
    "id": "6a5n_p3GFUnm"
   },
   "source": [
    "* Gmail [signup][1]\n",
    "[1]: https://www.gmail.com"
   ]
  },
  {
   "cell_type": "code",
   "execution_count": 0,
   "metadata": {
    "colab": {
     "base_uri": "https://localhost:8080/",
     "height": 598
    },
    "colab_type": "code",
    "executionInfo": {
     "elapsed": 890,
     "status": "ok",
     "timestamp": 1580383576115,
     "user": {
      "displayName": "Kiranmai Honey",
      "photoUrl": "https://lh3.googleusercontent.com/a-/AAuE7mCkE6EsF6a9T0vefrY6cWZe3Zw-5s8y9k5mHWb-Kw=s64",
      "userId": "13468006257170405021"
     },
     "user_tz": -330
    },
    "id": "2M4adR83HjiW",
    "outputId": "5e3abfc7-b1fe-4523-ea24-06f44c6a6d03"
   },
   "outputs": [
    {
     "data": {
      "text/plain": [
       "['False',\n",
       " 'None',\n",
       " 'True',\n",
       " 'and',\n",
       " 'as',\n",
       " 'assert',\n",
       " 'break',\n",
       " 'class',\n",
       " 'continue',\n",
       " 'def',\n",
       " 'del',\n",
       " 'elif',\n",
       " 'else',\n",
       " 'except',\n",
       " 'finally',\n",
       " 'for',\n",
       " 'from',\n",
       " 'global',\n",
       " 'if',\n",
       " 'import',\n",
       " 'in',\n",
       " 'is',\n",
       " 'lambda',\n",
       " 'nonlocal',\n",
       " 'not',\n",
       " 'or',\n",
       " 'pass',\n",
       " 'raise',\n",
       " 'return',\n",
       " 'try',\n",
       " 'while',\n",
       " 'with',\n",
       " 'yield']"
      ]
     },
     "execution_count": 7,
     "metadata": {
      "tags": []
     },
     "output_type": "execute_result"
    }
   ],
   "source": [
    "import keyword as k\n",
    "list = (k.kwlist)\n",
    "list"
   ]
  },
  {
   "cell_type": "code",
   "execution_count": 0,
   "metadata": {
    "colab": {
     "base_uri": "https://localhost:8080/",
     "height": 35
    },
    "colab_type": "code",
    "executionInfo": {
     "elapsed": 4578,
     "status": "ok",
     "timestamp": 1580384178104,
     "user": {
      "displayName": "Kiranmai Honey",
      "photoUrl": "https://lh3.googleusercontent.com/a-/AAuE7mCkE6EsF6a9T0vefrY6cWZe3Zw-5s8y9k5mHWb-Kw=s64",
      "userId": "13468006257170405021"
     },
     "user_tz": -330
    },
    "id": "Inm_MX0pMzNt",
    "outputId": "5d747fa5-cf41-4da4-c0de-8e3a56d535f6"
   },
   "outputs": [
    {
     "name": "stdout",
     "output_type": "stream",
     "text": [
      "Enter a num:7\n"
     ]
    }
   ],
   "source": [
    "n = input(\"Enter a num:\")\n"
   ]
  },
  {
   "cell_type": "code",
   "execution_count": 0,
   "metadata": {
    "colab": {
     "base_uri": "https://localhost:8080/",
     "height": 35
    },
    "colab_type": "code",
    "executionInfo": {
     "elapsed": 909,
     "status": "ok",
     "timestamp": 1580384181989,
     "user": {
      "displayName": "Kiranmai Honey",
      "photoUrl": "https://lh3.googleusercontent.com/a-/AAuE7mCkE6EsF6a9T0vefrY6cWZe3Zw-5s8y9k5mHWb-Kw=s64",
      "userId": "13468006257170405021"
     },
     "user_tz": -330
    },
    "id": "F9mlNUrgOSrh",
    "outputId": "237d6d0b-694d-4a85-9615-2afb300456d9"
   },
   "outputs": [
    {
     "name": "stdout",
     "output_type": "stream",
     "text": [
      "<class 'str'>\n"
     ]
    }
   ],
   "source": [
    "print(type(n))"
   ]
  },
  {
   "cell_type": "code",
   "execution_count": 0,
   "metadata": {
    "colab": {
     "base_uri": "https://localhost:8080/",
     "height": 35
    },
    "colab_type": "code",
    "executionInfo": {
     "elapsed": 10519,
     "status": "ok",
     "timestamp": 1580384117556,
     "user": {
      "displayName": "Kiranmai Honey",
      "photoUrl": "https://lh3.googleusercontent.com/a-/AAuE7mCkE6EsF6a9T0vefrY6cWZe3Zw-5s8y9k5mHWb-Kw=s64",
      "userId": "13468006257170405021"
     },
     "user_tz": -330
    },
    "id": "zDkVLC3ROmvF",
    "outputId": "0589af22-daf2-461f-80b8-390b1112ff31"
   },
   "outputs": [
    {
     "name": "stdout",
     "output_type": "stream",
     "text": [
      "Enter a num:7\n"
     ]
    }
   ],
   "source": [
    "n = int(input(\"Enter a num:\"))"
   ]
  },
  {
   "cell_type": "code",
   "execution_count": 0,
   "metadata": {
    "colab": {
     "base_uri": "https://localhost:8080/",
     "height": 35
    },
    "colab_type": "code",
    "executionInfo": {
     "elapsed": 874,
     "status": "ok",
     "timestamp": 1580384135171,
     "user": {
      "displayName": "Kiranmai Honey",
      "photoUrl": "https://lh3.googleusercontent.com/a-/AAuE7mCkE6EsF6a9T0vefrY6cWZe3Zw-5s8y9k5mHWb-Kw=s64",
      "userId": "13468006257170405021"
     },
     "user_tz": -330
    },
    "id": "PeG7jJACO7nB",
    "outputId": "497318af-2751-4753-bbff-7b035837f0a2"
   },
   "outputs": [
    {
     "name": "stdout",
     "output_type": "stream",
     "text": [
      "<class 'int'>\n"
     ]
    }
   ],
   "source": [
    "print(type(n))"
   ]
  },
  {
   "cell_type": "code",
   "execution_count": 0,
   "metadata": {
    "colab": {
     "base_uri": "https://localhost:8080/",
     "height": 35
    },
    "colab_type": "code",
    "executionInfo": {
     "elapsed": 862,
     "status": "ok",
     "timestamp": 1580384280001,
     "user": {
      "displayName": "Kiranmai Honey",
      "photoUrl": "https://lh3.googleusercontent.com/a-/AAuE7mCkE6EsF6a9T0vefrY6cWZe3Zw-5s8y9k5mHWb-Kw=s64",
      "userId": "13468006257170405021"
     },
     "user_tz": -330
    },
    "id": "VQqpbPBWPCRA",
    "outputId": "d6d1250f-a31a-494d-dfec-6ade58121c8c"
   },
   "outputs": [
    {
     "name": "stdout",
     "output_type": "stream",
     "text": [
      "<class 'complex'>\n"
     ]
    }
   ],
   "source": [
    "n = 3+4j\n",
    "print(type(n))"
   ]
  },
  {
   "cell_type": "code",
   "execution_count": 0,
   "metadata": {
    "colab": {
     "base_uri": "https://localhost:8080/",
     "height": 35
    },
    "colab_type": "code",
    "executionInfo": {
     "elapsed": 843,
     "status": "ok",
     "timestamp": 1580384398480,
     "user": {
      "displayName": "Kiranmai Honey",
      "photoUrl": "https://lh3.googleusercontent.com/a-/AAuE7mCkE6EsF6a9T0vefrY6cWZe3Zw-5s8y9k5mHWb-Kw=s64",
      "userId": "13468006257170405021"
     },
     "user_tz": -330
    },
    "id": "8F_WQ-nZPloF",
    "outputId": "7e6228ad-3b8b-4391-b3c6-53004b606845"
   },
   "outputs": [
    {
     "data": {
      "text/plain": [
       "0"
      ]
     },
     "execution_count": 16,
     "metadata": {
      "tags": []
     },
     "output_type": "execute_result"
    }
   ],
   "source": [
    "10%2"
   ]
  },
  {
   "cell_type": "code",
   "execution_count": 0,
   "metadata": {
    "colab": {
     "base_uri": "https://localhost:8080/",
     "height": 35
    },
    "colab_type": "code",
    "executionInfo": {
     "elapsed": 827,
     "status": "ok",
     "timestamp": 1580384462954,
     "user": {
      "displayName": "Kiranmai Honey",
      "photoUrl": "https://lh3.googleusercontent.com/a-/AAuE7mCkE6EsF6a9T0vefrY6cWZe3Zw-5s8y9k5mHWb-Kw=s64",
      "userId": "13468006257170405021"
     },
     "user_tz": -330
    },
    "id": "xdXDyAPGQCjv",
    "outputId": "ef76b720-dee8-4ae1-cf85-9a11467e904a"
   },
   "outputs": [
    {
     "data": {
      "text/plain": [
       "5.0"
      ]
     },
     "execution_count": 17,
     "metadata": {
      "tags": []
     },
     "output_type": "execute_result"
    }
   ],
   "source": [
    "10.05//2"
   ]
  },
  {
   "cell_type": "code",
   "execution_count": 0,
   "metadata": {
    "colab": {},
    "colab_type": "code",
    "id": "lDs-IDh5QSTX"
   },
   "outputs": [],
   "source": []
  },
  {
   "cell_type": "markdown",
   "metadata": {
    "colab_type": "text",
    "id": "TGafW4hCSk7H"
   },
   "source": [
    "* list\n",
    "* tuple\n",
    "* set\n",
    "* dict"
   ]
  },
  {
   "cell_type": "code",
   "execution_count": 0,
   "metadata": {
    "colab": {
     "base_uri": "https://localhost:8080/",
     "height": 35
    },
    "colab_type": "code",
    "executionInfo": {
     "elapsed": 861,
     "status": "ok",
     "timestamp": 1580385153704,
     "user": {
      "displayName": "Kiranmai Honey",
      "photoUrl": "https://lh3.googleusercontent.com/a-/AAuE7mCkE6EsF6a9T0vefrY6cWZe3Zw-5s8y9k5mHWb-Kw=s64",
      "userId": "13468006257170405021"
     },
     "user_tz": -330
    },
    "id": "02nJriSfSzQr",
    "outputId": "5df45c50-a6d7-43c9-b91b-4b53af90e14f"
   },
   "outputs": [
    {
     "data": {
      "text/plain": [
       "list"
      ]
     },
     "execution_count": 18,
     "metadata": {
      "tags": []
     },
     "output_type": "execute_result"
    }
   ],
   "source": [
    "a=[]\n",
    "type(a)"
   ]
  },
  {
   "cell_type": "code",
   "execution_count": 0,
   "metadata": {
    "colab": {
     "base_uri": "https://localhost:8080/",
     "height": 35
    },
    "colab_type": "code",
    "executionInfo": {
     "elapsed": 903,
     "status": "ok",
     "timestamp": 1580385229091,
     "user": {
      "displayName": "Kiranmai Honey",
      "photoUrl": "https://lh3.googleusercontent.com/a-/AAuE7mCkE6EsF6a9T0vefrY6cWZe3Zw-5s8y9k5mHWb-Kw=s64",
      "userId": "13468006257170405021"
     },
     "user_tz": -330
    },
    "id": "U02o9IqKS68E",
    "outputId": "dccd7bcc-4ddc-44b3-d61f-51bcdfc18f46"
   },
   "outputs": [
    {
     "data": {
      "text/plain": [
       "tuple"
      ]
     },
     "execution_count": 19,
     "metadata": {
      "tags": []
     },
     "output_type": "execute_result"
    }
   ],
   "source": [
    "b= ()\n",
    "type(b)"
   ]
  },
  {
   "cell_type": "code",
   "execution_count": 0,
   "metadata": {
    "colab": {
     "base_uri": "https://localhost:8080/",
     "height": 35
    },
    "colab_type": "code",
    "executionInfo": {
     "elapsed": 912,
     "status": "ok",
     "timestamp": 1580385283396,
     "user": {
      "displayName": "Kiranmai Honey",
      "photoUrl": "https://lh3.googleusercontent.com/a-/AAuE7mCkE6EsF6a9T0vefrY6cWZe3Zw-5s8y9k5mHWb-Kw=s64",
      "userId": "13468006257170405021"
     },
     "user_tz": -330
    },
    "id": "RJm9e6AOTNUs",
    "outputId": "fbc80578-b9ba-4823-c9c2-3260bd49082d"
   },
   "outputs": [
    {
     "data": {
      "text/plain": [
       "set"
      ]
     },
     "execution_count": 20,
     "metadata": {
      "tags": []
     },
     "output_type": "execute_result"
    }
   ],
   "source": [
    "c= {35}\n",
    "type(c)"
   ]
  },
  {
   "cell_type": "code",
   "execution_count": 0,
   "metadata": {
    "colab": {
     "base_uri": "https://localhost:8080/",
     "height": 35
    },
    "colab_type": "code",
    "executionInfo": {
     "elapsed": 920,
     "status": "ok",
     "timestamp": 1580385324659,
     "user": {
      "displayName": "Kiranmai Honey",
      "photoUrl": "https://lh3.googleusercontent.com/a-/AAuE7mCkE6EsF6a9T0vefrY6cWZe3Zw-5s8y9k5mHWb-Kw=s64",
      "userId": "13468006257170405021"
     },
     "user_tz": -330
    },
    "id": "RL4dKnG_TahP",
    "outputId": "c7a62430-ee81-448d-9e53-93b10b9d72af"
   },
   "outputs": [
    {
     "data": {
      "text/plain": [
       "dict"
      ]
     },
     "execution_count": 21,
     "metadata": {
      "tags": []
     },
     "output_type": "execute_result"
    }
   ],
   "source": [
    "d={}\n",
    "type(d)"
   ]
  },
  {
   "cell_type": "code",
   "execution_count": 0,
   "metadata": {
    "colab": {},
    "colab_type": "code",
    "id": "SSQ_AToKTkoG"
   },
   "outputs": [],
   "source": [
    "#list is mutable in nature:\n",
    "# it can be represent by []\n",
    "# it is a hetroginious collection of data \n",
    "# generally use for sort, search, store:\n",
    "#list is also support duplicate value."
   ]
  },
  {
   "cell_type": "code",
   "execution_count": 0,
   "metadata": {
    "colab": {
     "base_uri": "https://localhost:8080/",
     "height": 35
    },
    "colab_type": "code",
    "executionInfo": {
     "elapsed": 866,
     "status": "ok",
     "timestamp": 1580386289499,
     "user": {
      "displayName": "Kiranmai Honey",
      "photoUrl": "https://lh3.googleusercontent.com/a-/AAuE7mCkE6EsF6a9T0vefrY6cWZe3Zw-5s8y9k5mHWb-Kw=s64",
      "userId": "13468006257170405021"
     },
     "user_tz": -330
    },
    "id": "nVDl3ObeW98-",
    "outputId": "fa5e8460-bdfd-4928-cda9-e9356dcba2f6"
   },
   "outputs": [
    {
     "name": "stdout",
     "output_type": "stream",
     "text": [
      "[1, 23, 5, 8, 8, 5, 1.242, 5, True, 4, 5, 'sai']\n"
     ]
    }
   ],
   "source": [
    " list= [1,23,5,8,8,5,1.242,5,True,4,5,\"sai\"]\n",
    " print(list)"
   ]
  },
  {
   "cell_type": "code",
   "execution_count": 0,
   "metadata": {
    "colab": {
     "base_uri": "https://localhost:8080/",
     "height": 35
    },
    "colab_type": "code",
    "executionInfo": {
     "elapsed": 973,
     "status": "ok",
     "timestamp": 1580386796154,
     "user": {
      "displayName": "Kiranmai Honey",
      "photoUrl": "https://lh3.googleusercontent.com/a-/AAuE7mCkE6EsF6a9T0vefrY6cWZe3Zw-5s8y9k5mHWb-Kw=s64",
      "userId": "13468006257170405021"
     },
     "user_tz": -330
    },
    "id": "R99pbbmGVaCu",
    "outputId": "c37fcd07-81ba-4908-8e68-d396b24e7d0a"
   },
   "outputs": [
    {
     "data": {
      "text/plain": [
       "23"
      ]
     },
     "execution_count": 26,
     "metadata": {
      "tags": []
     },
     "output_type": "execute_result"
    }
   ],
   "source": [
    "list[1]"
   ]
  },
  {
   "cell_type": "code",
   "execution_count": 0,
   "metadata": {
    "colab": {
     "base_uri": "https://localhost:8080/",
     "height": 35
    },
    "colab_type": "code",
    "executionInfo": {
     "elapsed": 969,
     "status": "ok",
     "timestamp": 1580386828404,
     "user": {
      "displayName": "Kiranmai Honey",
      "photoUrl": "https://lh3.googleusercontent.com/a-/AAuE7mCkE6EsF6a9T0vefrY6cWZe3Zw-5s8y9k5mHWb-Kw=s64",
      "userId": "13468006257170405021"
     },
     "user_tz": -330
    },
    "id": "py7E-mkiZL5R",
    "outputId": "aec5986a-8d8a-4800-9c3f-7adab9842321"
   },
   "outputs": [
    {
     "data": {
      "text/plain": [
       "4"
      ]
     },
     "execution_count": 27,
     "metadata": {
      "tags": []
     },
     "output_type": "execute_result"
    }
   ],
   "source": [
    "list[-3]"
   ]
  },
  {
   "cell_type": "code",
   "execution_count": 0,
   "metadata": {
    "colab": {
     "base_uri": "https://localhost:8080/",
     "height": 35
    },
    "colab_type": "code",
    "executionInfo": {
     "elapsed": 845,
     "status": "ok",
     "timestamp": 1580386905518,
     "user": {
      "displayName": "Kiranmai Honey",
      "photoUrl": "https://lh3.googleusercontent.com/a-/AAuE7mCkE6EsF6a9T0vefrY6cWZe3Zw-5s8y9k5mHWb-Kw=s64",
      "userId": "13468006257170405021"
     },
     "user_tz": -330
    },
    "id": "HGTR9l73ZTxm",
    "outputId": "99be277a-16bc-48f1-9dbc-b04623f44af2"
   },
   "outputs": [
    {
     "data": {
      "text/plain": [
       "[23, 5]"
      ]
     },
     "execution_count": 29,
     "metadata": {
      "tags": []
     },
     "output_type": "execute_result"
    }
   ],
   "source": [
    "list[1:3]"
   ]
  },
  {
   "cell_type": "code",
   "execution_count": 0,
   "metadata": {
    "colab": {},
    "colab_type": "code",
    "id": "6f5fhQBkZdqH"
   },
   "outputs": [],
   "source": []
  },
  {
   "cell_type": "markdown",
   "metadata": {
    "colab_type": "text",
    "id": "3q6hCI0w0IOb"
   },
   "source": [
    "# How to know any ascii value of a char."
   ]
  },
  {
   "cell_type": "code",
   "execution_count": 21,
   "metadata": {
    "colab": {
     "base_uri": "https://localhost:8080/",
     "height": 35
    },
    "colab_type": "code",
    "executionInfo": {
     "elapsed": 749,
     "status": "ok",
     "timestamp": 1580463782099,
     "user": {
      "displayName": "Kiranmai Honey",
      "photoUrl": "https://lh3.googleusercontent.com/a-/AAuE7mCkE6EsF6a9T0vefrY6cWZe3Zw-5s8y9k5mHWb-Kw=s64",
      "userId": "13468006257170405021"
     },
     "user_tz": -330
    },
    "id": "MUj7nfj10gRc",
    "outputId": "b00276a1-0f0f-4282-afc9-a6baf32526d3"
   },
   "outputs": [
    {
     "name": "stdout",
     "output_type": "stream",
     "text": [
      "python"
     ]
    }
   ],
   "source": [
    " a=  \"python\"\n",
    "# print(type(a))\n",
    " print(a,end =\"\")"
   ]
  },
  {
   "cell_type": "code",
   "execution_count": 2,
   "metadata": {
    "colab": {
     "base_uri": "https://localhost:8080/",
     "height": 35
    },
    "colab_type": "code",
    "executionInfo": {
     "elapsed": 1110,
     "status": "ok",
     "timestamp": 1580461144764,
     "user": {
      "displayName": "Kiranmai Honey",
      "photoUrl": "https://lh3.googleusercontent.com/a-/AAuE7mCkE6EsF6a9T0vefrY6cWZe3Zw-5s8y9k5mHWb-Kw=s64",
      "userId": "13468006257170405021"
     },
     "user_tz": -330
    },
    "id": "ZUALwlVL0n9-",
    "outputId": "3abbd2cc-7348-4662-ed76-2347126bd58f"
   },
   "outputs": [
    {
     "name": "stdout",
     "output_type": "stream",
     "text": [
      "<class 'str'>\n"
     ]
    }
   ],
   "source": [
    " b= \"c\"\n",
    " print(type(b))"
   ]
  },
  {
   "cell_type": "code",
   "execution_count": 7,
   "metadata": {
    "colab": {
     "base_uri": "https://localhost:8080/",
     "height": 87
    },
    "colab_type": "code",
    "executionInfo": {
     "elapsed": 1240,
     "status": "ok",
     "timestamp": 1580461694857,
     "user": {
      "displayName": "Kiranmai Honey",
      "photoUrl": "https://lh3.googleusercontent.com/a-/AAuE7mCkE6EsF6a9T0vefrY6cWZe3Zw-5s8y9k5mHWb-Kw=s64",
      "userId": "13468006257170405021"
     },
     "user_tz": -330
    },
    "id": "7LTG8zci0zAk",
    "outputId": "98096975-4669-41fb-eab9-0ddf35789609"
   },
   "outputs": [
    {
     "name": "stdout",
     "output_type": "stream",
     "text": [
      "10914784\n",
      "10914784\n",
      "10914848\n",
      "<class 'int'>\n"
     ]
    }
   ],
   "source": [
    " a=10\n",
    " b=10\n",
    " c= 12\n",
    "print(id(a))\n",
    "print(id(b))\n",
    "print(id(c))\n",
    "print(type(a))"
   ]
  },
  {
   "cell_type": "code",
   "execution_count": 46,
   "metadata": {
    "colab": {
     "base_uri": "https://localhost:8080/",
     "height": 35
    },
    "colab_type": "code",
    "executionInfo": {
     "elapsed": 1013,
     "status": "ok",
     "timestamp": 1580468362396,
     "user": {
      "displayName": "Kiranmai Honey",
      "photoUrl": "https://lh3.googleusercontent.com/a-/AAuE7mCkE6EsF6a9T0vefrY6cWZe3Zw-5s8y9k5mHWb-Kw=s64",
      "userId": "13468006257170405021"
     },
     "user_tz": -330
    },
    "id": "S65UdpeEPtRP",
    "outputId": "8fe7b738-4db0-4254-c0d6-b98566f1b052"
   },
   "outputs": [
    {
     "name": "stdout",
     "output_type": "stream",
     "text": [
      "[1, 2, 3, 4, 5, 6, 7]\n"
     ]
    }
   ],
   "source": [
    "list = [1,2,3,4,5,6]\n",
    "list.append(7)\n",
    "print(list)"
   ]
  },
  {
   "cell_type": "code",
   "execution_count": 47,
   "metadata": {
    "colab": {
     "base_uri": "https://localhost:8080/",
     "height": 35
    },
    "colab_type": "code",
    "executionInfo": {
     "elapsed": 1087,
     "status": "ok",
     "timestamp": 1580468387425,
     "user": {
      "displayName": "Kiranmai Honey",
      "photoUrl": "https://lh3.googleusercontent.com/a-/AAuE7mCkE6EsF6a9T0vefrY6cWZe3Zw-5s8y9k5mHWb-Kw=s64",
      "userId": "13468006257170405021"
     },
     "user_tz": -330
    },
    "id": "dWiucN_PQVhd",
    "outputId": "4de2e56c-9b61-472a-8de9-41a124ab476f"
   },
   "outputs": [
    {
     "data": {
      "text/plain": [
       "[1, 2, 3, 4, 6, 7]"
      ]
     },
     "execution_count": 47,
     "metadata": {
      "tags": []
     },
     "output_type": "execute_result"
    }
   ],
   "source": [
    "list.remove(5)\n",
    "list"
   ]
  },
  {
   "cell_type": "code",
   "execution_count": 48,
   "metadata": {
    "colab": {
     "base_uri": "https://localhost:8080/",
     "height": 35
    },
    "colab_type": "code",
    "executionInfo": {
     "elapsed": 1002,
     "status": "ok",
     "timestamp": 1580468443620,
     "user": {
      "displayName": "Kiranmai Honey",
      "photoUrl": "https://lh3.googleusercontent.com/a-/AAuE7mCkE6EsF6a9T0vefrY6cWZe3Zw-5s8y9k5mHWb-Kw=s64",
      "userId": "13468006257170405021"
     },
     "user_tz": -330
    },
    "id": "OcKOcMVSQbnW",
    "outputId": "327dbea8-6139-42ba-883f-a118a8391316"
   },
   "outputs": [
    {
     "data": {
      "text/plain": [
       "[]"
      ]
     },
     "execution_count": 48,
     "metadata": {
      "tags": []
     },
     "output_type": "execute_result"
    }
   ],
   "source": [
    "list.clear()\n",
    "list"
   ]
  },
  {
   "cell_type": "code",
   "execution_count": 54,
   "metadata": {
    "colab": {
     "base_uri": "https://localhost:8080/",
     "height": 35
    },
    "colab_type": "code",
    "executionInfo": {
     "elapsed": 1034,
     "status": "ok",
     "timestamp": 1580468667585,
     "user": {
      "displayName": "Kiranmai Honey",
      "photoUrl": "https://lh3.googleusercontent.com/a-/AAuE7mCkE6EsF6a9T0vefrY6cWZe3Zw-5s8y9k5mHWb-Kw=s64",
      "userId": "13468006257170405021"
     },
     "user_tz": -330
    },
    "id": "wn8-1YULQpWp",
    "outputId": "b91c545e-0b37-453a-c72d-276c271c5c43"
   },
   "outputs": [
    {
     "name": "stdout",
     "output_type": "stream",
     "text": [
      "['HI', 'PYTHON', 1, 2, 3, 4]\n"
     ]
    }
   ],
   "source": [
    "l1 = ['HI','PYTHON']\n",
    "l2= [1,2,3,4]\n",
    "len(l1)\n",
    "print(l1+l2)\n"
   ]
  },
  {
   "cell_type": "code",
   "execution_count": 57,
   "metadata": {
    "colab": {
     "base_uri": "https://localhost:8080/",
     "height": 70
    },
    "colab_type": "code",
    "executionInfo": {
     "elapsed": 1094,
     "status": "ok",
     "timestamp": 1580468784059,
     "user": {
      "displayName": "Kiranmai Honey",
      "photoUrl": "https://lh3.googleusercontent.com/a-/AAuE7mCkE6EsF6a9T0vefrY6cWZe3Zw-5s8y9k5mHWb-Kw=s64",
      "userId": "13468006257170405021"
     },
     "user_tz": -330
    },
    "id": "xCDl47pXRiEc",
    "outputId": "ec4cf4ce-3be5-4d4e-8730-dd5ab16b425b"
   },
   "outputs": [
    {
     "name": "stdout",
     "output_type": "stream",
     "text": [
      "1\n",
      "85\n",
      "13\n"
     ]
    }
   ],
   "source": [
    " li = [1,5,28,1,5,25,1,7,5,8,85,10,9]\n",
    " print(min(li))\n",
    " print(max(li))\n",
    " print(len(li))"
   ]
  },
  {
   "cell_type": "code",
   "execution_count": 59,
   "metadata": {
    "colab": {
     "base_uri": "https://localhost:8080/",
     "height": 35
    },
    "colab_type": "code",
    "executionInfo": {
     "elapsed": 1040,
     "status": "ok",
     "timestamp": 1580468832348,
     "user": {
      "displayName": "Kiranmai Honey",
      "photoUrl": "https://lh3.googleusercontent.com/a-/AAuE7mCkE6EsF6a9T0vefrY6cWZe3Zw-5s8y9k5mHWb-Kw=s64",
      "userId": "13468006257170405021"
     },
     "user_tz": -330
    },
    "id": "FLbneGztQ8lA",
    "outputId": "caaac957-6574-4fcb-a979-08c8318fad77"
   },
   "outputs": [
    {
     "name": "stdout",
     "output_type": "stream",
     "text": [
      "190\n"
     ]
    }
   ],
   "source": [
    "print(sum(li))\n"
   ]
  },
  {
   "cell_type": "code",
   "execution_count": 0,
   "metadata": {
    "colab": {},
    "colab_type": "code",
    "id": "3DF8jC-5SD4X"
   },
   "outputs": [],
   "source": [
    "li.sort()"
   ]
  },
  {
   "cell_type": "code",
   "execution_count": 61,
   "metadata": {
    "colab": {
     "base_uri": "https://localhost:8080/",
     "height": 35
    },
    "colab_type": "code",
    "executionInfo": {
     "elapsed": 1096,
     "status": "ok",
     "timestamp": 1580468851261,
     "user": {
      "displayName": "Kiranmai Honey",
      "photoUrl": "https://lh3.googleusercontent.com/a-/AAuE7mCkE6EsF6a9T0vefrY6cWZe3Zw-5s8y9k5mHWb-Kw=s64",
      "userId": "13468006257170405021"
     },
     "user_tz": -330
    },
    "id": "ThqouA8FSLTx",
    "outputId": "fb544857-af41-499f-a103-9828ad2623d4"
   },
   "outputs": [
    {
     "name": "stdout",
     "output_type": "stream",
     "text": [
      "[1, 1, 1, 5, 5, 5, 7, 8, 9, 10, 25, 28, 85]\n"
     ]
    }
   ],
   "source": [
    "print(li)"
   ]
  },
  {
   "cell_type": "code",
   "execution_count": 0,
   "metadata": {
    "colab": {},
    "colab_type": "code",
    "id": "J90OsKIfSMy9"
   },
   "outputs": [],
   "source": [
    "del li[1]"
   ]
  },
  {
   "cell_type": "code",
   "execution_count": 63,
   "metadata": {
    "colab": {
     "base_uri": "https://localhost:8080/",
     "height": 35
    },
    "colab_type": "code",
    "executionInfo": {
     "elapsed": 1398,
     "status": "ok",
     "timestamp": 1580468896465,
     "user": {
      "displayName": "Kiranmai Honey",
      "photoUrl": "https://lh3.googleusercontent.com/a-/AAuE7mCkE6EsF6a9T0vefrY6cWZe3Zw-5s8y9k5mHWb-Kw=s64",
      "userId": "13468006257170405021"
     },
     "user_tz": -330
    },
    "id": "NVy1X_GySWQD",
    "outputId": "ecff11cd-45d1-4c79-da17-743f5aa4d1e3"
   },
   "outputs": [
    {
     "name": "stdout",
     "output_type": "stream",
     "text": [
      "[1, 1, 5, 5, 5, 7, 8, 9, 10, 25, 28, 85]\n"
     ]
    }
   ],
   "source": [
    "print(li)"
   ]
  },
  {
   "cell_type": "code",
   "execution_count": 64,
   "metadata": {
    "colab": {
     "base_uri": "https://localhost:8080/",
     "height": 203
    },
    "colab_type": "code",
    "executionInfo": {
     "elapsed": 1126,
     "status": "error",
     "timestamp": 1580469111763,
     "user": {
      "displayName": "Kiranmai Honey",
      "photoUrl": "https://lh3.googleusercontent.com/a-/AAuE7mCkE6EsF6a9T0vefrY6cWZe3Zw-5s8y9k5mHWb-Kw=s64",
      "userId": "13468006257170405021"
     },
     "user_tz": -330
    },
    "id": "2lgND-3XSXy1",
    "outputId": "e26de14c-602a-466c-d77b-c85581778500"
   },
   "outputs": [
    {
     "ename": "TypeError",
     "evalue": "ignored",
     "output_type": "error",
     "traceback": [
      "\u001b[0;31m---------------------------------------------------------------------------\u001b[0m",
      "\u001b[0;31mTypeError\u001b[0m                                 Traceback (most recent call last)",
      "\u001b[0;32m<ipython-input-64-e4dded6bafcb>\u001b[0m in \u001b[0;36m<module>\u001b[0;34m()\u001b[0m\n\u001b[1;32m      1\u001b[0m \u001b[0mtuple\u001b[0m \u001b[0;34m=\u001b[0m \u001b[0;34m(\u001b[0m\u001b[0;36m1\u001b[0m\u001b[0;34m,\u001b[0m\u001b[0;36m5\u001b[0m\u001b[0;34m,\u001b[0m\u001b[0;36m4\u001b[0m\u001b[0;34m,\u001b[0m\u001b[0;34m'jntu'\u001b[0m\u001b[0;34m)\u001b[0m\u001b[0;34m\u001b[0m\u001b[0;34m\u001b[0m\u001b[0m\n\u001b[0;32m----> 2\u001b[0;31m \u001b[0mtuple\u001b[0m\u001b[0;34m[\u001b[0m\u001b[0;36m1\u001b[0m\u001b[0;34m]\u001b[0m\u001b[0;34m=\u001b[0m\u001b[0;36m7\u001b[0m\u001b[0;34m\u001b[0m\u001b[0;34m\u001b[0m\u001b[0m\n\u001b[0m\u001b[1;32m      3\u001b[0m \u001b[0mprint\u001b[0m\u001b[0;34m(\u001b[0m\u001b[0mtuple\u001b[0m\u001b[0;34m)\u001b[0m\u001b[0;34m\u001b[0m\u001b[0;34m\u001b[0m\u001b[0m\n",
      "\u001b[0;31mTypeError\u001b[0m: 'tuple' object does not support item assignment"
     ]
    }
   ],
   "source": [
    "tuple = (1,5,4,'jntu')\n",
    "tuple[1]=7\n",
    "print(tuple)"
   ]
  },
  {
   "cell_type": "code",
   "execution_count": 66,
   "metadata": {
    "colab": {
     "base_uri": "https://localhost:8080/",
     "height": 52
    },
    "colab_type": "code",
    "executionInfo": {
     "elapsed": 1105,
     "status": "ok",
     "timestamp": 1580469218055,
     "user": {
      "displayName": "Kiranmai Honey",
      "photoUrl": "https://lh3.googleusercontent.com/a-/AAuE7mCkE6EsF6a9T0vefrY6cWZe3Zw-5s8y9k5mHWb-Kw=s64",
      "userId": "13468006257170405021"
     },
     "user_tz": -330
    },
    "id": "tvrd9-SATMTB",
    "outputId": "7994496b-bbe3-49a9-b704-47026028d640"
   },
   "outputs": [
    {
     "name": "stdout",
     "output_type": "stream",
     "text": [
      "<class 'set'>\n"
     ]
    },
    {
     "data": {
      "text/plain": [
       "{0, 1, 2, 5, 47, 652, 654}"
      ]
     },
     "execution_count": 66,
     "metadata": {
      "tags": []
     },
     "output_type": "execute_result"
    }
   ],
   "source": [
    "s= {0,2,654,652,2,0,1,5,47,0}\n",
    "print(type(s))\n",
    "s"
   ]
  },
  {
   "cell_type": "code",
   "execution_count": 69,
   "metadata": {
    "colab": {
     "base_uri": "https://localhost:8080/",
     "height": 35
    },
    "colab_type": "code",
    "executionInfo": {
     "elapsed": 1268,
     "status": "ok",
     "timestamp": 1580469313188,
     "user": {
      "displayName": "Kiranmai Honey",
      "photoUrl": "https://lh3.googleusercontent.com/a-/AAuE7mCkE6EsF6a9T0vefrY6cWZe3Zw-5s8y9k5mHWb-Kw=s64",
      "userId": "13468006257170405021"
     },
     "user_tz": -330
    },
    "id": "npDX3gxxTj3c",
    "outputId": "52740148-426a-4ff8-b9f8-132381a02f3a"
   },
   "outputs": [
    {
     "data": {
      "text/plain": [
       "{0, 1, 2, 5, 32, 47, 652, 654}"
      ]
     },
     "execution_count": 69,
     "metadata": {
      "tags": []
     },
     "output_type": "execute_result"
    }
   ],
   "source": [
    "s.add(32)\n",
    "s"
   ]
  },
  {
   "cell_type": "code",
   "execution_count": 0,
   "metadata": {
    "colab": {},
    "colab_type": "code",
    "id": "kpdLneGtT4z3"
   },
   "outputs": [],
   "source": [
    "s.discard(2)"
   ]
  },
  {
   "cell_type": "code",
   "execution_count": 77,
   "metadata": {
    "colab": {
     "base_uri": "https://localhost:8080/",
     "height": 167
    },
    "colab_type": "code",
    "executionInfo": {
     "elapsed": 1259,
     "status": "error",
     "timestamp": 1580469528801,
     "user": {
      "displayName": "Kiranmai Honey",
      "photoUrl": "https://lh3.googleusercontent.com/a-/AAuE7mCkE6EsF6a9T0vefrY6cWZe3Zw-5s8y9k5mHWb-Kw=s64",
      "userId": "13468006257170405021"
     },
     "user_tz": -330
    },
    "id": "mgwkUaBbULG6",
    "outputId": "92f263f7-a942-4f17-d56b-0a8ee3caae8c"
   },
   "outputs": [
    {
     "ename": "KeyError",
     "evalue": "ignored",
     "output_type": "error",
     "traceback": [
      "\u001b[0;31m---------------------------------------------------------------------------\u001b[0m",
      "\u001b[0;31mKeyError\u001b[0m                                  Traceback (most recent call last)",
      "\u001b[0;32m<ipython-input-77-00c9e11ad0f3>\u001b[0m in \u001b[0;36m<module>\u001b[0;34m()\u001b[0m\n\u001b[0;32m----> 1\u001b[0;31m \u001b[0ms\u001b[0m\u001b[0;34m.\u001b[0m\u001b[0mremove\u001b[0m\u001b[0;34m(\u001b[0m\u001b[0;36m47\u001b[0m\u001b[0;34m)\u001b[0m\u001b[0;34m\u001b[0m\u001b[0;34m\u001b[0m\u001b[0m\n\u001b[0m",
      "\u001b[0;31mKeyError\u001b[0m: 47"
     ]
    }
   ],
   "source": [
    "s.remove(47)\n"
   ]
  },
  {
   "cell_type": "code",
   "execution_count": 75,
   "metadata": {
    "colab": {
     "base_uri": "https://localhost:8080/",
     "height": 35
    },
    "colab_type": "code",
    "executionInfo": {
     "elapsed": 1159,
     "status": "ok",
     "timestamp": 1580469448258,
     "user": {
      "displayName": "Kiranmai Honey",
      "photoUrl": "https://lh3.googleusercontent.com/a-/AAuE7mCkE6EsF6a9T0vefrY6cWZe3Zw-5s8y9k5mHWb-Kw=s64",
      "userId": "13468006257170405021"
     },
     "user_tz": -330
    },
    "id": "97iHzwMLUUMQ",
    "outputId": "b8772868-c3af-488b-85d6-f56bfbca4e91"
   },
   "outputs": [
    {
     "data": {
      "text/plain": [
       "{0, 1, 32, 652, 654}"
      ]
     },
     "execution_count": 75,
     "metadata": {
      "tags": []
     },
     "output_type": "execute_result"
    }
   ],
   "source": [
    "s"
   ]
  },
  {
   "cell_type": "code",
   "execution_count": 0,
   "metadata": {
    "colab": {},
    "colab_type": "code",
    "id": "UN5LzoWSWe7l"
   },
   "outputs": [],
   "source": [
    "A = {1,2,3,4,6,8,9}\n",
    "B = {7,8,9,10,11}"
   ]
  },
  {
   "cell_type": "code",
   "execution_count": 0,
   "metadata": {
    "colab": {},
    "colab_type": "code",
    "id": "1t8KPyFqiO3t"
   },
   "outputs": [],
   "source": []
  },
  {
   "cell_type": "code",
   "execution_count": 90,
   "metadata": {
    "colab": {
     "base_uri": "https://localhost:8080/",
     "height": 35
    },
    "colab_type": "code",
    "executionInfo": {
     "elapsed": 1032,
     "status": "ok",
     "timestamp": 1580472964694,
     "user": {
      "displayName": "Kiranmai Honey",
      "photoUrl": "https://lh3.googleusercontent.com/a-/AAuE7mCkE6EsF6a9T0vefrY6cWZe3Zw-5s8y9k5mHWb-Kw=s64",
      "userId": "13468006257170405021"
     },
     "user_tz": -330
    },
    "id": "NtTqVvHnUeXP",
    "outputId": "8e3025dc-671a-4ab1-b8cb-a8fe89140168"
   },
   "outputs": [
    {
     "name": "stdout",
     "output_type": "stream",
     "text": [
      "{1, 2, 3, 4, 6, 7, 8, 9, 10, 11}\n"
     ]
    }
   ],
   "source": [
    "print(A | B )"
   ]
  },
  {
   "cell_type": "code",
   "execution_count": 80,
   "metadata": {
    "colab": {
     "base_uri": "https://localhost:8080/",
     "height": 35
    },
    "colab_type": "code",
    "executionInfo": {
     "elapsed": 1086,
     "status": "ok",
     "timestamp": 1580472737147,
     "user": {
      "displayName": "Kiranmai Honey",
      "photoUrl": "https://lh3.googleusercontent.com/a-/AAuE7mCkE6EsF6a9T0vefrY6cWZe3Zw-5s8y9k5mHWb-Kw=s64",
      "userId": "13468006257170405021"
     },
     "user_tz": -330
    },
    "id": "-TAanYqGg2Ac",
    "outputId": "5b57735a-6c2b-42e8-b3fa-e84cbbda08e6"
   },
   "outputs": [
    {
     "name": "stdout",
     "output_type": "stream",
     "text": [
      "{1, 2, 3, 4, 6, 7, 8, 9, 10, 11}\n"
     ]
    }
   ],
   "source": [
    "print (A.union(B))"
   ]
  },
  {
   "cell_type": "code",
   "execution_count": 91,
   "metadata": {
    "colab": {
     "base_uri": "https://localhost:8080/",
     "height": 35
    },
    "colab_type": "code",
    "executionInfo": {
     "elapsed": 1067,
     "status": "ok",
     "timestamp": 1580472975982,
     "user": {
      "displayName": "Kiranmai Honey",
      "photoUrl": "https://lh3.googleusercontent.com/a-/AAuE7mCkE6EsF6a9T0vefrY6cWZe3Zw-5s8y9k5mHWb-Kw=s64",
      "userId": "13468006257170405021"
     },
     "user_tz": -330
    },
    "id": "dowU4R9xhBh3",
    "outputId": "fc655a65-ab2c-41ba-f1a7-8cd129ca947c"
   },
   "outputs": [
    {
     "name": "stdout",
     "output_type": "stream",
     "text": [
      "{8, 9}\n"
     ]
    }
   ],
   "source": [
    "print (A & B)"
   ]
  },
  {
   "cell_type": "markdown",
   "metadata": {
    "colab_type": "text",
    "id": "bj_9eTmUiBfI"
   },
   "source": []
  },
  {
   "cell_type": "code",
   "execution_count": 92,
   "metadata": {
    "colab": {
     "base_uri": "https://localhost:8080/",
     "height": 35
    },
    "colab_type": "code",
    "executionInfo": {
     "elapsed": 1095,
     "status": "ok",
     "timestamp": 1580472980020,
     "user": {
      "displayName": "Kiranmai Honey",
      "photoUrl": "https://lh3.googleusercontent.com/a-/AAuE7mCkE6EsF6a9T0vefrY6cWZe3Zw-5s8y9k5mHWb-Kw=s64",
      "userId": "13468006257170405021"
     },
     "user_tz": -330
    },
    "id": "t_cbgUaChRxF",
    "outputId": "f75c12a6-153a-4bad-a8d9-71187ba61248"
   },
   "outputs": [
    {
     "name": "stdout",
     "output_type": "stream",
     "text": [
      "{8, 9}\n"
     ]
    }
   ],
   "source": [
    "print(A.intersection(B))"
   ]
  },
  {
   "cell_type": "code",
   "execution_count": 93,
   "metadata": {
    "colab": {
     "base_uri": "https://localhost:8080/",
     "height": 35
    },
    "colab_type": "code",
    "executionInfo": {
     "elapsed": 1131,
     "status": "ok",
     "timestamp": 1580473022244,
     "user": {
      "displayName": "Kiranmai Honey",
      "photoUrl": "https://lh3.googleusercontent.com/a-/AAuE7mCkE6EsF6a9T0vefrY6cWZe3Zw-5s8y9k5mHWb-Kw=s64",
      "userId": "13468006257170405021"
     },
     "user_tz": -330
    },
    "id": "wLUyfF95hYiA",
    "outputId": "f8bee416-8eca-45b2-94b3-3216c5affa92"
   },
   "outputs": [
    {
     "name": "stdout",
     "output_type": "stream",
     "text": [
      "{1, 2, 3, 4, 6, 7, 10, 11}\n"
     ]
    }
   ],
   "source": [
    "print (A ^ B)"
   ]
  },
  {
   "cell_type": "markdown",
   "metadata": {
    "colab_type": "text",
    "id": "uVWfrsFCkVCO"
   },
   "source": [
    "#### Project Name(Application name- Contact APP)\n",
    "* Add a contact detail\n",
    "* Search the contact details\n",
    "* Modify the contact detail\n",
    "* To delete the contact detail"
   ]
  },
  {
   "cell_type": "code",
   "execution_count": 0,
   "metadata": {
    "colab": {},
    "colab_type": "code",
    "id": "O120InksiHGC"
   },
   "outputs": [],
   "source": []
  }
 ],
 "metadata": {
  "colab": {
   "authorship_tag": "ABX9TyNSG4H+m7eNqecJW1zepxOj",
   "collapsed_sections": [],
   "name": "31-1-2020.ipynb",
   "provenance": []
  },
  "kernelspec": {
   "display_name": "Python 3",
   "language": "python",
   "name": "python3"
  },
  "language_info": {
   "codemirror_mode": {
    "name": "ipython",
    "version": 3
   },
   "file_extension": ".py",
   "mimetype": "text/x-python",
   "name": "python",
   "nbconvert_exporter": "python",
   "pygments_lexer": "ipython3",
   "version": "3.7.4"
  }
 },
 "nbformat": 4,
 "nbformat_minor": 1
}
