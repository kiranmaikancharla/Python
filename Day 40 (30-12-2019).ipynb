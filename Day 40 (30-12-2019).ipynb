{
 "cells": [
  {
   "cell_type": "markdown",
   "metadata": {},
   "source": [
    "## Accessing values in Stings"
   ]
  },
  {
   "cell_type": "code",
   "execution_count": 7,
   "metadata": {},
   "outputs": [
    {
     "name": "stdout",
     "output_type": "stream",
     "text": [
      "v1[0]: R\n",
      "v2[1:5]: Soft\n"
     ]
    }
   ],
   "source": [
    "v1 = \"Rajeevi\"\n",
    "v2 = \" Software Engineering\"\n",
    "print(\"v1[0]:\", v1[0])\n",
    "print(\"v2[1:5]:\", v2[1:5])"
   ]
  },
  {
   "cell_type": "code",
   "execution_count": 9,
   "metadata": {},
   "outputs": [
    {
     "name": "stdout",
     "output_type": "stream",
     "text": [
      "Rajee learning python\n"
     ]
    }
   ],
   "source": [
    "str =\"rajee learning python\"\n",
    "print(str.capitalize())"
   ]
  },
  {
   "cell_type": "code",
   "execution_count": 10,
   "metadata": {},
   "outputs": [
    {
     "name": "stdout",
     "output_type": "stream",
     "text": [
      "rajee learning python\n"
     ]
    }
   ],
   "source": [
    "str =\"rajee learning python\"\n",
    "print(str.lower())"
   ]
  },
  {
   "cell_type": "code",
   "execution_count": 13,
   "metadata": {},
   "outputs": [
    {
     "name": "stdout",
     "output_type": "stream",
     "text": [
      "p:y:t:h:o:n\n"
     ]
    }
   ],
   "source": [
    "print(\":\".join(\"python\"))"
   ]
  },
  {
   "cell_type": "code",
   "execution_count": 16,
   "metadata": {},
   "outputs": [
    {
     "name": "stdout",
     "output_type": "stream",
     "text": [
      "5,4,3,2,1\n"
     ]
    }
   ],
   "source": [
    "str =\"12345\"\n",
    "print(','.join(reversed(str)))"
   ]
  },
  {
   "cell_type": "code",
   "execution_count": 21,
   "metadata": {},
   "outputs": [
    {
     "name": "stdout",
     "output_type": "stream",
     "text": [
      "['rajee', 'learning', 'python']\n"
     ]
    }
   ],
   "source": [
    "str = \"rajee learning python\"\n",
    "print(str.split(\" \"))"
   ]
  },
  {
   "cell_type": "code",
   "execution_count": 22,
   "metadata": {},
   "outputs": [
    {
     "name": "stdout",
     "output_type": "stream",
     "text": [
      "['', 'ajee lea', 'ning python']\n"
     ]
    }
   ],
   "source": [
    "str = \"rajee learning python\"\n",
    "print(str.split(\"r\"))"
   ]
  },
  {
   "cell_type": "code",
   "execution_count": 25,
   "metadata": {},
   "outputs": [
    {
     "name": "stdout",
     "output_type": "stream",
     "text": [
      "Vennela\n"
     ]
    }
   ],
   "source": [
    "old= \"Rajeevi\"\n",
    "new= old.replace(\"Rajeevi\",\"Vennela\")\n",
    "print(new)"
   ]
  },
  {
   "cell_type": "markdown",
   "metadata": {},
   "source": [
    "## Tupple"
   ]
  },
  {
   "cell_type": "code",
   "execution_count": 26,
   "metadata": {},
   "outputs": [
    {
     "name": "stdout",
     "output_type": "stream",
     "text": [
      "rob\n",
      "(2, 3, 4)\n"
     ]
    }
   ],
   "source": [
    "t1 = ('rob','car','ram','sita')\n",
    "t2 = (1,2,3,4,5,6,7)\n",
    "print(t1[0])\n",
    "print(t2[1:4])"
   ]
  },
  {
   "cell_type": "markdown",
   "metadata": {},
   "source": [
    "## Packing and Unpacking"
   ]
  },
  {
   "cell_type": "code",
   "execution_count": 27,
   "metadata": {},
   "outputs": [
    {
     "name": "stdout",
     "output_type": "stream",
     "text": [
      "Rajee\n",
      "43\n",
      "Education\n"
     ]
    }
   ],
   "source": [
    "x= ('Rajee',43,'Education') #tuple packing\n",
    "(company, emp, profile) =x #tuple unpacking\n",
    "print(company)\n",
    "print(emp)\n",
    "print(profile)"
   ]
  },
  {
   "cell_type": "code",
   "execution_count": 29,
   "metadata": {},
   "outputs": [
    {
     "name": "stdout",
     "output_type": "stream",
     "text": [
      "a is big\n"
     ]
    }
   ],
   "source": [
    "a =(5,6)\n",
    "b =(1,4)\n",
    "if a>b:\n",
    "    print('a is big')\n",
    "else:\n",
    "    print('b is big')"
   ]
  },
  {
   "cell_type": "code",
   "execution_count": 34,
   "metadata": {},
   "outputs": [
    {
     "name": "stdout",
     "output_type": "stream",
     "text": [
      "a is big\n"
     ]
    }
   ],
   "source": [
    "a =(6,3)\n",
    "b =(5,4)\n",
    "if a>b:\n",
    "    print('a is big')\n",
    "else:\n",
    "    print('b is big')"
   ]
  },
  {
   "cell_type": "code",
   "execution_count": 32,
   "metadata": {},
   "outputs": [
    {
     "name": "stdout",
     "output_type": "stream",
     "text": [
      "b is big\n"
     ]
    }
   ],
   "source": [
    "a =(5,6)\n",
    "b =(6,4)\n",
    "if a>b:\n",
    "    print('a is big')\n",
    "else:\n",
    "    print('b is big')"
   ]
  },
  {
   "cell_type": "code",
   "execution_count": null,
   "metadata": {},
   "outputs": [],
   "source": []
  },
  {
   "cell_type": "code",
   "execution_count": null,
   "metadata": {},
   "outputs": [],
   "source": []
  },
  {
   "cell_type": "code",
   "execution_count": null,
   "metadata": {},
   "outputs": [],
   "source": []
  },
  {
   "cell_type": "code",
   "execution_count": null,
   "metadata": {},
   "outputs": [],
   "source": []
  },
  {
   "cell_type": "code",
   "execution_count": null,
   "metadata": {},
   "outputs": [],
   "source": []
  },
  {
   "cell_type": "code",
   "execution_count": null,
   "metadata": {},
   "outputs": [],
   "source": []
  }
 ],
 "metadata": {
  "kernelspec": {
   "display_name": "Python 3",
   "language": "python",
   "name": "python3"
  },
  "language_info": {
   "codemirror_mode": {
    "name": "ipython",
    "version": 3
   },
   "file_extension": ".py",
   "mimetype": "text/x-python",
   "name": "python",
   "nbconvert_exporter": "python",
   "pygments_lexer": "ipython3",
   "version": "3.7.4"
  }
 },
 "nbformat": 4,
 "nbformat_minor": 2
}
