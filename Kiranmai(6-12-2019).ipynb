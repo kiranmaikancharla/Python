{
 "cells": [
  {
   "cell_type": "markdown",
   "metadata": {},
   "source": [
    "# Write a python program to solve a classic ancient chinese puzzle"
   ]
  },
  {
   "cell_type": "code",
   "execution_count": 3,
   "metadata": {},
   "outputs": [
    {
     "name": "stdout",
     "output_type": "stream",
     "text": [
      "enter no.of legs:10\n",
      "enter no.of heads:5\n",
      "5 0\n"
     ]
    }
   ],
   "source": [
    "def puzzle(legs,heads):\n",
    "    if legs%2!=0 or heads==0 or heads>legs:\n",
    "        print('No solution')\n",
    "    else:\n",
    "        r=int((legs+(-2*heads))/2)\n",
    "        c=(heads-r)\n",
    "        print(c,r)\n",
    "legs=int(input(\"enter no.of legs:\"))\n",
    "heads=int(input(\"enter no.of heads:\"))\n",
    "puzzle(legs,heads)"
   ]
  },
  {
   "cell_type": "markdown",
   "metadata": {},
   "source": [
    "### Write a function to find the medical speciality visited by the max no.of patients and return the name of the speciality"
   ]
  },
  {
   "cell_type": "code",
   "execution_count": 10,
   "metadata": {},
   "outputs": [
    {
     "name": "stdout",
     "output_type": "stream",
     "text": [
      "{'P': 'Pediatrics', 'O': 'Orthopedics', 'E': 'ENT'}\n"
     ]
    }
   ],
   "source": [
    "dic={'P':'Pediatrics','O':'Orthopedics','E':'ENT'}\n",
    "print(dic)"
   ]
  },
  {
   "cell_type": "code",
   "execution_count": 11,
   "metadata": {},
   "outputs": [
    {
     "data": {
      "text/plain": [
       "dict"
      ]
     },
     "execution_count": 11,
     "metadata": {},
     "output_type": "execute_result"
    }
   ],
   "source": [
    "type(dic)"
   ]
  },
  {
   "cell_type": "code",
   "execution_count": 16,
   "metadata": {},
   "outputs": [],
   "source": [
    "list=[101,'P',102,103,104,105]"
   ]
  },
  {
   "cell_type": "code",
   "execution_count": 18,
   "metadata": {},
   "outputs": [
    {
     "data": {
      "text/plain": [
       "'Pediatrics'"
      ]
     },
     "execution_count": 18,
     "metadata": {},
     "output_type": "execute_result"
    }
   ],
   "source": [
    "def mvs(list,dict):\n",
    "\n",
    "    cP,cO,cE=0,0,0\n",
    "    for i in list:\n",
    "        if 'P'==i:\n",
    "            cP+=1\n",
    "        elif 'E'==i:\n",
    "            cE+=1\n",
    "        elif 'O'==i:\n",
    "            cO+=1\n",
    "       \n",
    "            \n",
    "    if cP>cO and cP>cE:\n",
    "        return dict['P']\n",
    "    elif(cO>cE):\n",
    "        return dict['O']\n",
    "    else:\n",
    "        return dict['E']\n",
    "\n",
    "\n",
    "list=[301,'P',302, 'P' ,305, 'P' ,401, 'E' ,656, 'E']\n",
    "dict={\"P\":\"Pediatrics\",\"O\":\"Orthopedics\",\"E\":\"ENT\"}\n",
    "mvs(list,dict)\n"
   ]
  },
  {
   "cell_type": "code",
   "execution_count": 20,
   "metadata": {},
   "outputs": [
    {
     "ename": "IndentationError",
     "evalue": "unindent does not match any outer indentation level (<tokenize>, line 6)",
     "output_type": "error",
     "traceback": [
      "\u001b[1;36m  File \u001b[1;32m\"<tokenize>\"\u001b[1;36m, line \u001b[1;32m6\u001b[0m\n\u001b[1;33m    {\"rabits\": rabits,\"chicken\":num}\u001b[0m\n\u001b[1;37m    ^\u001b[0m\n\u001b[1;31mIndentationError\u001b[0m\u001b[1;31m:\u001b[0m unindent does not match any outer indentation level\n"
     ]
    }
   ],
   "source": [
    "def chickenrabit(hdcount,legcount):\n",
    "    for num in range(1,hdcount+1):\n",
    "         rabits=hdcount-num\n",
    "            if(num*2)+(rabits*4)==legcount:\n",
    "                return\n",
    "        {\"rabits\": rabits,\"chicken\":num}\n",
    "                return\n",
    "        {\"rabits\":\"failed\",\"chicken\":\"failed\"}\n",
    "        \n",
    "         if _name_ ==\"__main__\":\n",
    "                 solution = chickenAndrabits(35,94)\n",
    "print(\"chicken:\",solution[\"chicken\"])\n",
    "print(\"rabits:\",solution[\"rabits\"])         \n"
   ]
  },
  {
   "cell_type": "code",
   "execution_count": null,
   "metadata": {},
   "outputs": [],
   "source": []
  }
 ],
 "metadata": {
  "kernelspec": {
   "display_name": "Python 3",
   "language": "python",
   "name": "python3"
  },
  "language_info": {
   "codemirror_mode": {
    "name": "ipython",
    "version": 3
   },
   "file_extension": ".py",
   "mimetype": "text/x-python",
   "name": "python",
   "nbconvert_exporter": "python",
   "pygments_lexer": "ipython3",
   "version": "3.7.4"
  }
 },
 "nbformat": 4,
 "nbformat_minor": 2
}
