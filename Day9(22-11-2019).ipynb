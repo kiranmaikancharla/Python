{
 "cells": [
  {
   "cell_type": "markdown",
   "metadata": {},
   "source": [
    "\n",
    "## File Handling"
   ]
  },
  {
   "cell_type": "code",
   "execution_count": 19,
   "metadata": {},
   "outputs": [],
   "source": [
    "f = open('python.txt') #to open a text file"
   ]
  },
  {
   "cell_type": "code",
   "execution_count": 3,
   "metadata": {},
   "outputs": [
    {
     "data": {
      "text/plain": [
       "'r'"
      ]
     },
     "execution_count": 3,
     "metadata": {},
     "output_type": "execute_result"
    }
   ],
   "source": [
    "f.mode #to know the mmode of a file"
   ]
  },
  {
   "cell_type": "code",
   "execution_count": 20,
   "metadata": {},
   "outputs": [
    {
     "data": {
      "text/plain": [
       "'Welcome'"
      ]
     },
     "execution_count": 20,
     "metadata": {},
     "output_type": "execute_result"
    }
   ],
   "source": [
    "f.read(7)   #it is used to display the specified number of words in a line"
   ]
  },
  {
   "cell_type": "code",
   "execution_count": 18,
   "metadata": {},
   "outputs": [
    {
     "data": {
      "text/plain": [
       "'Welcome to python training\\n'"
      ]
     },
     "execution_count": 18,
     "metadata": {},
     "output_type": "execute_result"
    }
   ],
   "source": [
    "f.readline()     #this command is used to display only a single line in a text file"
   ]
  },
  {
   "cell_type": "code",
   "execution_count": 15,
   "metadata": {},
   "outputs": [
    {
     "data": {
      "text/plain": [
       "['Welcome to python training\\n',\n",
       " 'File Handling funtions\\n',\n",
       " 'Basics of python...........']"
      ]
     },
     "execution_count": 15,
     "metadata": {},
     "output_type": "execute_result"
    }
   ],
   "source": [
    "f.readlines()      #this command is used to display the multiple lines in a text file"
   ]
  },
  {
   "cell_type": "code",
   "execution_count": 34,
   "metadata": {},
   "outputs": [],
   "source": [
    "f = open(\"python.txt\",mode = 'w')   #this command is used open the file nd giving which mode it is"
   ]
  },
  {
   "cell_type": "code",
   "execution_count": 35,
   "metadata": {},
   "outputs": [
    {
     "data": {
      "text/plain": [
       "'w'"
      ]
     },
     "execution_count": 35,
     "metadata": {},
     "output_type": "execute_result"
    }
   ],
   "source": [
    "f.mode    #it wil display whether the file is in read mode or write mode"
   ]
  },
  {
   "cell_type": "code",
   "execution_count": 36,
   "metadata": {},
   "outputs": [
    {
     "data": {
      "text/plain": [
       "10"
      ]
     },
     "execution_count": 36,
     "metadata": {},
     "output_type": "execute_result"
    }
   ],
   "source": [
    "f.write(\" this is checking whether it is displaying the txt or not\")     #it is used add the text in the file\n",
    "f.write(\" thank you\")"
   ]
  },
  {
   "cell_type": "code",
   "execution_count": 28,
   "metadata": {},
   "outputs": [
    {
     "data": {
      "text/plain": [
       "False"
      ]
     },
     "execution_count": 28,
     "metadata": {},
     "output_type": "execute_result"
    }
   ],
   "source": [
    "f.closed     #it is used to check whether the file is closed or not"
   ]
  },
  {
   "cell_type": "code",
   "execution_count": 29,
   "metadata": {},
   "outputs": [],
   "source": [
    "f.close()     #it is used to close the file"
   ]
  },
  {
   "cell_type": "code",
   "execution_count": 30,
   "metadata": {},
   "outputs": [
    {
     "data": {
      "text/plain": [
       "True"
      ]
     },
     "execution_count": 30,
     "metadata": {},
     "output_type": "execute_result"
    }
   ],
   "source": [
    "f.closed"
   ]
  },
  {
   "cell_type": "code",
   "execution_count": 17,
   "metadata": {},
   "outputs": [],
   "source": [
    "with open(\"python.txt\", mode = 'w', encoding = 'utf-8') as f1:\n",
    "    a=f1.writelines(\"\\n this is a sample\\n hai helooooo\")\n",
    "    a=f1.write(' \\n thank you \\n')\n",
    "    "
   ]
  },
  {
   "cell_type": "code",
   "execution_count": 18,
   "metadata": {},
   "outputs": [],
   "source": [
    "with open(\"python.txt\", mode = 'a', encoding = 'utf-8') as f1:\n",
    "    a=f1.writelines(\" python prgramming\\n hai helooooo\")\n",
    "    a=f1.write('\\n this is append operation')\n",
    "    "
   ]
  },
  {
   "cell_type": "code",
   "execution_count": 19,
   "metadata": {},
   "outputs": [
    {
     "ename": "ValueError",
     "evalue": "I/O operation on closed file.",
     "output_type": "error",
     "traceback": [
      "\u001b[1;31m---------------------------------------------------------------------------\u001b[0m",
      "\u001b[1;31mValueError\u001b[0m                                Traceback (most recent call last)",
      "\u001b[1;32m<ipython-input-19-54349b07d9c8>\u001b[0m in \u001b[0;36m<module>\u001b[1;34m\u001b[0m\n\u001b[1;32m----> 1\u001b[1;33m \u001b[0ma\u001b[0m\u001b[1;33m=\u001b[0m\u001b[0mf1\u001b[0m\u001b[1;33m.\u001b[0m\u001b[0mread\u001b[0m\u001b[1;33m(\u001b[0m\u001b[1;33m)\u001b[0m\u001b[1;33m\u001b[0m\u001b[1;33m\u001b[0m\u001b[0m\n\u001b[0m",
      "\u001b[1;31mValueError\u001b[0m: I/O operation on closed file."
     ]
    }
   ],
   "source": [
    "a=f1.read()"
   ]
  },
  {
   "cell_type": "code",
   "execution_count": 20,
   "metadata": {},
   "outputs": [
    {
     "name": "stdout",
     "output_type": "stream",
     "text": [
      " this is a sample\n",
      " hai helooooo \n",
      " thank you \n",
      " python prgramming\n",
      " hai helooooo\n",
      " this is append operation\n"
     ]
    }
   ],
   "source": [
    "x=open(\"python.txt\",mode='r')\n",
    "for i in x:\n",
    "    print(x.read())"
   ]
  },
  {
   "cell_type": "markdown",
   "metadata": {},
   "source": [
    "## Function to create a file and write to the file\n"
   ]
  },
  {
   "cell_type": "code",
   "execution_count": 33,
   "metadata": {},
   "outputs": [],
   "source": [
    "def fileopr(x):\n",
    "    x=open(\"python.txt\", mode = 'w', encoding = 'utf-8')\n",
    "    x.writelines(\"\\n to write a file \\n and to create the file\")\n",
    "    x.write(\"\\n through python functions\")\n",
    "    \n",
    "fileopr(x)"
   ]
  },
  {
   "cell_type": "markdown",
   "metadata": {},
   "source": [
    "## Function to read of the file\n",
    "\n"
   ]
  },
  {
   "cell_type": "code",
   "execution_count": 28,
   "metadata": {},
   "outputs": [
    {
     "name": "stdout",
     "output_type": "stream",
     "text": [
      " to write a file \n",
      " and to create the file\n",
      " through python functions\n"
     ]
    }
   ],
   "source": [
    "a=open(\"python.txt\", mode='r')\n",
    "for i in a:\n",
    "    print(a.read())"
   ]
  },
  {
   "cell_type": "markdown",
   "metadata": {},
   "source": [
    "## Word Count Program-Count the number of words present in the text file.\n"
   ]
  },
  {
   "cell_type": "code",
   "execution_count": 60,
   "metadata": {},
   "outputs": [
    {
     "name": "stdout",
     "output_type": "stream",
     "text": [
      "file name:python.txt\n",
      "12\n"
     ]
    }
   ],
   "source": [
    "def wordcount(fname):\n",
    "    count=0\n",
    "    with open(fname,mode='r') as f1:\n",
    "        for i in f1:\n",
    "            words=i.split()\n",
    "            count=count+len(words)\n",
    "    print(count)\n",
    "fname=input(\"file name:\")    \n",
    "wordcount(fname)"
   ]
  },
  {
   "cell_type": "markdown",
   "metadata": {},
   "source": [
    "## Count the number of characters from the given file\n"
   ]
  },
  {
   "cell_type": "code",
   "execution_count": 67,
   "metadata": {},
   "outputs": [
    {
     "name": "stdout",
     "output_type": "stream",
     "text": [
      "enter file name:python.txt\n",
      "64\n"
     ]
    }
   ],
   "source": [
    "def charcount(fname):\n",
    "    count=0\n",
    "    f1=open(fname, mode='r')\n",
    "    x=f1.read()\n",
    "    for i in x:\n",
    "        count=count+1\n",
    "    print(count)\n",
    "fname=input(\"enter file name:\")\n",
    "charcount(fname)"
   ]
  },
  {
   "cell_type": "markdown",
   "metadata": {},
   "source": [
    "## Function to find the no of lines in the input file:\n",
    "        Input -- filename(file2.txt)\n",
    "        Output -- No of Lines(12)"
   ]
  },
  {
   "cell_type": "code",
   "execution_count": 75,
   "metadata": {},
   "outputs": [
    {
     "name": "stdout",
     "output_type": "stream",
     "text": [
      " file name:python.txt\n",
      "no of lines ( 4 )\n"
     ]
    }
   ],
   "source": [
    "def noOfLines(fname):\n",
    "    count=0\n",
    "    f1=open(fname,'r')\n",
    "    for i in f1:\n",
    "        count=count+1\n",
    "    print(\"no of lines\",\"(\",count,\")\")\n",
    "fname=input(\" file name:\")         \n",
    "noOfLines(fname)"
   ]
  },
  {
   "cell_type": "markdown",
   "metadata": {},
   "source": [
    "## Function to print the Upper and Lower characters from the given file.\n"
   ]
  },
  {
   "cell_type": "code",
   "execution_count": 15,
   "metadata": {},
   "outputs": [
    {
     "name": "stdout",
     "output_type": "stream",
     "text": [
      "58\n",
      "9\n"
     ]
    }
   ],
   "source": [
    "lower = 0\n",
    "upper = 0\n",
    "with open(\"python.txt\",'r') as f1:\n",
    "        x=f1.read()\n",
    "        for i in x:\n",
    "            if (ord(i)>=97 and ord(i)<=122):\n",
    "                lower=lower+1\n",
    "            elif (ord(i)>=65 and ord(i)<=90):\n",
    "                upper=upper+1\n",
    "                \n",
    "        print(lower)\n",
    "        print(upper)"
   ]
  },
  {
   "cell_type": "code",
   "execution_count": 13,
   "metadata": {
    "scrolled": true
   },
   "outputs": [],
   "source": [
    "def upperlowerchar(fname):\n",
    "    upper=0\n",
    "    lower=0\n",
    "    with open(fname,'r') as f1:\n",
    "        \n",
    "        x=f1.read()\n",
    "        for i in x:\n",
    "            if (ord(x[i])>=97 and ord(x[i])<=122):\n",
    "                lower=lower+1\n",
    "            elif (ord(x[i])>=65 and ord(x[i])<=90):\n",
    "                upper=upper+1\n",
    "        print(lower)\n",
    "        print(upper)\n",
    "            \n",
    "fname=\"python.txt\"\n",
    "#upperlowerchar(fname)\n"
   ]
  },
  {
   "cell_type": "code",
   "execution_count": 12,
   "metadata": {},
   "outputs": [
    {
     "name": "stdout",
     "output_type": "stream",
     "text": [
      "upper char is TWCTPFRMG\n",
      "lower char is o rite a file \n",
      "and to reate the file\n",
      "hrough ython unctions\n",
      "ajee is a ad irl\n",
      "\n"
     ]
    }
   ],
   "source": [
    "def upperlowerchar(fname):\n",
    "    lower=''\n",
    "    upper=''\n",
    "    with open(fname,'r') as fn:\n",
    "        x=fn.read()\n",
    "        for i in x:\n",
    "            if i.isupper()==True:\n",
    "                upper=upper+(i)\n",
    "            else:\n",
    "                lower=lower+(i)\n",
    "        print(\"upper char is\",upper)\n",
    "        print(\"lower char is\",lower)\n",
    "fname=\"python.txt\"\n",
    "upperlowerchar(fname)\n",
    "                "
   ]
  },
  {
   "cell_type": "code",
   "execution_count": null,
   "metadata": {},
   "outputs": [],
   "source": []
  },
  {
   "cell_type": "code",
   "execution_count": null,
   "metadata": {},
   "outputs": [],
   "source": []
  }
 ],
 "metadata": {
  "kernelspec": {
   "display_name": "Python 3",
   "language": "python",
   "name": "python3"
  },
  "language_info": {
   "codemirror_mode": {
    "name": "ipython",
    "version": 3
   },
   "file_extension": ".py",
   "mimetype": "text/x-python",
   "name": "python",
   "nbconvert_exporter": "python",
   "pygments_lexer": "ipython3",
   "version": "3.7.4"
  }
 },
 "nbformat": 4,
 "nbformat_minor": 2
}
