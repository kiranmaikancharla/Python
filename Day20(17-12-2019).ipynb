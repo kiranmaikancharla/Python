{
 "cells": [
  {
   "cell_type": "markdown",
   "metadata": {},
   "source": [
    "### Functions with String Operations:"
   ]
  },
  {
   "cell_type": "code",
   "execution_count": 1,
   "metadata": {},
   "outputs": [
    {
     "data": {
      "text/plain": [
       "'nohtyP'"
      ]
     },
     "execution_count": 1,
     "metadata": {},
     "output_type": "execute_result"
    }
   ],
   "source": [
    "# reverse the string\n",
    "\n",
    "def reverseStr(s):\n",
    "    return s[-1::-1]\n",
    "reverseStr(\"Python\")"
   ]
  },
  {
   "cell_type": "code",
   "execution_count": 5,
   "metadata": {},
   "outputs": [
    {
     "name": "stdout",
     "output_type": "stream",
     "text": [
      "False\n",
      "True\n"
     ]
    }
   ],
   "source": [
    "# To check the given string is Palindrome or not a palindrome\n",
    "\n",
    "def isPalindrome(s):\n",
    "    if s == s[-1::-1]:\n",
    "        return True\n",
    "    return False\n",
    "print(isPalindrome('Python'))\n",
    "print(isPalindrome('manam'))"
   ]
  },
  {
   "cell_type": "code",
   "execution_count": 8,
   "metadata": {},
   "outputs": [
    {
     "name": "stdout",
     "output_type": "stream",
     "text": [
      "P T "
     ]
    }
   ],
   "source": [
    "# Function to print the Upper case charectors\n",
    "# Example : PyThon -- P T\n",
    "\n",
    "# ASCII\n",
    "# A - Z : 65 - 90\n",
    "# a - z : 97 - 122\n",
    "# 0 - 9 : 48 - 57\n",
    "# space : 32\n",
    "\n",
    "def printUpper(s):\n",
    "    for i  in range(len(s)):\n",
    "        if ord(s[i]) >= 65 and ord(s[i]) <= 90:\n",
    "            print(s[i],end = ' ')\n",
    "    return\n",
    "printUpper(\"PyThon\")# P T"
   ]
  },
  {
   "cell_type": "code",
   "execution_count": 9,
   "metadata": {},
   "outputs": [
    {
     "data": {
      "text/plain": [
       "97"
      ]
     },
     "execution_count": 9,
     "metadata": {},
     "output_type": "execute_result"
    }
   ],
   "source": [
    "ord(\"a\") # ord() function gives the output as number which is equ to ASCII num"
   ]
  },
  {
   "cell_type": "code",
   "execution_count": 15,
   "metadata": {},
   "outputs": [
    {
     "name": "stdout",
     "output_type": "stream",
     "text": [
      "SameCount\n",
      "None\n",
      "Programming\n",
      "None\n"
     ]
    }
   ],
   "source": [
    "# Function to return the output as \"SameCount\" or \"Programming\"\n",
    "# SameCount -- Lower and Upper chars have same count\n",
    "# Programing -- Count of Lower and Upper case is not same\n",
    "\n",
    "# Example #1 : PyThOn -- 3 P T O\n",
    "#                     -- 3 y h n\n",
    "# Output : SameCount\n",
    "\n",
    "# Example #2 : PythoN -- 2 P N\n",
    "#                     -- 4 y t h o\n",
    "# Output : Programming\n",
    "\n",
    "def count(s):\n",
    "    c1 = 0\n",
    "    c2 = 0\n",
    "    for i in range(len(s)):\n",
    "        if ord(s[i]) >= 65 and ord(s[i]) <= 90 :\n",
    "            c1 = c1 + 1\n",
    "        elif ord(s[i]) >= 97 and ord(s[i]) <=122 :\n",
    "            c2 = c2 + 1\n",
    "    if c1 == c2:\n",
    "        print(\"SameCount\")\n",
    "    else :\n",
    "        print(\"Programming\")\n",
    "    return\n",
    "print(count(\"PyThOn\"))\n",
    "print(count(\"PythoN\"))"
   ]
  },
  {
   "cell_type": "code",
   "execution_count": 17,
   "metadata": {},
   "outputs": [
    {
     "name": "stdout",
     "output_type": "stream",
     "text": [
      "1 8 8 9 "
     ]
    }
   ],
   "source": [
    "# Function to Extract the digits from the string\n",
    "# Example #1 :\n",
    "# Input : Appli18cation89\n",
    "# Output : 1 8 8 9\n",
    "\n",
    "def extractDigits(s):\n",
    "    for i in range(len(s)):\n",
    "        if ord(s[i]) >= 48 and ord(s[i]) <= 57:\n",
    "            print(s[i],end = \" \")\n",
    "    return\n",
    "extractDigits(\"Appli18cation89\")"
   ]
  },
  {
   "cell_type": "code",
   "execution_count": 20,
   "metadata": {},
   "outputs": [
    {
     "data": {
      "text/plain": [
       "26"
      ]
     },
     "execution_count": 20,
     "metadata": {},
     "output_type": "execute_result"
    }
   ],
   "source": [
    "# Function to add the digits of the string\n",
    "# Example #1 :\n",
    "# Input : Appli18cation89\n",
    "# Output : 26 (1+8+8+9)\n",
    "\n",
    "def sum(s):\n",
    "    sum = 0\n",
    "    for i in range(len(s)):\n",
    "        if ord(s[i]) >= 48 and ord(s[i]) <= 57 :\n",
    "            sum = sum + (ord(s[i])-48)\n",
    "    return sum\n",
    "sum(\"Appli18cation89\")"
   ]
  },
  {
   "cell_type": "code",
   "execution_count": 22,
   "metadata": {},
   "outputs": [
    {
     "name": "stdout",
     "output_type": "stream",
     "text": [
      "MADE"
     ]
    }
   ],
   "source": [
    "# Function to 2nd word in Upper case\n",
    "# Example #1 :\n",
    "# Input : Python Made Easy\n",
    "# Output : MADE\n",
    "\n",
    "# Example #2 :\n",
    "# Input : Learn Python Strings\n",
    "# Output : PYTHON\n",
    "\n",
    "def wordUpper(s):\n",
    "    spacecount = 0\n",
    "    for i in range(len(s)):\n",
    "        if ord(s[i]) == 32:\n",
    "            spacecount = spacecount + 1\n",
    "        if spacecount == 1 :\n",
    "            if ord(s[i]) >= 65 and ord(s[i]) <= 90:\n",
    "                print(s[i],end='')\n",
    "            elif ord(s[i]) >= 97 and ord(s[i]) <= 122 :\n",
    "                print(chr(ord(s[i])-32),end='')\n",
    "        if spacecount == 2 :\n",
    "            break\n",
    "    return\n",
    "wordUpper(\"Python Made Easy\") # MADE \n"
   ]
  },
  {
   "cell_type": "markdown",
   "metadata": {},
   "source": [
    "### List\n",
    "- One of the Data structure in Python\n",
    "- Data Structure means to store, sort and search options\n",
    "- It's one common Data Structure in Python, the items of List seperated by comma and enclosed in square brackets []\n",
    "      - Example \n",
    "         - list1 = [1,2,3,4,5]\n",
    "         - list2 = [\"Gitam\",1,2,1.89,\"vizag\"]"
   ]
  },
  {
   "cell_type": "code",
   "execution_count": 30,
   "metadata": {},
   "outputs": [
    {
     "name": "stdout",
     "output_type": "stream",
     "text": [
      "[1, 4, 5, 6, 8]\n",
      "1\n",
      "4\n",
      "8\n",
      "6\n",
      "[5, 6, 8]\n",
      "[5, 6]\n"
     ]
    }
   ],
   "source": [
    "li = [1,4,5,6,8]\n",
    "print(li)\n",
    "print(li[0])\n",
    "print(li[1])\n",
    "print(li[-1])\n",
    "print(li[-2])\n",
    "print(li[2:])\n",
    "print(li[2:4])"
   ]
  },
  {
   "cell_type": "code",
   "execution_count": 33,
   "metadata": {},
   "outputs": [
    {
     "name": "stdout",
     "output_type": "stream",
     "text": [
      "['Gitam', 1547, 2324, 5454, 'Vizag']\n",
      "['Gitam', 3243, 2324, 5454, 'Vizag']\n"
     ]
    }
   ],
   "source": [
    "li = [\"Gitam\",1547,2324,5454,\"Vizag\"]\n",
    "print(li)\n",
    "# Update the list item with value using Index\n",
    "li[1] = 3243 \n",
    "print(li)"
   ]
  },
  {
   "cell_type": "code",
   "execution_count": 34,
   "metadata": {},
   "outputs": [
    {
     "name": "stdout",
     "output_type": "stream",
     "text": [
      "['Gitam', 3243, 2324, 'Vizag']\n"
     ]
    }
   ],
   "source": [
    "# Delete the list item from the list\n",
    "del li[3]\n",
    "print(li)"
   ]
  },
  {
   "cell_type": "code",
   "execution_count": 41,
   "metadata": {},
   "outputs": [
    {
     "name": "stdout",
     "output_type": "stream",
     "text": [
      "5\n",
      "[1, 2, 3, 4, 5, 1, 2, 3, 4, 5]\n",
      "True\n",
      "False\n",
      "1 2 3 4 5 \n",
      "1 2 3 4 5 "
     ]
    }
   ],
   "source": [
    "# Basic List operations \n",
    "li = [1,2,3,4,5]\n",
    "# Len of the list\n",
    "print(len(li))\n",
    "# List Repetition\n",
    "print(li * 2)\n",
    "# To know certain item is present in the list or not\n",
    "print(4 in li)\n",
    "print(10 in li)\n",
    "# Access the list items from the Iterations\n",
    "for i in range(len(li)):\n",
    "    print(li[i],end= ' ')\n",
    "print()\n",
    "# 2.way to print the list items\n",
    "for i in li:\n",
    "    print(i,end = ' ')"
   ]
  },
  {
   "cell_type": "code",
   "execution_count": 6,
   "metadata": {},
   "outputs": [
    {
     "name": "stdout",
     "output_type": "stream",
     "text": [
      "25\n",
      "1\n",
      "55\n",
      "11\n"
     ]
    }
   ],
   "source": [
    "# Basic list Functions\n",
    "li = [1,9,5,25,15]\n",
    "print(max(li)) # Max number of the list\n",
    "print(min(li)) # Min number of the list\n",
    "print(sum(li)) # Sum of the All list items\n",
    "print(sum(li)//len(li)) # Avg of Lists items"
   ]
  },
  {
   "cell_type": "code",
   "execution_count": 49,
   "metadata": {},
   "outputs": [
    {
     "name": "stdout",
     "output_type": "stream",
     "text": [
      "[1, 9, 16, 25, 5]\n"
     ]
    },
    {
     "data": {
      "text/plain": [
       "[1, 9, 56, 16, 25, 5, 29, 9]"
      ]
     },
     "execution_count": 49,
     "metadata": {},
     "output_type": "execute_result"
    }
   ],
   "source": [
    "# Methods of list\n",
    "li = [1,9,16,25,5]\n",
    "print(li)\n",
    "li.append(29)# Add the new item at the end of list\n",
    "li.insert(2,56) # ADd the new item at the specific index\n",
    "li.append(9)\n",
    "li\n"
   ]
  },
  {
   "cell_type": "code",
   "execution_count": 50,
   "metadata": {},
   "outputs": [
    {
     "name": "stdout",
     "output_type": "stream",
     "text": [
      "[1, 9, 16, 25, 5]\n"
     ]
    },
    {
     "data": {
      "text/plain": [
       "3"
      ]
     },
     "execution_count": 50,
     "metadata": {},
     "output_type": "execute_result"
    }
   ],
   "source": [
    "li = [1,9,16,25,5]\n",
    "print(li)\n",
    "li.count(9) # returns the value how many object repeated\n",
    "li.index(25) # return the value at that index\n"
   ]
  },
  {
   "cell_type": "code",
   "execution_count": 3,
   "metadata": {},
   "outputs": [
    {
     "name": "stdout",
     "output_type": "stream",
     "text": [
      "[1, 9, 16, 25, 9, 5]\n"
     ]
    },
    {
     "data": {
      "text/plain": [
       "2"
      ]
     },
     "execution_count": 3,
     "metadata": {},
     "output_type": "execute_result"
    }
   ],
   "source": [
    "li = [1,9,16,25,9,5]\n",
    "print(li)\n",
    "li.count(9) # returns the value how many object repeated"
   ]
  },
  {
   "cell_type": "code",
   "execution_count": 53,
   "metadata": {},
   "outputs": [
    {
     "data": {
      "text/plain": [
       "[1, 9, 9, 16]"
      ]
     },
     "execution_count": 53,
     "metadata": {},
     "output_type": "execute_result"
    }
   ],
   "source": [
    "# Method of list object\n",
    "li.sort() # sorts the list in ascending order\n",
    "li.pop() # last index value removed\n",
    "li.pop(1) # Removes the items from the specific index \n",
    "li"
   ]
  },
  {
   "cell_type": "code",
   "execution_count": 6,
   "metadata": {},
   "outputs": [
    {
     "data": {
      "text/plain": [
       "[1, 1, 1, 1, 5, 6, 6, 6, 9, 9, 16, 19, 19, 19, 25, 25, 25, 25]"
      ]
     },
     "execution_count": 6,
     "metadata": {},
     "output_type": "execute_result"
    }
   ],
   "source": [
    "li1 = [1,6,19,25]\n",
    "li.extend(li1)\n",
    "li.reverse()\n",
    "li.sort()\n",
    "li"
   ]
  },
  {
   "cell_type": "code",
   "execution_count": 9,
   "metadata": {},
   "outputs": [
    {
     "name": "stdout",
     "output_type": "stream",
     "text": [
      "45\n",
      "22\n"
     ]
    }
   ],
   "source": [
    "# Function to return the large number from the list\n",
    "def largenumber(li):\n",
    "    li.sort()\n",
    "    return li[-1]\n",
    "def genericlarge(li,n):\n",
    "    li.sort()\n",
    "    return li[-n]\n",
    "li = [19,1,25,6,45,22]\n",
    "print(largenumber(li))\n",
    "print(genericlarge(li,3))"
   ]
  },
  {
   "cell_type": "code",
   "execution_count": null,
   "metadata": {},
   "outputs": [],
   "source": []
  },
  {
   "cell_type": "code",
   "execution_count": null,
   "metadata": {},
   "outputs": [],
   "source": []
  },
  {
   "cell_type": "markdown",
   "metadata": {},
   "source": [
    "### Polymorphism"
   ]
  },
  {
   "cell_type": "code",
   "execution_count": 4,
   "metadata": {},
   "outputs": [
    {
     "data": {
      "text/plain": [
       "8"
      ]
     },
     "execution_count": 4,
     "metadata": {},
     "output_type": "execute_result"
    }
   ],
   "source": [
    "3+5  #Addition"
   ]
  },
  {
   "cell_type": "code",
   "execution_count": 5,
   "metadata": {},
   "outputs": [
    {
     "data": {
      "text/plain": [
       "'abcxyz'"
      ]
     },
     "execution_count": 5,
     "metadata": {},
     "output_type": "execute_result"
    }
   ],
   "source": [
    "\"abc\" + \"xyz\" #Concatenation"
   ]
  },
  {
   "cell_type": "code",
   "execution_count": 11,
   "metadata": {},
   "outputs": [
    {
     "name": "stdout",
     "output_type": "stream",
     "text": [
      "69\n"
     ]
    }
   ],
   "source": [
    "# Function Overloading\n",
    "def add(x,y):\n",
    "    return x+y\n",
    "def add(x,y,z):\n",
    "    return x+y+z\n",
    "\n",
    "#print(add(12,23))\n",
    "print(add(12,23,34))"
   ]
  },
  {
   "cell_type": "code",
   "execution_count": 17,
   "metadata": {},
   "outputs": [
    {
     "name": "stdout",
     "output_type": "stream",
     "text": [
      "170\n",
      "62\n"
     ]
    }
   ],
   "source": [
    "# Variable length arguments\n",
    "def add(*x):\n",
    "    s = 0\n",
    "    for i in x:\n",
    "        s = s + i\n",
    "    return s\n",
    "print(add(12,23,34,45,56))\n",
    "print(add(12,20,30))"
   ]
  },
  {
   "cell_type": "code",
   "execution_count": 27,
   "metadata": {},
   "outputs": [
    {
     "name": "stdout",
     "output_type": "stream",
     "text": [
      "60\n"
     ]
    }
   ],
   "source": [
    "# Method Overloading\n",
    "class A:\n",
    "    def add(self,x,y):\n",
    "        print(x+y)\n",
    "    def add(self,x,y,z):\n",
    "        print(x+y+z)\n",
    "a = A()\n",
    "a.add(10,20,30)"
   ]
  },
  {
   "cell_type": "code",
   "execution_count": 32,
   "metadata": {},
   "outputs": [
    {
     "name": "stdout",
     "output_type": "stream",
     "text": [
      "This is class B method\n"
     ]
    }
   ],
   "source": [
    "# Method Overiding\n",
    "class A:\n",
    "    def add(self):\n",
    "        print(\"This is class A method\")\n",
    "class B(A):\n",
    "    def add(self):\n",
    "        print(\"This is class B method\")\n",
    "b = B()\n",
    "b.add()\n",
    "#a = A()\n",
    "#a.add()\n",
    "    "
   ]
  },
  {
   "cell_type": "code",
   "execution_count": null,
   "metadata": {},
   "outputs": [],
   "source": []
  }
 ],
 "metadata": {
  "kernelspec": {
   "display_name": "Python 3",
   "language": "python",
   "name": "python3"
  },
  "language_info": {
   "codemirror_mode": {
    "name": "ipython",
    "version": 3
   },
   "file_extension": ".py",
   "mimetype": "text/x-python",
   "name": "python",
   "nbconvert_exporter": "python",
   "pygments_lexer": "ipython3",
   "version": "3.7.4"
  }
 },
 "nbformat": 4,
 "nbformat_minor": 2
}
