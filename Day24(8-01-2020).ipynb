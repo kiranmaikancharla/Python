{
 "cells": [
  {
   "cell_type": "markdown",
   "metadata": {},
   "source": [
    "### Tuples in Python\n",
    "- Tuples arre similar to List\n",
    "- Used to read the object data\n",
    "- List is Mutable and Tuple are immutable\n",
    "- List object can be used for insert,update,delete\n",
    "- Tuple object can only support for reading\n",
    "- Tuple can be defined as with in parenthisis"
   ]
  },
  {
   "cell_type": "code",
   "execution_count": 1,
   "metadata": {},
   "outputs": [
    {
     "name": "stdout",
     "output_type": "stream",
     "text": [
      "(1, 2, 3, 4, 5)\n",
      "<class 'tuple'>\n"
     ]
    }
   ],
   "source": [
    "t1 = (1,2,3,4,5)\n",
    "print(t1)\n",
    "print(type(t1))"
   ]
  },
  {
   "cell_type": "code",
   "execution_count": 2,
   "metadata": {},
   "outputs": [
    {
     "name": "stdout",
     "output_type": "stream",
     "text": [
      "(1, 2, 3)\n"
     ]
    }
   ],
   "source": [
    "print(t1[0:3])"
   ]
  },
  {
   "cell_type": "code",
   "execution_count": 3,
   "metadata": {},
   "outputs": [
    {
     "name": "stdout",
     "output_type": "stream",
     "text": [
      "(3, 4)\n"
     ]
    }
   ],
   "source": [
    "print(t1[2:-1])"
   ]
  },
  {
   "cell_type": "code",
   "execution_count": 4,
   "metadata": {},
   "outputs": [
    {
     "ename": "TypeError",
     "evalue": "'tuple' object doesn't support item deletion",
     "output_type": "error",
     "traceback": [
      "\u001b[1;31m---------------------------------------------------------------------------\u001b[0m",
      "\u001b[1;31mTypeError\u001b[0m                                 Traceback (most recent call last)",
      "\u001b[1;32m<ipython-input-4-cad7b2ca8ce3>\u001b[0m in \u001b[0;36m<module>\u001b[1;34m\u001b[0m\n\u001b[1;32m----> 1\u001b[1;33m \u001b[1;32mdel\u001b[0m \u001b[0mt1\u001b[0m\u001b[1;33m[\u001b[0m\u001b[1;36m2\u001b[0m\u001b[1;33m]\u001b[0m\u001b[1;33m\u001b[0m\u001b[1;33m\u001b[0m\u001b[0m\n\u001b[0m",
      "\u001b[1;31mTypeError\u001b[0m: 'tuple' object doesn't support item deletion"
     ]
    }
   ],
   "source": [
    "del t1[2]"
   ]
  },
  {
   "cell_type": "code",
   "execution_count": null,
   "metadata": {},
   "outputs": [],
   "source": [
    "t1[1] = 195"
   ]
  },
  {
   "cell_type": "code",
   "execution_count": null,
   "metadata": {},
   "outputs": [],
   "source": [
    "for i in range(len(t1)):\n",
    "    print(t1[i],end = ' ')"
   ]
  },
  {
   "cell_type": "markdown",
   "metadata": {},
   "source": [
    "### Dictionaries in Python\n",
    "- General Purpose data structure in Python\n",
    "- Dict object bsically consists of key and value\n",
    "- Dict object consists of Unique key\n",
    "- Dict object can be enclosed in curly braces - {}\n",
    "- One pair key and value is seperated by comma(,)\n",
    "- Key and value is seperated by colon symbol (:)"
   ]
  },
  {
   "cell_type": "code",
   "execution_count": null,
   "metadata": {},
   "outputs": [],
   "source": [
    "d1 = {'name' : 'kiran', 'emailid' : 'kiranmaihoney73@gmail.com', 'ph' : '9573920592'}\n",
    "print(d1)\n",
    "print(type(d1))"
   ]
  },
  {
   "cell_type": "code",
   "execution_count": null,
   "metadata": {},
   "outputs": [],
   "source": [
    "print(d1['name'])"
   ]
  },
  {
   "cell_type": "code",
   "execution_count": null,
   "metadata": {},
   "outputs": [],
   "source": [
    "li = []\n",
    "li = d1.keys()\n",
    "print(li)"
   ]
  },
  {
   "cell_type": "code",
   "execution_count": null,
   "metadata": {},
   "outputs": [],
   "source": [
    "len(d1.keys())"
   ]
  },
  {
   "cell_type": "code",
   "execution_count": null,
   "metadata": {},
   "outputs": [],
   "source": [
    "li = []\n",
    "for i in d1.keys():\n",
    "    li.append(i)\n",
    "li"
   ]
  },
  {
   "cell_type": "code",
   "execution_count": null,
   "metadata": {},
   "outputs": [],
   "source": [
    "li1 = []\n",
    "li1 = list(d1.keys())\n",
    "print(li1)"
   ]
  },
  {
   "cell_type": "code",
   "execution_count": null,
   "metadata": {},
   "outputs": [],
   "source": [
    "li_Values = []\n",
    "li_Values = list(d1.values())\n",
    "print(li_Values)"
   ]
  },
  {
   "cell_type": "code",
   "execution_count": null,
   "metadata": {},
   "outputs": [],
   "source": [
    "d1['name'] = 'kiranmai'\n",
    "print(d1)"
   ]
  },
  {
   "cell_type": "code",
   "execution_count": null,
   "metadata": {},
   "outputs": [],
   "source": [
    "d1['ph'] = '9573920592'"
   ]
  },
  {
   "cell_type": "code",
   "execution_count": null,
   "metadata": {},
   "outputs": [],
   "source": [
    "print(d1)"
   ]
  },
  {
   "cell_type": "code",
   "execution_count": null,
   "metadata": {},
   "outputs": [],
   "source": [
    "del d1['ph']\n",
    "print(d1)"
   ]
  },
  {
   "cell_type": "code",
   "execution_count": null,
   "metadata": {},
   "outputs": [],
   "source": [
    "'kiranmai' not in li"
   ]
  },
  {
   "cell_type": "markdown",
   "metadata": {},
   "source": [
    "### Contact Application \n",
    "- *** List, Tuple, Dict **\n",
    "- Add a new Contact Details\n",
    "- Search contact\n",
    "- Modify the contact\n",
    "- Delete contact\n",
    "- Sort the contact list name - phone\n",
    "--> One name should have 2 mobile numbers\n",
    "--> Print only names in Sorted Order"
   ]
  },
  {
   "cell_type": "code",
   "execution_count": null,
   "metadata": {},
   "outputs": [],
   "source": [
    "contacts = {} # Empty Dict Object\n",
    "def addContacts(name,ph):\n",
    "    if name not in contacts:\n",
    "        contacts[name] = ph\n",
    "        print(name, \"Inserted Successfully\")\n",
    "    else:\n",
    "        print(name, \"Already Exists\")\n",
    "    return\n",
    "addContacts('kiran',9573920592) # Inserted\n",
    "addContacts('raju',8143719048) # Inserted\n",
    "addContacts('kiran',9010346501) # Error"
   ]
  },
  {
   "cell_type": "code",
   "execution_count": null,
   "metadata": {},
   "outputs": [],
   "source": [
    "def searchContact(name):\n",
    "    if name in contacts:\n",
    "        return name, ':', contacts[name]\n",
    "    return \"Contact is not persent\"\n",
    "print(searchContact('kiran'))\n",
    "print(searchContact('raji'))"
   ]
  },
  {
   "cell_type": "code",
   "execution_count": null,
   "metadata": {},
   "outputs": [],
   "source": [
    "def editContact(name,ph):\n",
    "    if name in contacts:\n",
    "        contacts[name] = ph\n",
    "        print(name, 'Updated Successfully')\n",
    "    else:\n",
    "        print(name, 'Not Exists')\n",
    "    return\n",
    "editContact('kiran',9573920592)\n",
    "editContact('rahul',9573920592)\n"
   ]
  },
  {
   "cell_type": "code",
   "execution_count": null,
   "metadata": {},
   "outputs": [],
   "source": [
    "def deleteContact(name):\n",
    "    if name in contacts:\n",
    "        del contacts[name]\n",
    "        print(name,'Deleted Successfuly')\n",
    "    else:\n",
    "        print(name, \"Not Exists\")\n",
    "    return\n",
    "deleteContact('raju')\n",
    "deleteContact('rohith')"
   ]
  },
  {
   "cell_type": "code",
   "execution_count": 16,
   "metadata": {},
   "outputs": [
    {
     "data": {
      "text/plain": [
       "[('deep', 8801854393),\n",
       " ('deepa', 8500470407),\n",
       " ('gowtham', 9573970407),\n",
       " ('hima', 8500470407),\n",
       " ('monitha', 1295736084),\n",
       " ('padmini', 8341233001),\n",
       " ('raji', 8500540158),\n",
       " ('rani', 7095763348),\n",
       " ('siri', 8500470407),\n",
       " ('sourya', 8500470407)]"
      ]
     },
     "execution_count": 16,
     "metadata": {},
     "output_type": "execute_result"
    }
   ],
   "source": [
    "contacts = {}\n",
    "li = []\n",
    "def sorting(name,ph):\n",
    "    if name not in contacts:\n",
    "        contacts[name,ph]=ph\n",
    "        li = list(contacts)\n",
    "        li.sort()\n",
    "        return li\n",
    "    else:\n",
    "        print(name,'already exists')\n",
    "    return   \n",
    "sorting('rani',7095763348) \n",
    "sorting('padmini',8341233001) \n",
    "sorting('deepa',8500470407)\n",
    "sorting('deep',8801854393)\n",
    "sorting('sourya',8500470407)\n",
    "sorting('hima',8500470407)\n",
    "sorting('gowtham',9573970407)\n",
    "sorting('monitha',1295736084)\n",
    "sorting('siri',8500470407)\n",
    "sorting('raji',8500540158)"
   ]
  },
  {
   "cell_type": "code",
   "execution_count": 22,
   "metadata": {},
   "outputs": [
    {
     "data": {
      "text/plain": [
       "[('deep', 8801854393),\n",
       " ('deepa', 8500470407),\n",
       " ('gowtham', 9573970407),\n",
       " ('hima', 8500470407),\n",
       " ('monitha', 1295736084),\n",
       " ('padmini', 8341233001),\n",
       " ('raji', 8500540158),\n",
       " ('rani', 7095763348),\n",
       " ('siri', 8500470407),\n",
       " ('sourya', 8500470407)]"
      ]
     },
     "execution_count": 22,
     "metadata": {},
     "output_type": "execute_result"
    }
   ],
   "source": [
    "li=[]\n",
    "li=list(contacts)\n",
    "li.sort()\n",
    "li"
   ]
  },
  {
   "cell_type": "code",
   "execution_count": 23,
   "metadata": {},
   "outputs": [
    {
     "data": {
      "text/plain": [
       "{('rani', 7095763348): 7095763348,\n",
       " ('padmini', 8341233001): 8341233001,\n",
       " ('deepa', 8500470407): 8500470407,\n",
       " ('deep', 8801854393): 8801854393,\n",
       " ('sourya', 8500470407): 8500470407,\n",
       " ('hima', 8500470407): 8500470407,\n",
       " ('gowtham', 9573970407): 9573970407,\n",
       " ('monitha', 1295736084): 1295736084,\n",
       " ('siri', 8500470407): 8500470407,\n",
       " ('raji', 8500540158): 8500540158}"
      ]
     },
     "execution_count": 23,
     "metadata": {},
     "output_type": "execute_result"
    }
   ],
   "source": [
    "contacts"
   ]
  },
  {
   "cell_type": "code",
   "execution_count": 25,
   "metadata": {},
   "outputs": [
    {
     "name": "stdout",
     "output_type": "stream",
     "text": [
      "[('rani', 7095763348), ('padmini', 8341233001), ('deepa', 8500470407), ('deep', 8801854393), ('sourya', 8500470407), ('hima', 8500470407), ('gowtham', 9573970407), ('monitha', 1295736084), ('siri', 8500470407), ('raji', 8500540158)]\n"
     ]
    }
   ],
   "source": [
    "d1 = {}\n",
    "li = []\n",
    "li = list(contacts)\n",
    "d1 = dict(contacts)\n",
    "print(list(d1.keys()))\n",
    "#li.sort()\n",
    "#print(li,end=' ')\n"
   ]
  },
  {
   "cell_type": "code",
   "execution_count": null,
   "metadata": {},
   "outputs": [],
   "source": []
  },
  {
   "cell_type": "code",
   "execution_count": null,
   "metadata": {},
   "outputs": [],
   "source": []
  },
  {
   "cell_type": "code",
   "execution_count": null,
   "metadata": {},
   "outputs": [],
   "source": []
  },
  {
   "cell_type": "code",
   "execution_count": null,
   "metadata": {},
   "outputs": [],
   "source": []
  },
  {
   "cell_type": "code",
   "execution_count": null,
   "metadata": {},
   "outputs": [],
   "source": []
  },
  {
   "cell_type": "code",
   "execution_count": null,
   "metadata": {},
   "outputs": [],
   "source": []
  },
  {
   "cell_type": "code",
   "execution_count": null,
   "metadata": {},
   "outputs": [],
   "source": []
  },
  {
   "cell_type": "code",
   "execution_count": null,
   "metadata": {},
   "outputs": [],
   "source": []
  }
 ],
 "metadata": {
  "kernelspec": {
   "display_name": "Python 3",
   "language": "python",
   "name": "python3"
  },
  "language_info": {
   "codemirror_mode": {
    "name": "ipython",
    "version": 3
   },
   "file_extension": ".py",
   "mimetype": "text/x-python",
   "name": "python",
   "nbconvert_exporter": "python",
   "pygments_lexer": "ipython3",
   "version": "3.7.4"
  }
 },
 "nbformat": 4,
 "nbformat_minor": 2
}
