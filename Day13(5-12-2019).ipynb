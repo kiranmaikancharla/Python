{
 "cells": [
  {
   "cell_type": "markdown",
   "metadata": {},
   "source": [
    "### Level 1: Return no.of pairs which gives sum as 3 i.e,v\n",
    "### Level 2: Append those pairs to a list and print the list\n",
    "### Level 3: Do it using a single loop"
   ]
  },
  {
   "cell_type": "code",
   "execution_count": 1,
   "metadata": {},
   "outputs": [
    {
     "name": "stdout",
     "output_type": "stream",
     "text": [
      "[1, 2, 2, 1, 3, 0, 0, 3, 4, -1, -1, 4, 5, -2, -2, 5, 6, -3, -3, 6]\n"
     ]
    }
   ],
   "source": [
    "n=([1,2],[2,1],[3,0],[0,3],[4,-1],[-1,4],[5,-2],[-2,5],[6,-3],[-3,6])\n",
    "l=[]\n",
    "for i in n:\n",
    "   l.append(i)\n",
    "print(sum(l,[]))"
   ]
  },
  {
   "cell_type": "code",
   "execution_count": 6,
   "metadata": {},
   "outputs": [
    {
     "ename": "SyntaxError",
     "evalue": "invalid syntax (<ipython-input-6-b7588daa1d6e>, line 9)",
     "output_type": "error",
     "traceback": [
      "\u001b[1;36m  File \u001b[1;32m\"<ipython-input-6-b7588daa1d6e>\"\u001b[1;36m, line \u001b[1;32m9\u001b[0m\n\u001b[1;33m    print ( \"Pair with given sum \"+ str(sum) + \" is (\" + str(arr[i]) + \", \" + str(temp) + \")\"s.add(arr[i]) )\u001b[0m\n\u001b[1;37m                                                                                             ^\u001b[0m\n\u001b[1;31mSyntaxError\u001b[0m\u001b[1;31m:\u001b[0m invalid syntax\n"
     ]
    }
   ],
   "source": [
    "def printPairs(arr, arr_size, sum): \n",
    "      \n",
    "    # Create an empty hash set \n",
    "    s = set() \n",
    "      \n",
    "    for i in range(0, arr_size): \n",
    "        temp = sum-arr[i] \n",
    "        if (temp in s): \n",
    "            print ( \"Pair with given sum \"+ str(sum) + \" is (\" + str(arr[i]) + \", \" + str(temp) + \")\"s.add(arr[i]) )\n",
    "  \n",
    "# driver program to check the above function \n",
    "A = [1, 4, 45, 6, 10, 8] \n",
    "n = 16\n",
    "printPairs(A, len(A), n) \n",
    "  "
   ]
  },
  {
   "cell_type": "code",
   "execution_count": 3,
   "metadata": {},
   "outputs": [
    {
     "name": "stdout",
     "output_type": "stream",
     "text": [
      "[[-6, 9], [-5, 8], [-4, 7], [-3, 6], [-2, 5], [-1, 4], [0, 3], [1, 2], [2, 1], [3, 0], [4, -1], [5, -2], [6, -3], [7, -4], [8, -5], [9, -6]]\n"
     ]
    }
   ],
   "source": [
    "def CalculateSumPairs(a,v):\n",
    "   l=[-9, -8, -7, -6, -5, -4, -3, -2, -1, 0, 1, 2, 3, 4, 5, 6, 7, 8, 9]\n",
    "   ls=[]\n",
    "   for i in a:\n",
    "       for k in l:\n",
    "           if i+k==3:\n",
    "               ls.append([i,k])\n",
    "   print(ls)\n",
    "CalculateSumPairs([-9, -8, -7, -6, -5, -4, -3, -2, -1, 0, 1, 2, 3, 4, 5, 6, 7, 8, 9],3)"
   ]
  },
  {
   "cell_type": "code",
   "execution_count": 8,
   "metadata": {},
   "outputs": [
    {
     "name": "stdout",
     "output_type": "stream",
     "text": [
      "[[-6, 9], [-5, 8], [-4, 7], [-3, 6], [-2, 5], [-1, 4], [0, 3], [1, 2]]\n"
     ]
    }
   ],
   "source": [
    "\n",
    "lst = [-9, -8, -7, -6, -5, -4, -3, -2, -1, 0, 1, 2, 3, 4, 5, 6, 7, 8, 9]\n",
    "K = 3\n",
    "l = []\n",
    "while lst:\n",
    "   num = lst.pop()\n",
    "   d= K - num\n",
    "   if d in lst:\n",
    "       l.append([d, num])\n",
    "  # l.reverse ()    \n",
    "   \n",
    "print(l) \n"
   ]
  },
  {
   "cell_type": "code",
   "execution_count": null,
   "metadata": {},
   "outputs": [],
   "source": []
  }
 ],
 "metadata": {
  "kernelspec": {
   "display_name": "Python 3",
   "language": "python",
   "name": "python3"
  },
  "language_info": {
   "codemirror_mode": {
    "name": "ipython",
    "version": 3
   },
   "file_extension": ".py",
   "mimetype": "text/x-python",
   "name": "python",
   "nbconvert_exporter": "python",
   "pygments_lexer": "ipython3",
   "version": "3.7.4"
  }
 },
 "nbformat": 4,
 "nbformat_minor": 2
}
