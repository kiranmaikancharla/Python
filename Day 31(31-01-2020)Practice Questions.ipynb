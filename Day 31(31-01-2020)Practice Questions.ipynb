{
 "cells": [
  {
   "cell_type": "code",
   "execution_count": 1,
   "metadata": {},
   "outputs": [
    {
     "data": {
      "text/plain": [
       "6"
      ]
     },
     "execution_count": 1,
     "metadata": {},
     "output_type": "execute_result"
    }
   ],
   "source": [
    "# Read a number\n",
    "# Print the Even digit sum from the number\n",
    "\n",
    "\n",
    "# Input  : 1234\n",
    "# Output : 6(2 + 4)\n",
    "\n",
    "\n",
    "def evenDigitSum(n):\n",
    "    s = 0\n",
    "    while n != 0:\n",
    "        r = n % 10\n",
    "        if r % 2 == 0:\n",
    "            s = s + r\n",
    "        n = n // 10\n",
    "    return s\n",
    "evenDigitSum(1234)"
   ]
  },
  {
   "cell_type": "code",
   "execution_count": 2,
   "metadata": {},
   "outputs": [
    {
     "data": {
      "text/plain": [
       "8"
      ]
     },
     "execution_count": 2,
     "metadata": {},
     "output_type": "execute_result"
    }
   ],
   "source": [
    "# Input : 19535\n",
    "# Output : 9 (Large digit of the given number)\n",
    "# Functional Programming\n",
    "\n",
    "\n",
    "def largeDigit(n):\n",
    "    #implement the logic\n",
    "    v = 0\n",
    "    while n != 0:\n",
    "        r = n % 10\n",
    "        if r > v:\n",
    "            v = r\n",
    "        n = n // 10\n",
    "            \n",
    "    return v\n",
    "largeDigit(14568)"
   ]
  },
  {
   "cell_type": "code",
   "execution_count": 3,
   "metadata": {},
   "outputs": [
    {
     "name": "stdout",
     "output_type": "stream",
     "text": [
      "1 2 3 6 None\n",
      "1 2 3 4 6 12 None\n"
     ]
    }
   ],
   "source": [
    "# Read a number as input and print the output as Factors of the given number\n",
    "\n",
    "# Input : 6\n",
    "# Output : 1 2 3 6\n",
    "\n",
    "# Input : 12\n",
    "# Output : 1 2 3 4 6 12\n",
    "\n",
    "def factors(n):\n",
    "    i = 1\n",
    "    for i in range(1,n+1):\n",
    "        if n % i == 0:\n",
    "            print(i,end=' ')\n",
    "            \n",
    "print(factors(6))\n",
    "print(factors(12))"
   ]
  },
  {
   "cell_type": "code",
   "execution_count": 4,
   "metadata": {},
   "outputs": [
    {
     "name": "stdout",
     "output_type": "stream",
     "text": [
      "True\n",
      "False\n"
     ]
    }
   ],
   "source": [
    "# Read the input as Number and print the output as True or False. \n",
    "# If the input number is Prime True otherwise print False\n",
    "\n",
    "# Input : 11\n",
    "# Output : True\n",
    "\n",
    "# Input : 10\n",
    "# Output : False\n",
    "\n",
    "def prime(n):\n",
    "    if n > 1:\n",
    "        for i in range(2,n):\n",
    "            if n % i == 0 :\n",
    "                print(\"False\")\n",
    "                break\n",
    "        else :\n",
    "            print(\"True\")\n",
    "\n",
    "prime(11)\n",
    "prime(10)"
   ]
  },
  {
   "cell_type": "code",
   "execution_count": 5,
   "metadata": {},
   "outputs": [
    {
     "name": "stdout",
     "output_type": "stream",
     "text": [
      "2 3 5 7 count is : 4\n"
     ]
    }
   ],
   "source": [
    "# Read the input as num N and Print the output as Prime number count btw 1 to N\n",
    "\n",
    "# Input : 10\n",
    "# Output : 4(2,3,5,7)\n",
    "\n",
    "def countPrime(l,u):\n",
    "    count = 0\n",
    "    for n in range(l,u+1):\n",
    "        if n>1:\n",
    "            for i in range(2,n):\n",
    "                if n % i == 0:\n",
    "                    break\n",
    "            else :\n",
    "                print(n,end=' ')\n",
    "                count = count + 1\n",
    "    print(\"count is :\",count)\n",
    "countPrime(1,10)\n"
   ]
  },
  {
   "cell_type": "code",
   "execution_count": 6,
   "metadata": {},
   "outputs": [
    {
     "name": "stdout",
     "output_type": "stream",
     "text": [
      "1\n",
      "2\n",
      "3\n",
      "4\n",
      "5\n",
      "6\n",
      "7\n",
      "8\n",
      "9\n",
      "count is:  9\n"
     ]
    }
   ],
   "source": [
    "# Read the i/p as two limits,Print the o/p as Palindrome count bet the 2 limits\n",
    "\n",
    "# Input : 1 10 \n",
    "# Output : 9\n",
    "\n",
    "# Input : 1 100\n",
    "# Output : 18\n",
    "\n",
    "def palindrome(s,n):\n",
    "    count = 0\n",
    "    for i in range(s,n+1):\n",
    "        temp = i\n",
    "        rev = 0\n",
    "        while temp>0:\n",
    "            r = temp % 10\n",
    "            rev = rev * 10 + r\n",
    "            temp = temp // 10\n",
    "        if i == rev:\n",
    "            count = count+1\n",
    "            print(i)\n",
    "    print(\"count is: \",count)   \n",
    "palindrome(1,10)        "
   ]
  },
  {
   "cell_type": "code",
   "execution_count": 7,
   "metadata": {},
   "outputs": [
    {
     "name": "stdout",
     "output_type": "stream",
     "text": [
      "3\n",
      "6\n"
     ]
    }
   ],
   "source": [
    "# Read the  i/p as number, \n",
    "# Print the o/p as Count of triangles and Circles in the given num\n",
    "\n",
    "# Input : 12854\n",
    "# Output : 3\n",
    "# Input : 888\n",
    "# Output : 6\n",
    "\n",
    "# Reason : 0,6,9 wil have one circle so count wil be 1\n",
    "# 4 wil have one triangle so count wil be 1\n",
    "# 8 wil have 2 circles so count wil be 2\n",
    "\n",
    "def count(n):\n",
    "    s = 0\n",
    "    r = 0\n",
    "    while n != 0 :\n",
    "        r = n % 10\n",
    "        if r == 0 or r == 6 or r == 9:\n",
    "            s = s + 1\n",
    "        elif r == 4 :\n",
    "            s = s + 1\n",
    "        elif r == 8 :\n",
    "            s = s + 2\n",
    "        n = n // 10\n",
    "    return(s)\n",
    "print(count(12854))\n",
    "print(count(888))\n",
    "        "
   ]
  },
  {
   "cell_type": "code",
   "execution_count": null,
   "metadata": {},
   "outputs": [],
   "source": []
  }
 ],
 "metadata": {
  "kernelspec": {
   "display_name": "Python 3",
   "language": "python",
   "name": "python3"
  },
  "language_info": {
   "codemirror_mode": {
    "name": "ipython",
    "version": 3
   },
   "file_extension": ".py",
   "mimetype": "text/x-python",
   "name": "python",
   "nbconvert_exporter": "python",
   "pygments_lexer": "ipython3",
   "version": "3.7.4"
  }
 },
 "nbformat": 4,
 "nbformat_minor": 2
}
