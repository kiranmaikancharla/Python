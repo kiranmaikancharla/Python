{
 "cells": [
  {
   "cell_type": "markdown",
   "metadata": {},
   "source": [
    "# Write a Python program to get the Python version you are using."
   ]
  },
  {
   "cell_type": "code",
   "execution_count": 1,
   "metadata": {},
   "outputs": [
    {
     "name": "stdout",
     "output_type": "stream",
     "text": [
      "python version\n",
      "3.7.4 (default, Aug  9 2019, 18:34:13) [MSC v.1915 64 bit (AMD64)]\n"
     ]
    }
   ],
   "source": [
    "import sys\n",
    "print(\"python version\")\n",
    "print(sys.version)"
   ]
  },
  {
   "cell_type": "markdown",
   "metadata": {},
   "source": [
    "# Write a Python program to display the current date and time"
   ]
  },
  {
   "cell_type": "code",
   "execution_count": 2,
   "metadata": {},
   "outputs": [
    {
     "name": "stdout",
     "output_type": "stream",
     "text": [
      "Date and Time : \n",
      "02-12-19 15:42:39\n"
     ]
    }
   ],
   "source": [
    "import datetime\n",
    "now = datetime.datetime.now()\n",
    "print(\"Date and Time : \")\n",
    "print(now.strftime(\"%d-%m-%y %H:%M:%S\"))"
   ]
  },
  {
   "cell_type": "markdown",
   "metadata": {},
   "source": [
    " # Write a Python program which accepts the user's first and last name and print them in reverse order with a space between them"
   ]
  },
  {
   "cell_type": "code",
   "execution_count": 4,
   "metadata": {},
   "outputs": [
    {
     "name": "stdout",
     "output_type": "stream",
     "text": [
      "enter First name: Rajeevi\n",
      "enter Last name: Katta\n",
      "Katta   Rajeevi\n"
     ]
    }
   ],
   "source": [
    "Fname=input(\"enter First name: \")\n",
    "Lname=input(\"enter Last name: \")\n",
    "print(Lname,\" \",Fname)"
   ]
  },
  {
   "cell_type": "markdown",
   "metadata": {},
   "source": [
    "# 6. Write a Python program which accepts a sequence of comma-separated numbers from user and generate a list and a tuple with those numbers. "
   ]
  },
  {
   "cell_type": "code",
   "execution_count": 6,
   "metadata": {},
   "outputs": [
    {
     "name": "stdout",
     "output_type": "stream",
     "text": [
      "enter values1,9,2,8,3,7,4,6,5\n",
      "List : ['1', '9', '2', '8', '3', '7', '4', '6', '5']\n",
      "Tuple : ('1', '9', '2', '8', '3', '7', '4', '6', '5')\n"
     ]
    }
   ],
   "source": [
    "values=input(\"enter values\")\n",
    "list = values.split(\",\")\n",
    "tuple = tuple(list)\n",
    "print(\"List :\",list)\n",
    "print(\"Tuple :\", tuple)"
   ]
  },
  {
   "cell_type": "markdown",
   "metadata": {},
   "source": [
    "# 7. Write a Python program to accept a filename from the user and print the extension of that."
   ]
  },
  {
   "cell_type": "code",
   "execution_count": 15,
   "metadata": {},
   "outputs": [
    {
     "name": "stdout",
     "output_type": "stream",
     "text": [
      "enter file named1.txt\n",
      "extension of given file:  txt\n"
     ]
    }
   ],
   "source": [
    "filename=input(\"enter file name\")\n",
    "extns = filename.split(\".\")\n",
    "print(\"extension of given file: \",extns[-1])"
   ]
  },
  {
   "cell_type": "markdown",
   "metadata": {},
   "source": [
    "# 8. Write a Python program to display the first and last colors from the following list. "
   ]
  },
  {
   "cell_type": "code",
   "execution_count": 12,
   "metadata": {},
   "outputs": [
    {
     "name": "stdout",
     "output_type": "stream",
     "text": [
      "pink , black\n"
     ]
    }
   ],
   "source": [
    "colors=[\"pink\",\"blue\",\"white\",\"black\"]\n",
    "print(colors[0],\",\",colors[-1])"
   ]
  },
  {
   "cell_type": "markdown",
   "metadata": {},
   "source": [
    "# 9.Write a Python program to display the examination schedule. (extract the date from exam_st_date).\n",
    "# exam_st_date = (11, 12, 2014)\n",
    "# Sample Output: The examination will start from : 11 / 12 / 2014"
   ]
  },
  {
   "cell_type": "code",
   "execution_count": 22,
   "metadata": {},
   "outputs": [
    {
     "name": "stdout",
     "output_type": "stream",
     "text": [
      "The examination will start from : 2 / 12 / 2019\n"
     ]
    }
   ],
   "source": [
    "exdate=(2,12,2019)\n",
    "#print(\"exam date %i / %i / %i:\"%exdate)\n",
    "print( \"The examination will start from : %i / %i / %i\"%exdate)\n"
   ]
  },
  {
   "cell_type": "markdown",
   "metadata": {},
   "source": [
    "# 10. Write a Python program that accepts an integer (n) and computes the value of n+nn+nnn."
   ]
  },
  {
   "cell_type": "code",
   "execution_count": 30,
   "metadata": {},
   "outputs": [
    {
     "name": "stdout",
     "output_type": "stream",
     "text": [
      "enter n vlaue5\n",
      "615\n"
     ]
    }
   ],
   "source": [
    "a=int(input(\"enter n vlaue\"))\n",
    "n=int(\"%s\" %a)\n",
    "nn=int(\"%s%s\" %(a,a))\n",
    "nnn=int(\"%s%s%s\" %(a,a,a))\n",
    "c=n+nn+nnn\n",
    "print(c)"
   ]
  },
  {
   "cell_type": "code",
   "execution_count": null,
   "metadata": {},
   "outputs": [],
   "source": []
  }
 ],
 "metadata": {
  "kernelspec": {
   "display_name": "Python 3",
   "language": "python",
   "name": "python3"
  },
  "language_info": {
   "codemirror_mode": {
    "name": "ipython",
    "version": 3
   },
   "file_extension": ".py",
   "mimetype": "text/x-python",
   "name": "python",
   "nbconvert_exporter": "python",
   "pygments_lexer": "ipython3",
   "version": "3.7.4"
  }
 },
 "nbformat": 4,
 "nbformat_minor": 2
}
