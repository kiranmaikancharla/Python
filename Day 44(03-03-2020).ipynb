{
 "cells": [
  {
   "cell_type": "markdown",
   "metadata": {},
   "source": [
    "#### OOPS\n",
    "    - Class : Collection of Data members and Member Functions into single unit is called Class\n",
    "    - Data Members : Varibles list tuple dict\n",
    "    - Member Functions : Methods and Constructors\n",
    "    - Class is Logical Entity it means when create a class it does not access the memory\n",
    "    - Object :\n",
    "    - Instance or Phisycal Entity\n",
    "    - Inheritance :"
   ]
  },
  {
   "cell_type": "markdown",
   "metadata": {},
   "source": [
    "#### self in python:\n",
    "    - Self represents the instance of class\n",
    "    - It is a keyword through this we can acces the attributes and methods of a class in python \n",
    "- Instance\n",
    "- Memory : To access the member of the class"
   ]
  },
  {
   "cell_type": "code",
   "execution_count": 2,
   "metadata": {},
   "outputs": [
    {
     "name": "stdout",
     "output_type": "stream",
     "text": [
      "call() from Demo class\n"
     ]
    }
   ],
   "source": [
    "class Demo:\n",
    "    def call(self):\n",
    "        print('call() from Demo class')\n",
    "        return\n",
    "a = Demo()\n",
    "a.call()"
   ]
  },
  {
   "cell_type": "code",
   "execution_count": 4,
   "metadata": {},
   "outputs": [
    {
     "data": {
      "text/plain": [
       "200"
      ]
     },
     "execution_count": 4,
     "metadata": {},
     "output_type": "execute_result"
    }
   ],
   "source": [
    "class Demo1:\n",
    "    def a1(self,a,b):\n",
    "        return a*b\n",
    "c1 = Demo1()\n",
    "c1.a1(10,20)"
   ]
  },
  {
   "cell_type": "code",
   "execution_count": 11,
   "metadata": {},
   "outputs": [
    {
     "name": "stdout",
     "output_type": "stream",
     "text": [
      "5\n",
      "6\n",
      "5 6\n"
     ]
    }
   ],
   "source": [
    "# Create a class with two numbers\n",
    "# 1. Accept numbers()\n",
    "# 2. Dispaly_numbers()\n",
    "\n",
    "class Demo2:\n",
    "    def accept_numbers(self):\n",
    "        self.a = int(input())\n",
    "        self.b = int(input())\n",
    "        return\n",
    "    def display_numbers(self):\n",
    "        print(self.a,self.b)\n",
    "        return \n",
    "c = Demo2()\n",
    "c.accept_numbers()\n",
    "c.display_numbers()"
   ]
  },
  {
   "cell_type": "markdown",
   "metadata": {},
   "source": [
    "#### Polymorphism:\n",
    "- 1. Static or complile or early binding\n",
    "      - function overloading:\n",
    "          - same function name with different parameters and implementation wil be in a single class and we can invoke any function with different input arguments.\n",
    "- 2. Dynamic or runtime or late binding\n",
    "      - function overriding:\n",
    "          - same function name and parameters are also same but implementation will be in two different classes it means it can be implemented with base class and derived class(inheritance)"
   ]
  },
  {
   "cell_type": "markdown",
   "metadata": {},
   "source": [
    "#### Constructor in Python:\n",
    "- Constructor can be written as two underscores at start and two undercores at the end and Name can be written as init\n",
    "- Constructor is spl member in class which invokes(call) automaticaly when the class object is created \n",
    "- Constructor is Spl type of method as well\n",
    "- Methods are always invokes with the external statement with the help of class object."
   ]
  },
  {
   "cell_type": "code",
   "execution_count": 12,
   "metadata": {},
   "outputs": [
    {
     "name": "stdout",
     "output_type": "stream",
     "text": [
      "constructor\n",
      "Method\n"
     ]
    }
   ],
   "source": [
    "class Demo4:\n",
    "    def __init__(self):\n",
    "        print('constructor')\n",
    "        return\n",
    "    def display_numbers(self):\n",
    "        print('Method')\n",
    "        return\n",
    "aa1 = Demo4()\n",
    "aa1.display_numbers()"
   ]
  },
  {
   "cell_type": "code",
   "execution_count": 14,
   "metadata": {},
   "outputs": [
    {
     "name": "stdout",
     "output_type": "stream",
     "text": [
      "4\n",
      "6\n",
      "4 6\n"
     ]
    }
   ],
   "source": [
    "class Demo3:\n",
    "    def __init__(self):\n",
    "        self.a = int(input())\n",
    "        self.b = int(input())\n",
    "        return\n",
    "    def display_numbers(self):\n",
    "        print(self.a,self.b)\n",
    "        return\n",
    "a1 = Demo3()\n",
    "a1.display_numbers()"
   ]
  },
  {
   "cell_type": "code",
   "execution_count": 16,
   "metadata": {},
   "outputs": [
    {
     "name": "stdout",
     "output_type": "stream",
     "text": [
      "10 10\n"
     ]
    }
   ],
   "source": [
    "class Demo6:\n",
    "    def __init__(self,a,b):\n",
    "        self.a = a\n",
    "        self.b = b\n",
    "        return\n",
    "    def display_numbers(self):\n",
    "        print(self.a,self.b)\n",
    "        return\n",
    "a1 = Demo6(10,10)\n",
    "a1.display_numbers()"
   ]
  },
  {
   "cell_type": "markdown",
   "metadata": {},
   "source": [
    "#### Inheritance in Python:\n",
    "- Creating a new class from the existing class can be called as inheritance\n",
    "- Used to get the properties of one class to another class\n",
    "- By using the inheritance we can increase the code reuseability\n",
    "- By using the inheritance we can remove the duplication of code"
   ]
  },
  {
   "cell_type": "code",
   "execution_count": 17,
   "metadata": {},
   "outputs": [
    {
     "name": "stdout",
     "output_type": "stream",
     "text": [
      "Update emailId\n",
      "Login\n"
     ]
    }
   ],
   "source": [
    "class A:\n",
    "    def login(self):\n",
    "        print('Login')\n",
    "        return\n",
    "    def register(self):\n",
    "        print('Register')\n",
    "        return\n",
    "class B(A):\n",
    "    def update_email(self):\n",
    "        print('Update emailId')\n",
    "        return\n",
    "    def update_mobileno(self):\n",
    "        print('update mobile no')\n",
    "        return\n",
    "    \n",
    "obj = B()\n",
    "obj.update_email()\n",
    "obj.login()"
   ]
  },
  {
   "cell_type": "markdown",
   "metadata": {},
   "source": [
    "#### Create a new class, SMS_store. The class will instantiate SMS_store objects, similar to an inbox or outbox on a cellphone:"
   ]
  },
  {
   "cell_type": "code",
   "execution_count": null,
   "metadata": {},
   "outputs": [],
   "source": []
  },
  {
   "cell_type": "markdown",
   "metadata": {},
   "source": [
    "my_inbox = SMS_store()\n",
    "This store can hold multiple SMS messages (i.e. its internal state will just be a list of messages). Each message will be represented as a tuple:\n",
    "\n",
    "(has_been_viewed, from_number, time_arrived, text_of_SMS)\n",
    "The inbox object should provide these methods:\n",
    "\n",
    "my_inbox.add_new_arrival(from_number, time_arrived, text_of_SMS)\n",
    "  # Makes new SMS tuple, inserts it after other messages\n",
    "  # in the store. When creating this message, its\n",
    "  # has_been_viewed status is set False.\n",
    " \n",
    "my_inbox.message_count()\n",
    "  # Returns the number of sms messages in my_inbox\n",
    " \n",
    "my_inbox.get_unread_indexes()\n",
    "  # Returns list of indexes of all not-yet-viewed SMS messages\n",
    " \n",
    "my_inbox.get_message(i)\n",
    "  # Return (from_number, time_arrived, text_of_sms) for message[i]\n",
    "  # Also change its state to \"has been viewed\".\n",
    "  # If there is no message at position i, return None\n",
    " \n",
    "my_inbox.delete(i)     # Delete the message at index i\n",
    "my_inbox.clear()       # Delete all messages from inbox"
   ]
  },
  {
   "cell_type": "code",
   "execution_count": null,
   "metadata": {},
   "outputs": [],
   "source": []
  },
  {
   "cell_type": "code",
   "execution_count": null,
   "metadata": {},
   "outputs": [],
   "source": []
  },
  {
   "cell_type": "code",
   "execution_count": null,
   "metadata": {},
   "outputs": [],
   "source": []
  },
  {
   "cell_type": "code",
   "execution_count": null,
   "metadata": {},
   "outputs": [],
   "source": []
  }
 ],
 "metadata": {
  "kernelspec": {
   "display_name": "Python 3",
   "language": "python",
   "name": "python3"
  },
  "language_info": {
   "codemirror_mode": {
    "name": "ipython",
    "version": 3
   },
   "file_extension": ".py",
   "mimetype": "text/x-python",
   "name": "python",
   "nbconvert_exporter": "python",
   "pygments_lexer": "ipython3",
   "version": "3.7.4"
  }
 },
 "nbformat": 4,
 "nbformat_minor": 2
}
