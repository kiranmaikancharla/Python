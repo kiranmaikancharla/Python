{
 "cells": [
  {
   "cell_type": "markdown",
   "metadata": {},
   "source": [
    "### Concepts:\n",
    "- Basics\n",
    "- Datatypes and Conversions\n",
    "- Control Statements\n",
    "    - Conditional Statements\n",
    "    - Looping Statements\n",
    "- Functional Programming\n",
    "- List, Tuple, Sets, Dictionaries\n",
    "- External Packages\n",
    "    - Math\n",
    "- Regular Expressions\n",
    "- File handling\n",
    "    - Reading the File Data\n",
    "    - Writing the File Data\n",
    "    - Perform the Operatons on the File\n",
    "- OOPS\n",
    "    - Class\n",
    "    - Objects\n",
    "    - Methods\n",
    "    - Constructors\n",
    "    - Inheritance\n",
    "    - Polymorphism\n",
    "- Exception Handling\n",
    "- List Comprehances, Lambda expressions"
   ]
  },
  {
   "cell_type": "markdown",
   "metadata": {},
   "source": [
    "### Functional Programming\n",
    "- Reduce the Complex\n",
    "- Reuseable Block\n",
    "- Divides the lengthy Program into Sub Blocks so that it is easy for read\n",
    "- Camel Case (Fucntion Name or Variable Name)"
   ]
  },
  {
   "cell_type": "code",
   "execution_count": null,
   "metadata": {},
   "outputs": [],
   "source": [
    "def funName(<Parameters>):\n",
    "    return"
   ]
  },
  {
   "cell_type": "code",
   "execution_count": 1,
   "metadata": {},
   "outputs": [
    {
     "name": "stdout",
     "output_type": "stream",
     "text": [
      "test() function....\n"
     ]
    }
   ],
   "source": [
    "def test():\n",
    "    print(\"test() function....\")\n",
    "    return\n",
    "test() # Function without parameters and with return value"
   ]
  },
  {
   "cell_type": "code",
   "execution_count": 2,
   "metadata": {},
   "outputs": [
    {
     "data": {
      "text/plain": [
       "'Dhyanahita'"
      ]
     },
     "execution_count": 2,
     "metadata": {},
     "output_type": "execute_result"
    }
   ],
   "source": [
    "def isTest():\n",
    "    return \"Dhyanahita\"\n",
    "isTest()"
   ]
  },
  {
   "cell_type": "code",
   "execution_count": 3,
   "metadata": {},
   "outputs": [
    {
     "data": {
      "text/plain": [
       "123"
      ]
     },
     "execution_count": 3,
     "metadata": {},
     "output_type": "execute_result"
    }
   ],
   "source": [
    "def isTestWork(x):\n",
    "    return x\n",
    "a = 123\n",
    "isTestWork(a)"
   ]
  },
  {
   "cell_type": "code",
   "execution_count": 4,
   "metadata": {},
   "outputs": [
    {
     "name": "stdout",
     "output_type": "stream",
     "text": [
      "[1, 2, 3] <class 'list'>\n"
     ]
    }
   ],
   "source": [
    "def isTestWork(x):\n",
    "    return x\n",
    "a = [1,2,3] # List\n",
    "print(isTestWork(a), type(a))"
   ]
  },
  {
   "cell_type": "code",
   "execution_count": 5,
   "metadata": {},
   "outputs": [
    {
     "data": {
      "text/plain": [
       "list"
      ]
     },
     "execution_count": 5,
     "metadata": {},
     "output_type": "execute_result"
    }
   ],
   "source": [
    "def inputTest(a):\n",
    "    return type(a)\n",
    "a = [1,2,3]\n",
    "inputTest(a)"
   ]
  },
  {
   "cell_type": "markdown",
   "metadata": {},
   "source": [
    "### Coding Standards\n",
    "- Variable Name : num, num_test, numTest\n",
    "- Function Name : fun1(), fun_test(), funTest()\n",
    "- Constructor Name : __init__\n",
    "- Class Name : Demo(), DemoAbc()\n",
    "- import : import packagename\n",
    "- import : from packagename import function1, function2..."
   ]
  },
  {
   "cell_type": "markdown",
   "metadata": {},
   "source": [
    "#### External Packages : import statements re, math pandas mathlib....\n",
    "#### Website : RegEx Pal\n",
    "#### Regular Expession Creating\n",
    "- Checking for Number \n",
    "- Checking for Lower case and Upper case\n",
    "- Checking for Special Charector"
   ]
  },
  {
   "cell_type": "code",
   "execution_count": 6,
   "metadata": {},
   "outputs": [
    {
     "name": "stdout",
     "output_type": "stream",
     "text": [
      "True\n",
      "False\n"
     ]
    }
   ],
   "source": [
    "import re\n",
    "def two_digit_match(n):\n",
    "    pattren = '^[0-9]{2}$'\n",
    "    n = str(n)\n",
    "    if re.match(pattren,n):\n",
    "        return True\n",
    "    return False\n",
    "print(two_digit_match(12)) # True\n",
    "print(two_digit_match(123)) # False"
   ]
  },
  {
   "cell_type": "code",
   "execution_count": 9,
   "metadata": {},
   "outputs": [
    {
     "name": "stdout",
     "output_type": "stream",
     "text": [
      "False\n",
      "True\n"
     ]
    }
   ],
   "source": [
    "# Lower case upper case\n",
    "# 6 min - 12 max\n",
    "\n",
    "def uname_validate(uname):\n",
    "    pattren = '^[A-Z][a-zA-Z]{5,11}$'\n",
    "    if re.match(pattren,uname):\n",
    "        return True\n",
    "    return False\n",
    "print(uname_validate('kiranmai'))# False\n",
    "print(uname_validate('Kancharla'))# True"
   ]
  },
  {
   "cell_type": "code",
   "execution_count": 8,
   "metadata": {},
   "outputs": [
    {
     "name": "stdout",
     "output_type": "stream",
     "text": [
      "True\n",
      "False\n"
     ]
    }
   ],
   "source": [
    "# Validate - DHS00120\n",
    "# DHS00120 - DHS00999(range)\n",
    "\n",
    "def validate_something(x):\n",
    "    pattren = '^[D][H][S][0][0][1-9][2-9][0-9]$'\n",
    "    if re.match(pattren,x):\n",
    "        return True\n",
    "    return False\n",
    "print(validate_something('DHS00120'))# Valid\n",
    "print(validate_something('DHS01120'))# Invalid"
   ]
  },
  {
   "cell_type": "code",
   "execution_count": 10,
   "metadata": {},
   "outputs": [
    {
     "name": "stdout",
     "output_type": "stream",
     "text": [
      "True\n",
      "True\n",
      "True\n"
     ]
    }
   ],
   "source": [
    "# Indian Mobile Number\n",
    "# 6989348932\n",
    "# 09921432343\n",
    "# +91-9954657654\n",
    "\n",
    "def validate_indian_mobile_no(x):\n",
    "    pattren = '^[6-9][0-9]{9}$|^[0][6-9][0-9]{9}$|^[+][9][1][-][6-9][0-9]{9}$'\n",
    "    if re.match(pattren,x):\n",
    "        return True\n",
    "    return False\n",
    "print(validate_indian_mobile_no('6989348932'))\n",
    "print(validate_indian_mobile_no('09921432343'))\n",
    "print(validate_indian_mobile_no('+91-9954657654'))"
   ]
  },
  {
   "cell_type": "code",
   "execution_count": null,
   "metadata": {},
   "outputs": [],
   "source": [
    "# Username Validate\n",
    "# should need to contains One Upper case\n",
    "# 6 Lower case, 1 digit\n",
    "\n"
   ]
  }
 ],
 "metadata": {
  "kernelspec": {
   "display_name": "Python 3",
   "language": "python",
   "name": "python3"
  },
  "language_info": {
   "codemirror_mode": {
    "name": "ipython",
    "version": 3
   },
   "file_extension": ".py",
   "mimetype": "text/x-python",
   "name": "python",
   "nbconvert_exporter": "python",
   "pygments_lexer": "ipython3",
   "version": "3.7.4"
  }
 },
 "nbformat": 4,
 "nbformat_minor": 2
}
