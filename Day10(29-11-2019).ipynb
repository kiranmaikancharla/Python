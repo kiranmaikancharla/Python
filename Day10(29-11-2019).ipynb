{
 "cells": [
  {
   "cell_type": "markdown",
   "metadata": {},
   "source": [
    "## File Handling"
   ]
  },
  {
   "cell_type": "code",
   "execution_count": 13,
   "metadata": {},
   "outputs": [
    {
     "data": {
      "text/plain": [
       "['To Write a file \\n',\n",
       " 'and to Create the file\\n',\n",
       " 'Through Python Functions\\n',\n",
       " 'Rajee is a Mad Girl\\n']"
      ]
     },
     "execution_count": 13,
     "metadata": {},
     "output_type": "execute_result"
    }
   ],
   "source": [
    "# Define a function to read file data for a given file\n",
    "\n",
    "def readfile(filename):\n",
    "    f = open(filename,'r')\n",
    "    filedata = f.readlines()  # It is a function which returns a list of lines\n",
    "    return filedata  \n",
    "\n",
    "filename = 'python.txt'\n",
    "readfile(filename)"
   ]
  },
  {
   "cell_type": "code",
   "execution_count": 2,
   "metadata": {},
   "outputs": [
    {
     "data": {
      "text/plain": [
       "15"
      ]
     },
     "execution_count": 2,
     "metadata": {},
     "output_type": "execute_result"
    }
   ],
   "source": [
    "import re\n",
    "def readfile(filename):\n",
    "    f = open(filename,'r')\n",
    "    filedata = f.read()  # It is a function which returns a list of lines\n",
    "    return filedata  \n",
    "\n",
    "filename = ('python.txt')\n",
    "readfile(filename)\n",
    "len(re.split(' ', readfile(filename)))  #no of words"
   ]
  },
  {
   "cell_type": "code",
   "execution_count": 11,
   "metadata": {},
   "outputs": [
    {
     "data": {
      "text/plain": [
       "['To',\n",
       " 'Write',\n",
       " 'a',\n",
       " 'file',\n",
       " '\\nand',\n",
       " 'to',\n",
       " 'Create',\n",
       " 'the',\n",
       " 'file\\nThrough',\n",
       " 'Python',\n",
       " 'Functions\\nRajee',\n",
       " 'is',\n",
       " 'a',\n",
       " 'Mad',\n",
       " 'Girl\\n']"
      ]
     },
     "execution_count": 11,
     "metadata": {},
     "output_type": "execute_result"
    }
   ],
   "source": [
    "import re\n",
    "def readfile(filename):\n",
    "    f = open(filename,'r')\n",
    "    filedata = f.read()  # It is a function which returns a list of lines\n",
    "    f.close()\n",
    "    return filedata  \n",
    "\n",
    "filename = ('python.txt')\n",
    "# len(re.split('\\ ',readfile(filename)))  #no of words\n",
    "\n",
    "wordlist = re.split('\\ ', readfile(filename))\n",
    "wordlist"
   ]
  },
  {
   "cell_type": "markdown",
   "metadata": {},
   "source": [
    "# Frequency of data\n",
    "\n",
    "1.Unique data in the form of a dictionary\n",
    "    {'to':0,'introduce':0....}\n",
    "2.Calculate the frequency for all keys in the dictionary\n",
    "     for every key in dictionary:\n",
    "         count the no of times the key is repeating in the data \n",
    "            assign the count of each key to the corresponding dictionary value"
   ]
  },
  {
   "cell_type": "code",
   "execution_count": 3,
   "metadata": {},
   "outputs": [
    {
     "data": {
      "text/plain": [
       "'To Write a file \\nand to Create the file\\nThrough Python Functions\\nRajee is a Mad Girl\\n'"
      ]
     },
     "execution_count": 3,
     "metadata": {},
     "output_type": "execute_result"
    }
   ],
   "source": [
    "# Define a function to read file data for a given file\n",
    "\n",
    "def readfile(filename):\n",
    "    f = open(filename,'r')\n",
    "    filedata = f.read()  # It is a function which returns a list of lines\n",
    "    f.close()\n",
    "    return filedata  \n",
    "\n",
    "filename = 'python.txt'\n",
    "readfile(filename)"
   ]
  },
  {
   "cell_type": "code",
   "execution_count": 4,
   "metadata": {},
   "outputs": [
    {
     "data": {
      "text/plain": [
       "{'To': 1,\n",
       " 'Write': 1,\n",
       " 'a': 1,\n",
       " 'file': 1,\n",
       " '\\nand': 1,\n",
       " 'to': 1,\n",
       " 'Create': 1,\n",
       " 'the': 1,\n",
       " 'file\\nThrough': 1,\n",
       " 'Python': 1,\n",
       " 'Functions\\nRajee': 1,\n",
       " 'is': 1,\n",
       " 'Mad': 1,\n",
       " 'Girl\\n': 1}"
      ]
     },
     "execution_count": 4,
     "metadata": {},
     "output_type": "execute_result"
    }
   ],
   "source": [
    "# Function to extract unique words in a text file\n",
    "\n",
    "import re\n",
    "def extractuniquewords(filename):\n",
    "    filedata = readfile(filename)\n",
    "    wordlist = re.split('\\ ', filedata)\n",
    "    uniquewords = {}\n",
    "    for word in wordlist:\n",
    "        if word not in uniquewords.keys():\n",
    "            uniquewords[word] = 1\n",
    "    return uniquewords\n",
    "\n",
    "filename = 'python.txt'\n",
    "extractuniquewords(filename)"
   ]
  },
  {
   "cell_type": "code",
   "execution_count": null,
   "metadata": {},
   "outputs": [],
   "source": []
  }
 ],
 "metadata": {
  "kernelspec": {
   "display_name": "Python 3",
   "language": "python",
   "name": "python3"
  },
  "language_info": {
   "codemirror_mode": {
    "name": "ipython",
    "version": 3
   },
   "file_extension": ".py",
   "mimetype": "text/x-python",
   "name": "python",
   "nbconvert_exporter": "python",
   "pygments_lexer": "ipython3",
   "version": "3.7.4"
  }
 },
 "nbformat": 4,
 "nbformat_minor": 2
}
