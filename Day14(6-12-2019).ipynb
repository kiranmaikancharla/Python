{
 "cells": [
  {
   "cell_type": "code",
   "execution_count": 1,
   "metadata": {},
   "outputs": [
    {
     "name": "stdout",
     "output_type": "stream",
     "text": [
      "154\n",
      "4 5 1 "
     ]
    }
   ],
   "source": [
    "# Read a number as input\n",
    "# Output has be digits of the number\n",
    "\n",
    "\n",
    "# Input : 123\n",
    "# Output : 3 2 1\n",
    "\n",
    "n = int(input(\"\"))\n",
    "while n != 0:\n",
    "    print(n%10,end=' ')\n",
    "    n = n // 10\n",
    "    "
   ]
  },
  {
   "cell_type": "code",
   "execution_count": null,
   "metadata": {},
   "outputs": [],
   "source": [
    "def sfd(n):\n",
    "    num=1\n",
    "    s=0\n",
    "    while n!=0:\n",
    "        r=n%10\n",
    "        if r<=1:\n",
    "            num=num*r\n",
    "            r=r-1\n",
    "    s=s+num\n",
    "    if(s==n):\n",
    "        print(s)\n",
    "sfd(145)"
   ]
  },
  {
   "cell_type": "markdown",
   "metadata": {},
   "source": [
    "### Functional Programming\n",
    " \n",
    "    - Simple\n",
    "    - Easy understand\n",
    "    - Better Reuseability\n",
    "    - Lengthy Program will be divided into Sub Programs"
   ]
  },
  {
   "cell_type": "code",
   "execution_count": null,
   "metadata": {},
   "outputs": [],
   "source": [
    "def nameoftheFunction(<Parameters>):\n",
    "    Statements\n",
    "    return"
   ]
  },
  {
   "cell_type": "code",
   "execution_count": 2,
   "metadata": {},
   "outputs": [
    {
     "data": {
      "text/plain": [
       "6"
      ]
     },
     "execution_count": 2,
     "metadata": {},
     "output_type": "execute_result"
    }
   ],
   "source": [
    "# Read a number\n",
    "# Print the Even digit sum from the number\n",
    "\n",
    "\n",
    "# Input  : 1234\n",
    "# Output : 6(2 + 4)\n",
    "\n",
    "\n",
    "def evenDigitSum(n):\n",
    "    s = 0\n",
    "    while n != 0:\n",
    "        r = n % 10\n",
    "        if r % 2 == 0:\n",
    "            s = s + r\n",
    "        n = n // 10\n",
    "    return s\n",
    "evenDigitSum(1234)"
   ]
  },
  {
   "cell_type": "code",
   "execution_count": 4,
   "metadata": {},
   "outputs": [
    {
     "data": {
      "text/plain": [
       "8"
      ]
     },
     "execution_count": 4,
     "metadata": {},
     "output_type": "execute_result"
    }
   ],
   "source": [
    "# Input : 19535\n",
    "# Output : 9 (Large digit of the given number)\n",
    "# Functional Programming\n",
    "\n",
    "\n",
    "def largeDigit(n):\n",
    "    #implement the logic\n",
    "    v = 0\n",
    "    while n != 0:\n",
    "        r = n % 10\n",
    "        if r > v:\n",
    "            v = r\n",
    "        n = n // 10\n",
    "            \n",
    "    return v\n",
    "largeDigit(14568)"
   ]
  },
  {
   "cell_type": "code",
   "execution_count": null,
   "metadata": {},
   "outputs": [],
   "source": []
  }
 ],
 "metadata": {
  "kernelspec": {
   "display_name": "Python 3",
   "language": "python",
   "name": "python3"
  },
  "language_info": {
   "codemirror_mode": {
    "name": "ipython",
    "version": 3
   },
   "file_extension": ".py",
   "mimetype": "text/x-python",
   "name": "python",
   "nbconvert_exporter": "python",
   "pygments_lexer": "ipython3",
   "version": "3.7.4"
  }
 },
 "nbformat": 4,
 "nbformat_minor": 2
}
