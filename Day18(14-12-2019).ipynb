{
 "cells": [
  {
   "cell_type": "code",
   "execution_count": 19,
   "metadata": {},
   "outputs": [
    {
     "name": "stdout",
     "output_type": "stream",
     "text": [
      "helo friends\n"
     ]
    }
   ],
   "source": [
    "class sample:\n",
    "    def methodname():\n",
    "        pass\n",
    "print(\"helo friends\")\n"
   ]
  },
  {
   "cell_type": "code",
   "execution_count": 6,
   "metadata": {},
   "outputs": [
    {
     "ename": "TypeError",
     "evalue": "Circle() takes no arguments",
     "output_type": "error",
     "traceback": [
      "\u001b[1;31m---------------------------------------------------------------------------\u001b[0m",
      "\u001b[1;31mTypeError\u001b[0m                                 Traceback (most recent call last)",
      "\u001b[1;32m<ipython-input-6-8c520a679bfd>\u001b[0m in \u001b[0;36m<module>\u001b[1;34m\u001b[0m\n\u001b[0;32m     11\u001b[0m         \u001b[0mprint\u001b[0m\u001b[1;33m(\u001b[0m\u001b[1;36m4\u001b[0m\u001b[1;33m*\u001b[0m\u001b[1;36m3.14\u001b[0m\u001b[1;33m*\u001b[0m\u001b[0mself\u001b[0m\u001b[1;33m.\u001b[0m\u001b[0mr\u001b[0m\u001b[1;33m)\u001b[0m\u001b[1;33m\u001b[0m\u001b[1;33m\u001b[0m\u001b[0m\n\u001b[0;32m     12\u001b[0m \u001b[1;33m\u001b[0m\u001b[0m\n\u001b[1;32m---> 13\u001b[1;33m \u001b[0mc\u001b[0m \u001b[1;33m=\u001b[0m \u001b[0mCircle\u001b[0m\u001b[1;33m(\u001b[0m\u001b[1;36m10\u001b[0m\u001b[1;33m)\u001b[0m\u001b[1;33m\u001b[0m\u001b[1;33m\u001b[0m\u001b[0m\n\u001b[0m\u001b[0;32m     14\u001b[0m \u001b[0mc1\u001b[0m \u001b[1;33m=\u001b[0m \u001b[0mCircle\u001b[0m\u001b[1;33m(\u001b[0m\u001b[1;36m7\u001b[0m\u001b[1;33m)\u001b[0m\u001b[1;33m\u001b[0m\u001b[1;33m\u001b[0m\u001b[0m\n\u001b[0;32m     15\u001b[0m \u001b[0mc2\u001b[0m \u001b[1;33m=\u001b[0m \u001b[0mCircle\u001b[0m\u001b[1;33m(\u001b[0m\u001b[1;36m20\u001b[0m\u001b[1;33m)\u001b[0m\u001b[1;33m\u001b[0m\u001b[1;33m\u001b[0m\u001b[0m\n",
      "\u001b[1;31mTypeError\u001b[0m: Circle() takes no arguments"
     ]
    }
   ],
   "source": [
    "# create a circle class and print area and perimeter of the circle\n",
    "# count the no of objects\n",
    "class Circle:\n",
    "    count = 0\n",
    "    def _init_(self,r):\n",
    "        self.r = r\n",
    "        Circle.count += 1\n",
    "        \n",
    "    def area(self):\n",
    "        print(3.14*self.r*self.r)\n",
    "    \n",
    "    def perimeter(self):\n",
    "        print(4*3.14*self.r)\n",
    "    \n",
    "c = Circle(10)\n",
    "c1 = Circle(7)\n",
    "c2 = Circle(20)\n",
    "c.area()\n",
    "c.perimeter()\n",
    "c1.area()\n",
    "c1.perimeter()\n",
    "print(\"no of objects are: \")"
   ]
  },
  {
   "cell_type": "markdown",
   "metadata": {},
   "source": [
    "### Inheritance"
   ]
  },
  {
   "cell_type": "code",
   "execution_count": 11,
   "metadata": {},
   "outputs": [
    {
     "name": "stdout",
     "output_type": "stream",
     "text": [
      "this is class A method \n",
      "this is class B method\n"
     ]
    }
   ],
   "source": [
    "# Single inheritance\n",
    "class A:\n",
    "    def add(self):\n",
    "        print(\"this is class A method \")\n",
    "class B(A):\n",
    "    def sub(self):\n",
    "        print(\"this is class B method\")\n",
    "a = A()\n",
    "b = B()\n",
    "a.add()\n",
    "b.sub()\n",
    "\n",
    "\n"
   ]
  },
  {
   "cell_type": "code",
   "execution_count": 13,
   "metadata": {},
   "outputs": [
    {
     "name": "stdout",
     "output_type": "stream",
     "text": [
      "this is class A method \n",
      "this is class A sub method\n"
     ]
    }
   ],
   "source": [
    "# Multiple inheritance\n",
    "class A:\n",
    "    def add(self):\n",
    "        print(\"this is class A method \")\n",
    "    def sub(self):\n",
    "        print(\"this is class A sub method\")\n",
    "class B:\n",
    "    def sub(self):\n",
    "        print(\"this is class B method\")\n",
    "class C(A,B):\n",
    "       pass\n",
    "c = C()\n",
    "c.add()\n",
    "c.sub()\n"
   ]
  },
  {
   "cell_type": "code",
   "execution_count": 17,
   "metadata": {},
   "outputs": [
    {
     "name": "stdout",
     "output_type": "stream",
     "text": [
      "this is class C method\n",
      "this is class B method\n",
      "this is class A method \n"
     ]
    }
   ],
   "source": [
    "# Multi level inheritance\n",
    "class A:\n",
    "    def add(self):\n",
    "        print(\"this is class A method \")\n",
    "class B(A):\n",
    "    def sub(self):\n",
    "        print(\"this is class B method\")\n",
    "class C(B):\n",
    "    def mul(self):\n",
    "        print(\"this is class C method\")\n",
    "b = B()\n",
    "c = C()\n",
    "c.mul()\n",
    "c.sub()\n",
    "c.add()\n",
    "\n"
   ]
  },
  {
   "cell_type": "code",
   "execution_count": 20,
   "metadata": {},
   "outputs": [
    {
     "name": "stdout",
     "output_type": "stream",
     "text": [
      "this is class A method \n",
      "this is class B method\n",
      "this is class A method \n",
      "this is class C method\n"
     ]
    }
   ],
   "source": [
    "# Hierarchical inheritance\n",
    "class A:\n",
    "    def add(self):\n",
    "        print(\"this is class A method \")\n",
    "class B(A):\n",
    "    def sub(self):\n",
    "        print(\"this is class B method\")\n",
    "class C(A):\n",
    "    def mul(self):\n",
    "        print(\"this is class C method\")\n",
    "b = B()\n",
    "c = C()\n",
    "b.add()\n",
    "b.sub()\n",
    "c.add()\n",
    "c.mul()"
   ]
  },
  {
   "cell_type": "code",
   "execution_count": 10,
   "metadata": {},
   "outputs": [
    {
     "ename": "TypeError",
     "evalue": "Cannot create a consistent method resolution\norder (MRO) for bases A, B",
     "output_type": "error",
     "traceback": [
      "\u001b[1;31m---------------------------------------------------------------------------\u001b[0m",
      "\u001b[1;31mTypeError\u001b[0m                                 Traceback (most recent call last)",
      "\u001b[1;32m<ipython-input-10-e9b47e2b00bd>\u001b[0m in \u001b[0;36m<module>\u001b[1;34m\u001b[0m\n\u001b[0;32m      6\u001b[0m     \u001b[1;32mdef\u001b[0m \u001b[0msub\u001b[0m\u001b[1;33m(\u001b[0m\u001b[0mself\u001b[0m\u001b[1;33m)\u001b[0m\u001b[1;33m:\u001b[0m\u001b[1;33m\u001b[0m\u001b[1;33m\u001b[0m\u001b[0m\n\u001b[0;32m      7\u001b[0m         \u001b[0mprint\u001b[0m\u001b[1;33m(\u001b[0m\u001b[1;34m\"this is class B method\"\u001b[0m\u001b[1;33m)\u001b[0m\u001b[1;33m\u001b[0m\u001b[1;33m\u001b[0m\u001b[0m\n\u001b[1;32m----> 8\u001b[1;33m \u001b[1;32mclass\u001b[0m \u001b[0mC\u001b[0m\u001b[1;33m(\u001b[0m\u001b[0mA\u001b[0m\u001b[1;33m,\u001b[0m\u001b[0mB\u001b[0m\u001b[1;33m)\u001b[0m\u001b[1;33m:\u001b[0m\u001b[1;33m\u001b[0m\u001b[1;33m\u001b[0m\u001b[0m\n\u001b[0m\u001b[0;32m      9\u001b[0m     \u001b[1;32mdef\u001b[0m \u001b[0mmul\u001b[0m\u001b[1;33m(\u001b[0m\u001b[0mself\u001b[0m\u001b[1;33m)\u001b[0m\u001b[1;33m:\u001b[0m\u001b[1;33m\u001b[0m\u001b[1;33m\u001b[0m\u001b[0m\n\u001b[0;32m     10\u001b[0m         \u001b[0mprint\u001b[0m\u001b[1;33m(\u001b[0m\u001b[1;34m\"this is class C method\"\u001b[0m\u001b[1;33m)\u001b[0m\u001b[1;33m\u001b[0m\u001b[1;33m\u001b[0m\u001b[0m\n",
      "\u001b[1;31mTypeError\u001b[0m: Cannot create a consistent method resolution\norder (MRO) for bases A, B"
     ]
    }
   ],
   "source": [
    "# Hybrid inheritance--->Hierarchical+Multiple\n",
    "class A:\n",
    "    def add(self):\n",
    "        print(\"this is class A method \")\n",
    "class B(A):\n",
    "    def sub(self):\n",
    "        print(\"this is class B method\")\n",
    "class C(A,B):\n",
    "    def mul(self):\n",
    "        print(\"this is class C method\")\n",
    "c = C()\n",
    "c.add()\n",
    "c.sub()"
   ]
  },
  {
   "cell_type": "markdown",
   "metadata": {},
   "source": [
    "#Real time scenarios\n",
    "#class1 -->\n",
    " * mention student details--->name,rollno,branch\n",
    " * method --> print student details\n",
    "\n",
    "#class2 -->\n",
    " * members -->rollno,total fee, paid\n",
    " * method --> print the due amount1"
   ]
  },
  {
   "cell_type": "code",
   "execution_count": 24,
   "metadata": {},
   "outputs": [
    {
     "name": "stdout",
     "output_type": "stream",
     "text": [
      "odd num are: 1\n",
      "odd num are: 3\n",
      "odd num are: 5\n",
      "odd num are: 7\n",
      "odd num are: 9\n",
      "odd num are: 11\n"
     ]
    }
   ],
   "source": [
    "def odd(n):\n",
    "    i = 1\n",
    "    for i in range(1,n):\n",
    "        if i % 2 != 0:\n",
    "            print(\"odd num are:\",i)\n",
    "odd(12)        "
   ]
  },
  {
   "cell_type": "code",
   "execution_count": null,
   "metadata": {},
   "outputs": [],
   "source": []
  },
  {
   "cell_type": "code",
   "execution_count": null,
   "metadata": {},
   "outputs": [],
   "source": []
  },
  {
   "cell_type": "code",
   "execution_count": null,
   "metadata": {},
   "outputs": [],
   "source": []
  },
  {
   "cell_type": "code",
   "execution_count": null,
   "metadata": {},
   "outputs": [],
   "source": []
  }
 ],
 "metadata": {
  "kernelspec": {
   "display_name": "Python 3",
   "language": "python",
   "name": "python3"
  },
  "language_info": {
   "codemirror_mode": {
    "name": "ipython",
    "version": 3
   },
   "file_extension": ".py",
   "mimetype": "text/x-python",
   "name": "python",
   "nbconvert_exporter": "python",
   "pygments_lexer": "ipython3",
   "version": "3.7.4"
  }
 },
 "nbformat": 4,
 "nbformat_minor": 2
}
