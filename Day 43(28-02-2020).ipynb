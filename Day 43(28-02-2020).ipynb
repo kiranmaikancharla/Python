{
 "cells": [
  {
   "cell_type": "markdown",
   "metadata": {},
   "source": [
    "#### Strings and string related problems \n",
    "- String: Sequence of charectors\n",
    "- Python: Charector and String\n",
    "- ord(char) : Represents the output in terms os ACSII number\n",
    "- chr(ord(chr)) : Represents the output in terms of charector\n",
    "- ASCII Numbers : \n",
    "    - A - Z : 65 - 90\n",
    "    - a - z : 97 - 122\n",
    "    - 0 - 9 : 48 - 57\n",
    "    - space : 32"
   ]
  },
  {
   "cell_type": "code",
   "execution_count": 3,
   "metadata": {},
   "outputs": [
    {
     "name": "stdout",
     "output_type": "stream",
     "text": [
      "<class 'str'> <class 'str'>\n",
      "97\n",
      "a\n"
     ]
    }
   ],
   "source": [
    "s1 = 'a'\n",
    "s2 = 'application'\n",
    "print(type(s1),type(s2))\n",
    "print(ord(s1))\n",
    "print(chr(ord(s1)))"
   ]
  },
  {
   "cell_type": "code",
   "execution_count": 4,
   "metadata": {},
   "outputs": [
    {
     "name": "stdout",
     "output_type": "stream",
     "text": [
      "appliccation\n",
      "Upper case : 0 Lower case : 12\n"
     ]
    }
   ],
   "source": [
    "li = []\n",
    "s1 = input()\n",
    "ucnt = 0\n",
    "lcnt = 0\n",
    "for i in range(len(s1)):\n",
    "    if ord(s1[i]) >= 65 and ord(s1[i]) <= 90:\n",
    "        ucnt += 1\n",
    "    elif ord(s1[i]) >= 97 and ord(s1[i]) <= 122:\n",
    "        lcnt += 1\n",
    "print('Upper case : {} Lower case : {}'.format(ucnt, lcnt))"
   ]
  },
  {
   "cell_type": "code",
   "execution_count": 8,
   "metadata": {},
   "outputs": [
    {
     "data": {
      "text/plain": [
       "True"
      ]
     },
     "execution_count": 8,
     "metadata": {},
     "output_type": "execute_result"
    }
   ],
   "source": [
    "'A'.isupper()"
   ]
  },
  {
   "cell_type": "code",
   "execution_count": 9,
   "metadata": {},
   "outputs": [
    {
     "data": {
      "text/plain": [
       "False"
      ]
     },
     "execution_count": 9,
     "metadata": {},
     "output_type": "execute_result"
    }
   ],
   "source": [
    "'B'.islower()"
   ]
  },
  {
   "cell_type": "code",
   "execution_count": 10,
   "metadata": {},
   "outputs": [
    {
     "name": "stdout",
     "output_type": "stream",
     "text": [
      "AppLicatioN\n",
      "Upper case : 3 Lower case : 8\n"
     ]
    }
   ],
   "source": [
    "li = []\n",
    "s1 = input()\n",
    "ucnt = 0\n",
    "lcnt = 0\n",
    "for i in range(len(s1)):\n",
    "    if s1[i].isupper():\n",
    "        ucnt += 1\n",
    "    elif s1[i].islower():\n",
    "        lcnt += 1\n",
    "print('Upper case : {} Lower case : {}'.format(ucnt, lcnt))"
   ]
  },
  {
   "cell_type": "code",
   "execution_count": 24,
   "metadata": {},
   "outputs": [
    {
     "name": "stdout",
     "output_type": "stream",
     "text": [
      "16\n"
     ]
    }
   ],
   "source": [
    "# App1ica8ti8on9\n",
    "# 16(8+8)\n",
    "\n",
    "s1 = 'App1ica8ti8on9'\n",
    "sum = 0\n",
    "for i in range(len(s1)):\n",
    "    if ord(s1[i]) >= 48 and ord(s1[i]) <= 57:\n",
    "        x = ord(s1[i])-48\n",
    "        if x % 2 == 0:\n",
    "            sum = sum+x\n",
    "print(sum)"
   ]
  },
  {
   "cell_type": "code",
   "execution_count": 21,
   "metadata": {},
   "outputs": [
    {
     "name": "stdout",
     "output_type": "stream",
     "text": [
      "appli1ddsf8f8sfd9\n",
      "16\n"
     ]
    }
   ],
   "source": [
    "final_sum = 0\n",
    "s1 = input()\n",
    "for i in range(len(s1)):\n",
    "    if s1[i].isdigit():\n",
    "        k = ord(s1[i]) - 48\n",
    "        if k % 2 == 0:\n",
    "            final_sum += k\n",
    "print('{}'.format(final_sum))\n",
    "    "
   ]
  },
  {
   "cell_type": "code",
   "execution_count": 37,
   "metadata": {},
   "outputs": [
    {
     "name": "stdout",
     "output_type": "stream",
     "text": [
      "['1', '2', '3', '2', '1', '4', '5', '8', '7', '3', '4', '2']\n"
     ]
    }
   ],
   "source": [
    "# Mobile123Needs21works45land87user342\n",
    "# 153 465\n",
    "\n",
    "s = 'Mobile 123 Needs21works45land87user342'\n",
    "l = []\n",
    "for i in s:\n",
    "    x=s.split()\n",
    "    if i .isdigit():\n",
    "        l.append(i)\n",
    "print(l)"
   ]
  },
  {
   "cell_type": "code",
   "execution_count": 45,
   "metadata": {},
   "outputs": [
    {
     "name": "stdout",
     "output_type": "stream",
     "text": [
      "['mobile', '123', 'Needs', '21', 'works', '45', 'land', '87', 'user', '342', '']\n",
      "153 465\n"
     ]
    }
   ],
   "source": [
    "import re\n",
    "x='mobile123Needs21works45land87user342'\n",
    "a=re.split('(\\d+)',x)\n",
    "print(a)\n",
    "l=a[1::2]\n",
    "c=0\n",
    "c1=0\n",
    "for i in l:\n",
    "    if len(i)==2:\n",
    "        c=c+int(i)\n",
    "    elif len(i)==3:\n",
    "        c1=c1+int(i)\n",
    "print(c,c1)\n",
    "\n"
   ]
  },
  {
   "cell_type": "code",
   "execution_count": 40,
   "metadata": {},
   "outputs": [
    {
     "name": "stdout",
     "output_type": "stream",
     "text": [
      "['123', '21', '45', '87', '342']\n",
      "465,153\n",
      "None\n"
     ]
    }
   ],
   "source": [
    "def str(string):\n",
    "    pc = string[0]\n",
    "    groups = []\n",
    "    c=0\n",
    "    c1=0\n",
    "    newword = string[0]\n",
    "    for x, i in enumerate(string[1:]):\n",
    "        if i.isalpha() and pc.isalpha():\n",
    "            newword += i\n",
    "        elif i.isnumeric() and pc.isnumeric():\n",
    "            newword += i\n",
    "        else:\n",
    "            groups.append(newword)\n",
    "            newword = i\n",
    "\n",
    "        pc = i\n",
    "\n",
    "        if x == len(string) - 2:\n",
    "            groups.append(newword)\n",
    "            newword = ''\n",
    "    a=groups[1::2]\n",
    "    print(a)\n",
    "    for i in a:\n",
    "        if len(i)==3:\n",
    "            c=c+int(i)\n",
    "        else:\n",
    "            c1=c1+int(i)\n",
    "    print('{},{}'.format(c,c1))  \n",
    "print(str('mobile123Needs21works45land87user342'))\n"
   ]
  },
  {
   "cell_type": "code",
   "execution_count": 41,
   "metadata": {},
   "outputs": [
    {
     "ename": "NameError",
     "evalue": "name 'check' is not defined",
     "output_type": "error",
     "traceback": [
      "\u001b[1;31m---------------------------------------------------------------------------\u001b[0m",
      "\u001b[1;31mNameError\u001b[0m                                 Traceback (most recent call last)",
      "\u001b[1;32m<ipython-input-41-50d482fa78b9>\u001b[0m in \u001b[0;36m<module>\u001b[1;34m\u001b[0m\n\u001b[0;32m      9\u001b[0m         \u001b[1;32melse\u001b[0m\u001b[1;33m:\u001b[0m\u001b[1;33m\u001b[0m\u001b[1;33m\u001b[0m\u001b[0m\n\u001b[0;32m     10\u001b[0m             \u001b[1;32mbreak\u001b[0m\u001b[1;33m\u001b[0m\u001b[1;33m\u001b[0m\u001b[0m\n\u001b[1;32m---> 11\u001b[1;33m         \u001b[1;32mif\u001b[0m \u001b[0mcheck\u001b[0m\u001b[1;33m(\u001b[0m\u001b[0mnum\u001b[0m\u001b[1;33m)\u001b[0m \u001b[1;33m==\u001b[0m  \u001b[1;36m2\u001b[0m\u001b[1;33m:\u001b[0m\u001b[1;33m\u001b[0m\u001b[1;33m\u001b[0m\u001b[0m\n\u001b[0m\u001b[0;32m     12\u001b[0m             \u001b[0mfinal_sum\u001b[0m \u001b[1;33m+=\u001b[0m \u001b[0mnum\u001b[0m\u001b[1;33m\u001b[0m\u001b[1;33m\u001b[0m\u001b[0m\n\u001b[0;32m     13\u001b[0m         \u001b[1;32melif\u001b[0m \u001b[0mcheck\u001b[0m\u001b[1;33m(\u001b[0m\u001b[0mnum\u001b[0m\u001b[1;33m)\u001b[0m \u001b[1;33m==\u001b[0m \u001b[1;36m3\u001b[0m\u001b[1;33m:\u001b[0m\u001b[1;33m\u001b[0m\u001b[1;33m\u001b[0m\u001b[0m\n",
      "\u001b[1;31mNameError\u001b[0m: name 'check' is not defined"
     ]
    }
   ],
   "source": [
    "\n",
    "final_x = 0\n",
    "for i in range(len(s1)):\n",
    "    num = 0\n",
    "    while True:\n",
    "        if s1[i].isdigit():\n",
    "            k = ord(s1[i]) - 48\n",
    "            num = (num*10) + k\n",
    "            i += 1\n",
    "        else:\n",
    "            break\n",
    "        if check(num) ==  2:\n",
    "            final_sum += num\n",
    "        elif check(num) == 3:\n",
    "            final_x += num\n",
    "print('{0}{1}'.format(final_sum,final_x))"
   ]
  },
  {
   "cell_type": "code",
   "execution_count": 44,
   "metadata": {},
   "outputs": [
    {
     "name": "stdout",
     "output_type": "stream",
     "text": [
      "mobile123Needs21works45land87user342\n",
      "['123', '21', '45', '87', '342']\n",
      "two digit sum:153 three digit sum:465\n"
     ]
    }
   ],
   "source": [
    "import re\n",
    "s=input()\n",
    "savings=0\n",
    "net_amount=0\n",
    "res=re.findall('(\\d+)',s)\n",
    "print(res)\n",
    "for i in res:\n",
    "    if len(i)==2:\n",
    "        savings=savings+int(i)\n",
    "    elif len(i)==3:\n",
    "        net_amount=net_amount+int(i)\n",
    "print('two digit sum:{} three digit sum:{}'.format(savings,net_amount)) \n"
   ]
  },
  {
   "cell_type": "code",
   "execution_count": 46,
   "metadata": {},
   "outputs": [],
   "source": [
    "# Password Encryption Format - 128 bytes(Manual Encryption)\n",
    "# Not spl chars and digits\n",
    "\n",
    "# Input:\n",
    "# Abcd Aabc aabc\n",
    "# ABCD AABCDE AABC\n",
    "\n",
    "# Output:\n",
    "# !@@!!!@@@@\n",
    "# !@!!@@@!!!!@@@@@\n",
    "# !@!!@@@\n"
   ]
  },
  {
   "cell_type": "code",
   "execution_count": null,
   "metadata": {},
   "outputs": [],
   "source": [
    "1  2   3    4\n",
    "A  B  C   D\n",
    "! @@ !!! @@@@\n",
    "A  A  B   C    D    E\n",
    "!  @  !!  @@@  !!!! @@@@@\n",
    "A  A  B   C\n",
    "!  @  !!  @@@"
   ]
  },
  {
   "cell_type": "code",
   "execution_count": 54,
   "metadata": {},
   "outputs": [
    {
     "name": "stdout",
     "output_type": "stream",
     "text": [
      "ABCD AABCDE AABC\n",
      "!@!@!@!@!@\n",
      "!@!@!@!@!@!@!@!@\n",
      "!@!@!@!"
     ]
    }
   ],
   "source": [
    "s = input()\n",
    "s = s.upper()\n",
    "ch = '!'\n",
    "for i in range(len(s)):\n",
    "    if ord(s[i]) != 32:\n",
    "        k = ord(s[i]) - 64\n",
    "        for j in range(k):\n",
    "            print(ch,end='')\n",
    "            if ch == '!':\n",
    "                ch = '@'\n",
    "            else :\n",
    "                ch = '!'\n",
    "    else:\n",
    "        print()\n",
    "        ch = '!'\n",
    "            "
   ]
  },
  {
   "cell_type": "code",
   "execution_count": 48,
   "metadata": {},
   "outputs": [
    {
     "name": "stdout",
     "output_type": "stream",
     "text": [
      "!@@!!!@@@@@!@@!!!@@@@!!!!!!@!!@@@"
     ]
    }
   ],
   "source": [
    "def password(s) :\n",
    "    evenPos = '@'\n",
    "    oddPos = '!'\n",
    "    for i in range(len(s)) :\n",
    "        ascii = ord(s[i]);  \n",
    "        if ascii >= 97:\n",
    "            repeat = (ascii - 96 )\n",
    "        else:\n",
    "            repeat=(ascii - 64)\n",
    "\n",
    "        for j in range(repeat):\n",
    "            if (i % 2 == 0):\n",
    "                print(oddPos, end = \"\")\n",
    "            else :\n",
    "                print(evenPos, end = \"\")\n",
    "password('ABCD AABCDE AABC')\n"
   ]
  },
  {
   "cell_type": "code",
   "execution_count": 57,
   "metadata": {},
   "outputs": [
    {
     "name": "stdout",
     "output_type": "stream",
     "text": [
      "ABBCCCDDDD"
     ]
    }
   ],
   "source": [
    "# Input : 1A2B3C4D\n",
    "# Output : AABBCCCDDDD\n",
    "\n",
    "s = '1A2B3C4D' \n",
    "for i in range(0,len(s),2):\n",
    "    print(s[i+1]*int(s[i]),end='')"
   ]
  },
  {
   "cell_type": "markdown",
   "metadata": {},
   "source": [
    "## OOPS\n",
    "- Class : Collection of Data members and Member Functions into single unit is called Class\n",
    "    - Data Members : Varibles list tuple dict\n",
    "    - Member Functions : Methods and Constructors\n",
    "    - Class is Logical Entity it means when create a class it does not access the memory\n",
    "- Object :\n",
    "    - Instance or Phisycal Entity\n",
    "- Inheritance : "
   ]
  },
  {
   "cell_type": "code",
   "execution_count": null,
   "metadata": {},
   "outputs": [],
   "source": [
    "class Demo:# class defintion\n",
    "    x = 10 # variable\n",
    "    def test():# Method\n",
    "        return"
   ]
  }
 ],
 "metadata": {
  "kernelspec": {
   "display_name": "Python 3",
   "language": "python",
   "name": "python3"
  },
  "language_info": {
   "codemirror_mode": {
    "name": "ipython",
    "version": 3
   },
   "file_extension": ".py",
   "mimetype": "text/x-python",
   "name": "python",
   "nbconvert_exporter": "python",
   "pygments_lexer": "ipython3",
   "version": "3.7.4"
  }
 },
 "nbformat": 4,
 "nbformat_minor": 2
}
