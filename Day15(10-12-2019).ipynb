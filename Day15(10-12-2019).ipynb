{
 "cells": [
  {
   "cell_type": "markdown",
   "metadata": {},
   "source": [
    "### Programing in Python with Strings\n",
    "* strings\n",
    "* string slicing\n",
    "* Fundamental programs and examples with strings"
   ]
  },
  {
   "cell_type": "code",
   "execution_count": 5,
   "metadata": {},
   "outputs": [
    {
     "name": "stdout",
     "output_type": "stream",
     "text": [
      "Python\n",
      "Programing\n",
      "A\n",
      "<class 'str'>\n",
      "<class 'str'>\n",
      "<class 'str'>\n"
     ]
    }
   ],
   "source": [
    "s1 = 'Python'\n",
    "s2 = \"Programing\"\n",
    "s3 = 'A'\n",
    "print(s1)\n",
    "print(s2)\n",
    "print(s3)\n",
    "print(type(s1))\n",
    "print(type(s2))\n",
    "print(type(s3))"
   ]
  },
  {
   "cell_type": "markdown",
   "metadata": {},
   "source": [
    "### String Slicing"
   ]
  },
  {
   "cell_type": "code",
   "execution_count": 11,
   "metadata": {},
   "outputs": [
    {
     "name": "stdout",
     "output_type": "stream",
     "text": [
      "P\n",
      "y\n",
      "6\n",
      "n\n",
      "n\n",
      "o\n"
     ]
    }
   ],
   "source": [
    "s1 = \"Python\"\n",
    "print(s1[0]) #Accessing the first character in a string\n",
    "print(s1[1]) #Accessing the second character in a string\n",
    "print(len(s1)) # Length of the string\n",
    "print(s1[len(s1)-1]) # Access the last character of the string\n",
    "print(s1[-1]) # Another way to access the last character\n",
    "print(s1[-2])"
   ]
  },
  {
   "cell_type": "code",
   "execution_count": 13,
   "metadata": {},
   "outputs": [
    {
     "name": "stdout",
     "output_type": "stream",
     "text": [
      "Py\n",
      "on\n",
      "hon\n",
      "tho\n",
      "ytho\n"
     ]
    }
   ],
   "source": [
    "print(s1[0:2]) # Access the first two charaters\n",
    "print(s1[-2:]) # Access the last two characters\n",
    "print(s1[3:])  # Access the character from 3 till last\n",
    "print(s1[2:5]) # Access the characters from 2 to 5\n",
    "print(s1[1:-1]) # All the characters except 1st and last character"
   ]
  },
  {
   "cell_type": "code",
   "execution_count": 14,
   "metadata": {},
   "outputs": [
    {
     "data": {
      "text/plain": [
       "'nohtyP'"
      ]
     },
     "execution_count": 14,
     "metadata": {},
     "output_type": "execute_result"
    }
   ],
   "source": [
    " s1[-1::-1] # Reverse the string\n"
   ]
  },
  {
   "cell_type": "code",
   "execution_count": 17,
   "metadata": {},
   "outputs": [
    {
     "data": {
      "text/plain": [
       "'Pto'"
      ]
     },
     "execution_count": 17,
     "metadata": {},
     "output_type": "execute_result"
    }
   ],
   "source": [
    "# Access the characters in string alternate\n",
    "# Python -- Pto\n",
    "s1[::2]"
   ]
  },
  {
   "cell_type": "code",
   "execution_count": 18,
   "metadata": {},
   "outputs": [
    {
     "data": {
      "text/plain": [
       "'nhy'"
      ]
     },
     "execution_count": 18,
     "metadata": {},
     "output_type": "execute_result"
    }
   ],
   "source": [
    "# Access the alternate characters from reverse direction\n",
    "# Python -- nhy\n",
    "s1[::-2]"
   ]
  },
  {
   "cell_type": "code",
   "execution_count": 19,
   "metadata": {},
   "outputs": [
    {
     "data": {
      "text/plain": [
       "'Ph'"
      ]
     },
     "execution_count": 19,
     "metadata": {},
     "output_type": "execute_result"
    }
   ],
   "source": [
    "s1[::3]"
   ]
  },
  {
   "cell_type": "code",
   "execution_count": 20,
   "metadata": {},
   "outputs": [
    {
     "data": {
      "text/plain": [
       "'thon'"
      ]
     },
     "execution_count": 20,
     "metadata": {},
     "output_type": "execute_result"
    }
   ],
   "source": [
    "s1[2::]"
   ]
  },
  {
   "cell_type": "code",
   "execution_count": 21,
   "metadata": {},
   "outputs": [
    {
     "data": {
      "text/plain": [
       "'yhn'"
      ]
     },
     "execution_count": 21,
     "metadata": {},
     "output_type": "execute_result"
    }
   ],
   "source": [
    "s1[1::2]"
   ]
  },
  {
   "cell_type": "markdown",
   "metadata": {},
   "source": [
    "### Control Statements\n",
    "* Conditional Statements or Selection Statements\n",
    "    * if-else\n",
    "* Iterational Statements or Loop Statements\n",
    "    * while\n",
    "    * for"
   ]
  },
  {
   "cell_type": "code",
   "execution_count": 23,
   "metadata": {},
   "outputs": [
    {
     "name": "stdout",
     "output_type": "stream",
     "text": [
      "1996\n",
      "Leap year\n"
     ]
    }
   ],
   "source": [
    "# Check the input is leap year or not\n",
    "year = int(input(''))\n",
    "if year % 400 == 0 or (year % 100 != 0 and year % 4 == 0):\n",
    "    print(\"Leap year\")\n",
    "else:\n",
    "    print(\"Not leap year\")"
   ]
  },
  {
   "cell_type": "markdown",
   "metadata": {},
   "source": [
    "### While loop"
   ]
  },
  {
   "cell_type": "code",
   "execution_count": 7,
   "metadata": {},
   "outputs": [
    {
     "name": "stdout",
     "output_type": "stream",
     "text": [
      "enter a number: 10\n",
      "1 2 3 4 5 6 7 8 9 10 "
     ]
    }
   ],
   "source": [
    "# Print numbers from 1 to N\n",
    "# Input : 10\n",
    "# Output : 1 2 3 4 5 ....10\n",
    "def natural(n):\n",
    "    i = 1\n",
    "    while i <= n:\n",
    "        print(i,end=\" \")\n",
    "        i = i+1\n",
    "n=int(input(\"enter a number: \"))\n",
    "natural(n)"
   ]
  },
  {
   "cell_type": "code",
   "execution_count": 1,
   "metadata": {},
   "outputs": [
    {
     "name": "stdout",
     "output_type": "stream",
     "text": [
      "Enter the number: 10\n",
      "30\n"
     ]
    }
   ],
   "source": [
    "# Read a numbers as input\n",
    "# Ouput as only even numbers sum from 1 to N\n",
    "\n",
    "# Input : 10\n",
    "# Ouput : 30(2+4+6+8+10)\n",
    "\n",
    "n = int(input(\"Enter the number: \"))\n",
    "i = 1\n",
    "sum = 0\n",
    "while i <= n:\n",
    "    if i % 2 == 0:\n",
    "        sum = sum + i\n",
    "    i = i + 1\n",
    "print(sum)\n",
    "    \n",
    "\n",
    "\n"
   ]
  },
  {
   "cell_type": "code",
   "execution_count": 4,
   "metadata": {},
   "outputs": [
    {
     "name": "stdout",
     "output_type": "stream",
     "text": [
      "enter the number:123\n"
     ]
    }
   ],
   "source": [
    "# Read a number as input\n",
    "# Output has to be digits of the number\n",
    "\n",
    "# Input : 123\n",
    "# Output : 3 2 1\n",
    "\n",
    "n = int(input(\"enter the number:\"))\n",
    "while n != 0:\n",
    "    print(n%10,end=' ')\n",
    "    n = n // 10\n"
   ]
  },
  {
   "cell_type": "code",
   "execution_count": 11,
   "metadata": {},
   "outputs": [
    {
     "name": "stdout",
     "output_type": "stream",
     "text": [
      "12345678\n"
     ]
    }
   ],
   "source": [
    "n = 123456789 // 10\n",
    "print(n)"
   ]
  },
  {
   "cell_type": "code",
   "execution_count": 15,
   "metadata": {},
   "outputs": [
    {
     "name": "stdout",
     "output_type": "stream",
     "text": [
      "5\n"
     ]
    }
   ],
   "source": [
    "i = 12345 % 10\n",
    "print(i)"
   ]
  },
  {
   "cell_type": "code",
   "execution_count": 7,
   "metadata": {},
   "outputs": [
    {
     "name": "stdout",
     "output_type": "stream",
     "text": [
      "4\n",
      "123\n"
     ]
    }
   ],
   "source": [
    "n = 1234 % 10\n",
    "print(n)\n",
    "n = 1234 // 10\n",
    "print(n)"
   ]
  },
  {
   "cell_type": "code",
   "execution_count": 4,
   "metadata": {},
   "outputs": [
    {
     "name": "stdout",
     "output_type": "stream",
     "text": [
      "1\n",
      "0\n"
     ]
    }
   ],
   "source": [
    "r=n%10\n",
    "print(r)\n",
    "n=n//10\n",
    "print(n)"
   ]
  },
  {
   "cell_type": "markdown",
   "metadata": {},
   "source": [
    "### Functional Programming\n",
    "- Simple\n",
    "- Easy understand\n",
    "- Better Reuseability\n",
    "- Lenghty Program will be divided into Sub Programs"
   ]
  },
  {
   "cell_type": "code",
   "execution_count": 11,
   "metadata": {},
   "outputs": [
    {
     "name": "stdout",
     "output_type": "stream",
     "text": [
      "12\n"
     ]
    }
   ],
   "source": [
    "# Read a Number \n",
    "# Print the Even digit sum from the number\n",
    "\n",
    "# Input : 1234\n",
    "# Output : 6(2 + 4)\n",
    "\n",
    "def evenDigitSum(n):\n",
    "    s = 0\n",
    "    while n != 0:\n",
    "        r = n % 10\n",
    "        if r % 2 == 0:\n",
    "            s = s + r\n",
    "        n = n // 10\n",
    "    print(s)\n",
    "evenDigitSum(123456)"
   ]
  },
  {
   "cell_type": "code",
   "execution_count": 13,
   "metadata": {},
   "outputs": [
    {
     "name": "stdout",
     "output_type": "stream",
     "text": [
      "8\n"
     ]
    }
   ],
   "source": [
    "# Input : 19535\n",
    "# Output : 9 (Large digit of the given number)\n",
    "# Functional programming\n",
    "\n",
    "def largeDigit(n):\n",
    "    large = 0\n",
    "    while n != 0:\n",
    "        r = n % 10\n",
    "        if large < r:\n",
    "            large = r\n",
    "        n = n // 10\n",
    "    print(large)\n",
    "largeDigit(1586)"
   ]
  },
  {
   "cell_type": "code",
   "execution_count": 17,
   "metadata": {},
   "outputs": [
    {
     "name": "stdout",
     "output_type": "stream",
     "text": [
      "120\n"
     ]
    }
   ],
   "source": [
    "# Read a number as input\n",
    "# Ouput Yes or No\n",
    "\n",
    "# Input : 145\n",
    "# Output : Yes\n",
    "\n",
    "# Input : 123\n",
    "# Output : No\n",
    "\n",
    "# Individual Digit factorial sum is same as input number\n",
    "\n",
    "def factorial(n):\n",
    "    fact = 1\n",
    "    i = 1\n",
    "    while i <= n:\n",
    "        fact = fact * i\n",
    "        i = i + 1\n",
    "    print(fact)\n",
    "factorial(5)"
   ]
  },
  {
   "cell_type": "code",
   "execution_count": 16,
   "metadata": {},
   "outputs": [
    {
     "name": "stdout",
     "output_type": "stream",
     "text": [
      "yes\n",
      "no\n"
     ]
    }
   ],
   "source": [
    "def factorial(n):\n",
    "    fact = 1\n",
    "    i = 1\n",
    "    while i <= n:\n",
    "        fact = fact * i\n",
    "        i = i + 1\n",
    "    return fact\n",
    "\n",
    "def digitFactSum(n):\n",
    "    s = 0\n",
    "    buffer = n\n",
    "    while n != 0:\n",
    "        r = n % 10\n",
    "        s +=  factorial(r)\n",
    "        n = n // 10\n",
    "    if buffer == s:\n",
    "        return \"yes\"\n",
    "    else:\n",
    "        return \"no\"\n",
    "       \n",
    "        \n",
    "print(digitFactSum(145))\n",
    "print(digitFactSum(123))"
   ]
  },
  {
   "cell_type": "code",
   "execution_count": 23,
   "metadata": {},
   "outputs": [
    {
     "name": "stdout",
     "output_type": "stream",
     "text": [
      "palindrome\n",
      "not palindrome\n"
     ]
    }
   ],
   "source": [
    "# Read a number as input\n",
    "# Output as Palindrome or Not a palindrome\n",
    "# Palindrome --- A number  after reversing is same as the original number\n",
    "\n",
    "# Input : 121\n",
    "# Output : Palindrome\n",
    "\n",
    "# Input : 123\n",
    "# Output : Not a Palindrome\n",
    "\n",
    "def isPalindrome(n):\n",
    "    rev = 0\n",
    "    temp = n\n",
    "    while n != 0:\n",
    "        r = n % 10\n",
    "        rev = rev * 10 + r\n",
    "        n = n // 10\n",
    "    if temp == rev:\n",
    "        print(\"palindrome\")\n",
    "    else:\n",
    "        print(\"not palindrome\")\n",
    "isPalindrome(121)\n",
    "isPalindrome(123)"
   ]
  },
  {
   "cell_type": "markdown",
   "metadata": {},
   "source": [
    "### For Loop"
   ]
  },
  {
   "cell_type": "code",
   "execution_count": 1,
   "metadata": {},
   "outputs": [
    {
     "name": "stdout",
     "output_type": "stream",
     "text": [
      "11 12 13 14 15 16 17 18 19 20 21 22 23 24 25 "
     ]
    }
   ],
   "source": [
    "# Function to print the numbers between two limits\n",
    "# Input : 11 25\n",
    "# Output : 11 12 13 14 ........25\n",
    "\n",
    "def printSeries(lb,ub):\n",
    "    for x in range(lb,ub+1):\n",
    "        print(x,end=' ')\n",
    "    return\n",
    "printSeries(11,25)"
   ]
  },
  {
   "cell_type": "code",
   "execution_count": 36,
   "metadata": {},
   "outputs": [
    {
     "name": "stdout",
     "output_type": "stream",
     "text": [
      "500 502 504 506 508 510 512 514 516 518 520 None\n",
      "100 104 108 112 116 120 124 128 132 136 140 None\n"
     ]
    }
   ],
   "source": [
    "# Function to print alternate numbers\n",
    "# [500,520]-- 502 504 506 508......520\n",
    "# [100,140]-- 100 104 108 112 116....140\n",
    "\n",
    "def alternateNumbers(lb,ub):\n",
    "    for x in range(lb,ub+1,2):\n",
    "        print(x,end=' ')\n",
    "    return\n",
    "print(alternateNumbers(500,520))\n",
    "\n",
    "def alternatenumbers(lu,ub):\n",
    "    for x in range(lu,ub+1,4):\n",
    "        print(x,end=' ')\n",
    "    return\n",
    "print(alternatenumbers(100,140))\n"
   ]
  },
  {
   "cell_type": "code",
   "execution_count": null,
   "metadata": {},
   "outputs": [],
   "source": []
  },
  {
   "cell_type": "code",
   "execution_count": null,
   "metadata": {},
   "outputs": [],
   "source": []
  },
  {
   "cell_type": "code",
   "execution_count": null,
   "metadata": {},
   "outputs": [],
   "source": []
  },
  {
   "cell_type": "code",
   "execution_count": null,
   "metadata": {},
   "outputs": [],
   "source": []
  },
  {
   "cell_type": "code",
   "execution_count": null,
   "metadata": {},
   "outputs": [],
   "source": []
  }
 ],
 "metadata": {
  "kernelspec": {
   "display_name": "Python 3",
   "language": "python",
   "name": "python3"
  },
  "language_info": {
   "codemirror_mode": {
    "name": "ipython",
    "version": 3
   },
   "file_extension": ".py",
   "mimetype": "text/x-python",
   "name": "python",
   "nbconvert_exporter": "python",
   "pygments_lexer": "ipython3",
   "version": "3.7.4"
  }
 },
 "nbformat": 4,
 "nbformat_minor": 2
}
