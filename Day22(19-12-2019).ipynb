{
 "cells": [
  {
   "cell_type": "markdown",
   "metadata": {},
   "source": [
    "### Standard Libraries\n",
    "- Regular Expressions\n",
    "    - To Validate the Indian Mobile\n",
    "    - To Validate the Email ID\n",
    "    - To Validate the Username\n",
    "    - To Validate the Password\n",
    "- Understanding the Regular Expressions\n",
    "    - [0-9] -- Any digit Matching\n",
    "    - [a-z] -- Any lower case matching\n",
    "    - [A-Z] -- Any upper case matching\n",
    "    - cap Symbol is used to represent the start of Regular Expression\n",
    "    - Dollor Symbol is used to represent the end of Regular Expression\n"
   ]
  },
  {
   "cell_type": "code",
   "execution_count": 1,
   "metadata": {},
   "outputs": [
    {
     "name": "stdout",
     "output_type": "stream",
     "text": [
      "True\n",
      "False\n"
     ]
    }
   ],
   "source": [
    "# Fcuntion to test the two digit number as input \n",
    "# True -- Input two digit number\n",
    "# False -- Input not a two digit number\n",
    "\n",
    "import re\n",
    "def twoDigitMatching(n):\n",
    "    pattren = '^[0-9]{2}$'\n",
    "    n = str(n) # str() converts input into str format\n",
    "    if re.match(pattren,n):\n",
    "        return True\n",
    "    return False\n",
    "print(twoDigitMatching(12))# True\n",
    "print(twoDigitMatching(123))# False"
   ]
  },
  {
   "cell_type": "code",
   "execution_count": 4,
   "metadata": {},
   "outputs": [
    {
     "name": "stdout",
     "output_type": "stream",
     "text": [
      "False\n",
      "True\n",
      "False\n"
     ]
    }
   ],
   "source": [
    "# Regular Expression for Username\n",
    "# Username -- should contains lower and upper case charectors\n",
    "# Length -- Min 5 Max 12\n",
    "\n",
    "def validateUsername(s):\n",
    "    pattren = '^[a-zA-Z]{5,12}$'\n",
    "    if re.match(pattren,s):\n",
    "        return True\n",
    "    return False\n",
    "print(validateUsername(\"KiranmaiKancharla\"))\n",
    "print(validateUsername(\"Kiranmai\"))\n",
    "print(validateUsername(\"Hai\"))"
   ]
  },
  {
   "cell_type": "markdown",
   "metadata": {},
   "source": [
    "### Regular Expression\n",
    "- Regular Expression for RollNumber\n",
    "    - Example : 148W1A1225 # Valid\n",
    "    - Example : 158W1A1225 # Not Valid\n",
    "- Regular Expression for Password\n",
    "    - Parameters - Len Min 6 Max 10\n",
    "    - Accept Lower case, Upper case, Digits and spl (@,!,#)\n",
    "    - Example : Pass123@21 # Valid\n",
    "    - Example : Pass12*21 # Not Valid"
   ]
  },
  {
   "cell_type": "code",
   "execution_count": 8,
   "metadata": {},
   "outputs": [
    {
     "name": "stdout",
     "output_type": "stream",
     "text": [
      "True\n",
      "False\n"
     ]
    }
   ],
   "source": [
    "import re\n",
    "def rollNumber(s):\n",
    "    pattren = '^[1][4][A-Z0-9]{8}$'\n",
    "    if re.match(pattren,s):\n",
    "        return True\n",
    "    return False\n",
    "print(rollNumber(\"148W1A1225\"))\n",
    "print(rollNumber(\"158W1A1225\"))\n",
    "    "
   ]
  },
  {
   "cell_type": "code",
   "execution_count": 13,
   "metadata": {},
   "outputs": [
    {
     "name": "stdout",
     "output_type": "stream",
     "text": [
      "True\n",
      "False\n"
     ]
    }
   ],
   "source": [
    "def password(s):\n",
    "    pattren = '^[a-zA-Z0-9@!#]{6,10}$'\n",
    "    if re.match(pattren,s):\n",
    "        return True\n",
    "    return False\n",
    "print(password(\"Pass123@21\"))\n",
    "print(password(\"Pass123*21\"))"
   ]
  },
  {
   "cell_type": "markdown",
   "metadata": {},
   "source": [
    "### Regular Expression for Indian Mobile\n",
    "- 10 Digit Number\n",
    "    - First Number is starts from [6-9]\n",
    "    - Rest of 9 numbers is between [0-9]\n",
    "       - Example : 9573920592 # True\n",
    "       - Example : 3688385117 # False\n",
    "- 11 Digit Number\n",
    "    - First number can be 0\n",
    "    - second number can be [6-9]\n",
    "    - Rest of 9 Numbers is between [0-9]\n",
    "       - Example : 095739520592 # True\n",
    "       - Example : 995739520592 # False\n",
    "- 13 Digit Number\n",
    "    - First number can be +\n",
    "    - Second number can be 9\n",
    "    - Third number can be 1\n",
    "    - Fourth number [6-9]\n",
    "    - Rest of numbers [0-9]\n",
    "        - Example : +919573920592 # True\n",
    "        - Example : +819573920592 # False"
   ]
  },
  {
   "cell_type": "code",
   "execution_count": 21,
   "metadata": {},
   "outputs": [
    {
     "name": "stdout",
     "output_type": "stream",
     "text": [
      "True\n",
      "False\n"
     ]
    }
   ],
   "source": [
    "import re\n",
    "def indianMobile(n):\n",
    "    pattren = '^[6-9][0-9]{9}$'\n",
    "    if re.match(pattren,n):\n",
    "        return True\n",
    "    return False\n",
    "print(indianMobile(\"9573920592\"))\n",
    "print(indianMobile(\"3573920592\"))"
   ]
  },
  {
   "cell_type": "code",
   "execution_count": 16,
   "metadata": {},
   "outputs": [
    {
     "name": "stdout",
     "output_type": "stream",
     "text": [
      "True\n",
      "False\n"
     ]
    }
   ],
   "source": [
    "def mobile(n):\n",
    "    pattren = '^[0][6-9][0-9]{9}$'\n",
    "    if re.match(pattren,n):\n",
    "        return True\n",
    "    return False\n",
    "print(mobile(\"09573920592\"))\n",
    "print(mobile(\"39573920592\"))"
   ]
  },
  {
   "cell_type": "code",
   "execution_count": 19,
   "metadata": {},
   "outputs": [
    {
     "name": "stdout",
     "output_type": "stream",
     "text": [
      "True\n",
      "False\n"
     ]
    }
   ],
   "source": [
    "def mobile(n):\n",
    "    pattren = '^[+][9][1][6-9][0-9]{9}$'\n",
    "    if re.match(pattren,n):\n",
    "        return True\n",
    "    return False\n",
    "print(mobile(\"+919573920592\"))\n",
    "print(mobile(\"+819573920592\"))"
   ]
  },
  {
   "cell_type": "code",
   "execution_count": 26,
   "metadata": {},
   "outputs": [
    {
     "name": "stdout",
     "output_type": "stream",
     "text": [
      "True\n",
      "True\n",
      "False\n",
      "False\n"
     ]
    }
   ],
   "source": [
    "import re\n",
    "def  validateIndianMobile(n):\n",
    "    pattren = '^[6-9][0-9]{9}$|^[0][6-9][0-9]{9}$|^[+][9][1][6-9][0-9]{9}$'\n",
    "    if re.match(pattren,n):\n",
    "        return True\n",
    "    return False\n",
    "print(validateIndianMobile('+919573920592'))\n",
    "print(validateIndianMobile('09573920592'))\n",
    "print(validateIndianMobile('3573920592'))\n",
    "print(validateIndianMobile('573920592'))"
   ]
  },
  {
   "cell_type": "markdown",
   "metadata": {},
   "source": [
    "### Validate the EmailID\n",
    "- Example : Username@DomainName.extension\n",
    "- Example : kiranmaihoney73@gmail.com \n",
    "- Username : \n",
    "    - Len of string will be [6-15]\n",
    "    - No spl charactors except underscore(_)\n",
    "    - Username should not beins with Underscore (_)\n",
    "    - All charectors set Digits , Lower case and Upper case\n",
    "        - Exm: Kiranmai_225\n",
    "-DomainName:\n",
    "    - Len of string will be[3-18]\n",
    "    - no spl charecters\n",
    "    - charecters set will be Digits , Lower case and Upper case\n",
    "       -Exm: gmail, hotmail, ymail,rediff and etc..\n",
    "\n",
    "- Extensions:\n",
    "    - Len of string will be [2-4]\n",
    "    - No Spl charectors allowed\n",
    "    - Charectors set will Lower case charectors\n",
    "        - Example : com in au uk\n",
    "        "
   ]
  },
  {
   "cell_type": "code",
   "execution_count": null,
   "metadata": {},
   "outputs": [],
   "source": []
  },
  {
   "cell_type": "code",
   "execution_count": null,
   "metadata": {},
   "outputs": [],
   "source": []
  },
  {
   "cell_type": "code",
   "execution_count": null,
   "metadata": {},
   "outputs": [],
   "source": []
  },
  {
   "cell_type": "code",
   "execution_count": null,
   "metadata": {},
   "outputs": [],
   "source": []
  },
  {
   "cell_type": "code",
   "execution_count": null,
   "metadata": {},
   "outputs": [],
   "source": []
  },
  {
   "cell_type": "code",
   "execution_count": null,
   "metadata": {},
   "outputs": [],
   "source": []
  },
  {
   "cell_type": "code",
   "execution_count": null,
   "metadata": {},
   "outputs": [],
   "source": []
  }
 ],
 "metadata": {
  "kernelspec": {
   "display_name": "Python 3",
   "language": "python",
   "name": "python3"
  },
  "language_info": {
   "codemirror_mode": {
    "name": "ipython",
    "version": 3
   },
   "file_extension": ".py",
   "mimetype": "text/x-python",
   "name": "python",
   "nbconvert_exporter": "python",
   "pygments_lexer": "ipython3",
   "version": "3.7.4"
  }
 },
 "nbformat": 4,
 "nbformat_minor": 2
}
