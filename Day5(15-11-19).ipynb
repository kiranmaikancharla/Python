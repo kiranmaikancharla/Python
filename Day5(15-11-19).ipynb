{
 "cells": [
  {
   "cell_type": "markdown",
   "metadata": {},
   "source": [
    "# Read the input as string and Output will followed\n",
    "### Example #1:\n",
    "### Input : orange \n",
    "### Output : puboif\n",
    "### Reason: Print the next consonent to the vowel and Print the vowel to the next consonent\n"
   ]
  },
  {
   "cell_type": "code",
   "execution_count": 1,
   "metadata": {},
   "outputs": [
    {
     "name": "stdout",
     "output_type": "stream",
     "text": [
      "puboif\n"
     ]
    }
   ],
   "source": [
    "s1='orange'\n",
    "s2=''\n",
    "for ch in s1 :\n",
    "    if ch in ('a','e','i','o','u') :\n",
    "        s2=s2+chr(ord(ch)+1)\n",
    "    else :\n",
    "        if ord(ch)>=98 and ord(ch)<=100 :\n",
    "            s2=s2+'e'\n",
    "        elif ord(ch)>=102 and ord(ch)<=104 :\n",
    "            s2=s2+'i'\n",
    "        elif ord(ch)>=106 and ord(ch)<=110 :\n",
    "            s2=s2+'o'\n",
    "        elif ord(ch)>=112 and ord(ch)<=116 :\n",
    "            s2=s2+'u'\n",
    "print(s2)\n",
    "        "
   ]
  },
  {
   "cell_type": "code",
   "execution_count": 35,
   "metadata": {},
   "outputs": [
    {
     "name": "stdout",
     "output_type": "stream",
     "text": [
      "400\n"
     ]
    }
   ],
   "source": [
    "def mul(a=10,b=10): #keyword\n",
    "    c=a*a\n",
    "    print(c)\n",
    "mul(20,20)"
   ]
  },
  {
   "cell_type": "code",
   "execution_count": 49,
   "metadata": {},
   "outputs": [
    {
     "name": "stdout",
     "output_type": "stream",
     "text": [
      "2\n"
     ]
    }
   ],
   "source": [
    "def functionname(a,b):\n",
    "    c = a*b\n",
    "    print(c)\n",
    "functionname(1, 2)\n",
    "    "
   ]
  },
  {
   "cell_type": "code",
   "execution_count": 48,
   "metadata": {},
   "outputs": [
    {
     "name": "stdout",
     "output_type": "stream",
     "text": [
      "3\n"
     ]
    }
   ],
   "source": [
    "def  mul(a,b):  # Required\n",
    "    c = a*b\n",
    "    print(c)\n",
    "mul(1, 3)"
   ]
  },
  {
   "cell_type": "markdown",
   "metadata": {},
   "source": [
    "# 1. Required Arguments\n",
    " - 2. Keyword Arguments\n",
    " - Default arguments\n",
    " - Variable length arguments"
   ]
  },
  {
   "cell_type": "code",
   "execution_count": 52,
   "metadata": {},
   "outputs": [
    {
     "name": "stdout",
     "output_type": "stream",
     "text": [
      "200\n"
     ]
    }
   ],
   "source": [
    "def mul(a, b): # Keyword\n",
    "    c = a*b\n",
    "    print(c)\n",
    "mul( b=20, a= 10)"
   ]
  },
  {
   "cell_type": "code",
   "execution_count": 45,
   "metadata": {},
   "outputs": [
    {
     "name": "stdout",
     "output_type": "stream",
     "text": [
      "200\n"
     ]
    }
   ],
   "source": [
    "def mul(a=10, b=10): # Default\n",
    "    c = a*b\n",
    "    print(c)\n",
    "mul( a=20)"
   ]
  },
  {
   "cell_type": "code",
   "execution_count": 31,
   "metadata": {},
   "outputs": [
    {
     "name": "stdout",
     "output_type": "stream",
     "text": [
      "10\n"
     ]
    }
   ],
   "source": [
    "# variable length arguments\n",
    "def mul(*a):\n",
    "    sum=0\n",
    "    for i in a:\n",
    "        sum+=i\n",
    "    print(sum)\n",
    "mul(1,2,3,4)"
   ]
  },
  {
   "cell_type": "code",
   "execution_count": 56,
   "metadata": {},
   "outputs": [
    {
     "name": "stdout",
     "output_type": "stream",
     "text": [
      "10\n",
      "12\n",
      "14\n",
      "16\n",
      "18\n"
     ]
    }
   ],
   "source": [
    "def even(a,b) :\n",
    "    for i in range(a,b) :\n",
    "        if i%2==0 :\n",
    "            print(i)\n",
    "even(a=10,b=20)"
   ]
  },
  {
   "cell_type": "code",
   "execution_count": 1,
   "metadata": {},
   "outputs": [
    {
     "name": "stdout",
     "output_type": "stream",
     "text": [
      "even\n"
     ]
    }
   ],
   "source": [
    "def even(a) :\n",
    "        if a%2==0 :\n",
    "            print('even')\n",
    "        else :\n",
    "            print('odd')\n",
    "even(a=10)            "
   ]
  },
  {
   "cell_type": "markdown",
   "metadata": {},
   "source": [
    "# Read the input as string and Output will be alternate words in lower case Example #1:Input : Learn Python Programming EASy \n",
    "# Output : python easy"
   ]
  },
  {
   "cell_type": "code",
   "execution_count": 16,
   "metadata": {},
   "outputs": [
    {
     "name": "stdout",
     "output_type": "stream",
     "text": [
      "python easy "
     ]
    }
   ],
   "source": [
    "str='Learn Python Programming EASy'\n",
    "x=str.split()\n",
    "for i in range(1,len(x),2) :\n",
    "    print(x[i].lower(),end=' ')"
   ]
  },
  {
   "cell_type": "markdown",
   "metadata": {},
   "source": [
    "# Read the input as string and Print the Output as Only even digit sum Example #1:Input : Applc18iation89 Output : 16 (8+8)"
   ]
  },
  {
   "cell_type": "code",
   "execution_count": 13,
   "metadata": {},
   "outputs": [
    {
     "name": "stdout",
     "output_type": "stream",
     "text": [
      "A p p l c 1 8 i a t i o n 8 9 "
     ]
    }
   ],
   "source": [
    "a='Applc18iation89'\n",
    "for i in a :\n",
    "    print(i,end=' ')\n",
    "    "
   ]
  },
  {
   "cell_type": "markdown",
   "metadata": {},
   "source": [
    "# Read the string as input and Print the output following the manner Example \n",
    "## Input: PythonProgrMMINg \n",
    "## Output: pYTHONpROGRmminG"
   ]
  },
  {
   "cell_type": "code",
   "execution_count": 7,
   "metadata": {},
   "outputs": [
    {
     "name": "stdout",
     "output_type": "stream",
     "text": [
      "pYTHONpROGRmminG\n"
     ]
    }
   ],
   "source": [
    "a=\"PythonProgrMMINg\"\n",
    "x=a.swapcase()\n",
    "print(x)"
   ]
  },
  {
   "cell_type": "markdown",
   "metadata": {},
   "source": [
    "# Accept name as input and search for that name in the master list if the name is available, print yes or print no\n"
   ]
  },
  {
   "cell_type": "code",
   "execution_count": 23,
   "metadata": {},
   "outputs": [
    {
     "name": "stdout",
     "output_type": "stream",
     "text": [
      "enter the name:raji\n",
      "yes\n",
      "no\n",
      "no\n"
     ]
    }
   ],
   "source": [
    "str=['raji','kiran','navi']\n",
    "x=input('enter the name:')\n",
    "for i in str :\n",
    "    if i==x :\n",
    "        print('yes')\n",
    "    else :\n",
    "        print('no')"
   ]
  },
  {
   "cell_type": "code",
   "execution_count": 30,
   "metadata": {},
   "outputs": [
    {
     "name": "stdout",
     "output_type": "stream",
     "text": [
      "enter the value:raju\n",
      "no\n",
      "yes\n",
      "no\n"
     ]
    }
   ],
   "source": [
    "def check(str,x) :\n",
    "    for i in str :\n",
    "        if i==x :\n",
    "            print('yes')\n",
    "        else :\n",
    "            print('no')\n",
    "str=['ravi','raju','sandy']\n",
    "x=input('enter the value:')\n",
    "check(str,x)\n"
   ]
  },
  {
   "cell_type": "markdown",
   "metadata": {},
   "source": [
    "# Print the count of the students whose age is >20"
   ]
  },
  {
   "cell_type": "code",
   "execution_count": 6,
   "metadata": {},
   "outputs": [
    {
     "name": "stdout",
     "output_type": "stream",
     "text": [
      "count of the student is 3\n"
     ]
    }
   ],
   "source": [
    "def count(a):\n",
    "    count=0\n",
    "    for i in a:\n",
    "        if i>20:\n",
    "            count=count+1\n",
    "    print(\"count of the student is\",count)\n",
    "a=[12,13,14,24,23,25]\n",
    "count(a)      "
   ]
  },
  {
   "cell_type": "markdown",
   "metadata": {},
   "source": [
    "# Read the Input as number and print the output as true or false. If the input number is prime then print true otherwise print fasle\n",
    " # Example 1:#Input : 11#Output : True#Example #2:#Input : 10#Output : False"
   ]
  },
  {
   "cell_type": "code",
   "execution_count": 7,
   "metadata": {},
   "outputs": [
    {
     "name": "stdout",
     "output_type": "stream",
     "text": [
      "enter n value19\n",
      "prime\n"
     ]
    }
   ],
   "source": [
    "def prime(n):\n",
    "    if n>=1:\n",
    "        for i in range(2,n):\n",
    "            if n%i==0:\n",
    "                print('not prime')\n",
    "                break\n",
    "        else:\n",
    "            print('prime')\n",
    "                \n",
    "n=int(input('enter n value'))\n",
    "prime(n)\n",
    "    "
   ]
  },
  {
   "cell_type": "markdown",
   "metadata": {},
   "source": [
    "# Read the input as number N and print the output as prime number count between 1 to N #Example 1;\n",
    "### Input : 10\n",
    "### Output : 4 (2,3,5,7)\n"
   ]
  },
  {
   "cell_type": "code",
   "execution_count": 8,
   "metadata": {},
   "outputs": [
    {
     "name": "stdout",
     "output_type": "stream",
     "text": [
      "enter n value:9\n"
     ]
    },
    {
     "data": {
      "text/plain": [
       "6"
      ]
     },
     "execution_count": 8,
     "metadata": {},
     "output_type": "execute_result"
    }
   ],
   "source": [
    "def prime(n):\n",
    "    count=0\n",
    "    if n>1:\n",
    "        for i in range(2,n):\n",
    "            if n%i!=0:\n",
    "                count=count+1\n",
    "    return count\n",
    "n=int(input('enter n value:'))\n",
    "prime(n)"
   ]
  },
  {
   "cell_type": "markdown",
   "metadata": {},
   "source": [
    "### Read the input as two limits and print the output as palindrome count between the two limits\n",
    "###### Example 1;\n",
    "###### Input : 1 10\n",
    "###### Output : 1 2 3 4 5 6 7 8 9\n",
    "###### Example 2:\n",
    "###### Input : 1 100\n",
    "###### Output : 1 2 3 4 5 6 7 8 9 11 22 33 44 55 66 77 88 99"
   ]
  },
  {
   "cell_type": "code",
   "execution_count": 15,
   "metadata": {},
   "outputs": [
    {
     "name": "stdout",
     "output_type": "stream",
     "text": [
      "enter number:121\n",
      "palindrome\n",
      "3\n"
     ]
    }
   ],
   "source": [
    "def palindrome(n):\n",
    "    temp=n\n",
    "    rev=0\n",
    "    count=0\n",
    "    while(n>0):\n",
    "        dig=n%10\n",
    "        rev=rev*10+dig\n",
    "        n=n//10\n",
    "        count=count+1\n",
    "    if temp==rev:\n",
    "        print('palindrome')\n",
    "    else:\n",
    "        print('not palindrome')\n",
    "    print(count)\n",
    "             \n",
    "n=int(input('enter number:'))\n",
    "palindrome(n)\n",
    "    "
   ]
  },
  {
   "cell_type": "code",
   "execution_count": 11,
   "metadata": {},
   "outputs": [
    {
     "name": "stdout",
     "output_type": "stream",
     "text": [
      "Enter a number:121\n",
      "The number is palindrome!\n"
     ]
    }
   ],
   "source": [
    "num=int(input(\"Enter a number:\"))\n",
    "temp=num\n",
    "rev=0\n",
    "while num>0:\n",
    "    dig=num%10\n",
    "    rev=rev*10+dig\n",
    "    num=num//10\n",
    "if temp==rev:\n",
    "    print(\"The number is palindrome!\")\n",
    "else:\n",
    "    print(\"Not a palindrome!\")"
   ]
  },
  {
   "cell_type": "code",
   "execution_count": null,
   "metadata": {},
   "outputs": [],
   "source": []
  },
  {
   "cell_type": "code",
   "execution_count": null,
   "metadata": {},
   "outputs": [],
   "source": []
  },
  {
   "cell_type": "code",
   "execution_count": null,
   "metadata": {},
   "outputs": [],
   "source": []
  },
  {
   "cell_type": "code",
   "execution_count": null,
   "metadata": {},
   "outputs": [],
   "source": []
  },
  {
   "cell_type": "code",
   "execution_count": null,
   "metadata": {},
   "outputs": [],
   "source": []
  },
  {
   "cell_type": "code",
   "execution_count": null,
   "metadata": {},
   "outputs": [],
   "source": []
  },
  {
   "cell_type": "code",
   "execution_count": null,
   "metadata": {},
   "outputs": [],
   "source": []
  },
  {
   "cell_type": "code",
   "execution_count": null,
   "metadata": {},
   "outputs": [],
   "source": []
  }
 ],
 "metadata": {
  "kernelspec": {
   "display_name": "Python 3",
   "language": "python",
   "name": "python3"
  },
  "language_info": {
   "codemirror_mode": {
    "name": "ipython",
    "version": 3
   },
   "file_extension": ".py",
   "mimetype": "text/x-python",
   "name": "python",
   "nbconvert_exporter": "python",
   "pygments_lexer": "ipython3",
   "version": "3.7.4"
  }
 },
 "nbformat": 4,
 "nbformat_minor": 2
}
