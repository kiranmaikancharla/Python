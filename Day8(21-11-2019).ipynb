{
 "cells": [
  {
   "cell_type": "markdown",
   "metadata": {},
   "source": [
    "# H1\n",
    "## H2\n",
    "### H3\n",
    "#### H4\n",
    "##### H5\n",
    "###### H6"
   ]
  },
  {
   "cell_type": "markdown",
   "metadata": {},
   "source": [
    "# Document Title\n",
    "### Date 21-11-2019\n",
    "### Session Objective\n",
    "* To introduce **Jupyter Notebooks**\n",
    "* To teach *Markdown* Syntax\n",
    "* To introduce ***Python*** basics\n",
    "  * Basic Syntax(Variables,Assignment,Data Types)\n",
    "  * Control Structures \n",
    "      1. Conditional\n",
    "      2. Repetitive\n",
    "      \n",
    "<img src='pic.png'/>\n",
    "\n",
    "[Link to my website](https://sites.google.com/view/python-prgmng)"
   ]
  },
  {
   "cell_type": "markdown",
   "metadata": {},
   "source": [
    "#### kiranmai\n",
    "* Python Learning           #1*to print in a list\n",
    "* kiranmai ***Honey***       #3*(italic)\n",
    "* kiran **Honey**            #2*(bold)\n",
    "* [link to my website](https://sites.google.com/view/python-prgmng)    #to get hyper link we use [] and ()\n",
    "\n"
   ]
  },
  {
   "cell_type": "code",
   "execution_count": 5,
   "metadata": {},
   "outputs": [
    {
     "data": {
      "text/plain": [
       "'C:\\\\Users\\\\Kiranmai\\\\Untitled Folder'"
      ]
     },
     "execution_count": 5,
     "metadata": {},
     "output_type": "execute_result"
    }
   ],
   "source": [
    "pwd"
   ]
  },
  {
   "cell_type": "markdown",
   "metadata": {},
   "source": [
    "## input   ## output\n",
    "15920        4\n",
    " 888         12\n",
    "666           6\n",
    "1234          3\n",
    "\n",
    "0 1 2 3 4 5 6 7 8 9\n",
    "\n",
    "0 6 8 9--Circles--2 units\n",
    "4      --Triangle--3 untis\n",
    "1 2 3 5 7 --No Circles and Triangles --0 units"
   ]
  },
  {
   "cell_type": "code",
   "execution_count": 5,
   "metadata": {},
   "outputs": [
    {
     "name": "stdout",
     "output_type": "stream",
     "text": [
      "158\n",
      "3\n"
     ]
    }
   ],
   "source": [
    "n=int(input(''))\n",
    "for i in range(0,n):\n",
    "    if (i==0 and i==6 and i==8 and i==9):\n",
    "        print('2')\n",
    "    elif (i==4):\n",
    "        print('3')\n",
    "    elif (i==1 and i==2 and i==3 and i==5 and i==7):\n",
    "        print('0')\n",
    "    "
   ]
  },
  {
   "cell_type": "code",
   "execution_count": 5,
   "metadata": {},
   "outputs": [
    {
     "name": "stdout",
     "output_type": "stream",
     "text": [
      " 15920\n"
     ]
    },
    {
     "data": {
      "text/plain": [
       "4"
      ]
     },
     "execution_count": 5,
     "metadata": {},
     "output_type": "execute_result"
    }
   ],
   "source": [
    "def sumOfCirclesTriangles(n):\n",
    "    s=0\n",
    "    while n != 0:\n",
    "        r=n%10\n",
    "        if r==0 or r==6 or r==9:\n",
    "            s=s+2\n",
    "        elif r==8:\n",
    "            s=s+4\n",
    "        elif r==4:\n",
    "            s=s+3\n",
    "        n=n//10\n",
    "    return s\n",
    "n = int(input(' '))\n",
    "sumOfCirclesTriangles(n)"
   ]
  },
  {
   "cell_type": "markdown",
   "metadata": {},
   "source": [
    "input     output\n",
    "982746 ----<2,9>\n",
    "13682  ----<1,8>\n",
    "145    ----<1,5>          #printing largest and smalest num in a given series\n",
    "               "
   ]
  },
  {
   "cell_type": "code",
   "execution_count": 25,
   "metadata": {},
   "outputs": [
    {
     "name": "stdout",
     "output_type": "stream",
     "text": [
      "145\n",
      "< 1 , 5 >\n"
     ]
    }
   ],
   "source": [
    "def func(n):\n",
    "    l=0\n",
    "    s=9\n",
    "    while n!=0:\n",
    "        r=n%10\n",
    "        l=max(r,l)\n",
    "        s=min(r,s)\n",
    "        n=n//10\n",
    "    print('<',s,',',l,'>')\n",
    "n=int(input(''))\n",
    "func(n)"
   ]
  },
  {
   "cell_type": "markdown",
   "metadata": {},
   "source": [
    "input    output\n",
    "122     --17\n",
    "21      --9           #sum of cubes"
   ]
  },
  {
   "cell_type": "code",
   "execution_count": 44,
   "metadata": {},
   "outputs": [
    {
     "name": "stdout",
     "output_type": "stream",
     "text": [
      "122\n",
      "17\n"
     ]
    }
   ],
   "source": [
    "def sumOfCubes(n):\n",
    "    s=0\n",
    "    while n>0:\n",
    "        r=n%10\n",
    "        s=s+(r*r*r)\n",
    "        n=n//10\n",
    "    print(s)\n",
    "n=int(input(''))\n",
    "sumOfCubes(n)"
   ]
  },
  {
   "cell_type": "markdown",
   "metadata": {},
   "source": [
    "input:\n",
    "ABCD AABB ABC  AAABC\n",
    "output:\n",
    "!@@!!!@@@@\n",
    "!@!!@@\n",
    "!@@!!!\n",
    "!@!@@!!!"
   ]
  },
  {
   "cell_type": "code",
   "execution_count": null,
   "metadata": {},
   "outputs": [],
   "source": []
  },
  {
   "cell_type": "code",
   "execution_count": null,
   "metadata": {},
   "outputs": [],
   "source": []
  }
 ],
 "metadata": {
  "kernelspec": {
   "display_name": "Python 3",
   "language": "python",
   "name": "python3"
  },
  "language_info": {
   "codemirror_mode": {
    "name": "ipython",
    "version": 3
   },
   "file_extension": ".py",
   "mimetype": "text/x-python",
   "name": "python",
   "nbconvert_exporter": "python",
   "pygments_lexer": "ipython3",
   "version": "3.7.4"
  }
 },
 "nbformat": 4,
 "nbformat_minor": 2
}
