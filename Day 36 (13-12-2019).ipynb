{
 "cells": [
  {
   "cell_type": "code",
   "execution_count": 4,
   "metadata": {},
   "outputs": [
    {
     "ename": "TypeError",
     "evalue": "Circle() takes no arguments",
     "output_type": "error",
     "traceback": [
      "\u001b[1;31m---------------------------------------------------------------------------\u001b[0m",
      "\u001b[1;31mTypeError\u001b[0m                                 Traceback (most recent call last)",
      "\u001b[1;32m<ipython-input-4-2251b50b596b>\u001b[0m in \u001b[0;36m<module>\u001b[1;34m\u001b[0m\n\u001b[0;32m     12\u001b[0m     \u001b[1;32mdef\u001b[0m \u001b[0mdisplay_count\u001b[0m\u001b[1;33m(\u001b[0m\u001b[1;33m)\u001b[0m\u001b[1;33m:\u001b[0m\u001b[1;33m\u001b[0m\u001b[1;33m\u001b[0m\u001b[0m\n\u001b[0;32m     13\u001b[0m         \u001b[0mprint\u001b[0m\u001b[1;33m(\u001b[0m\u001b[0mCircle\u001b[0m\u001b[1;33m.\u001b[0m\u001b[0mcount\u001b[0m\u001b[1;33m)\u001b[0m\u001b[1;33m\u001b[0m\u001b[1;33m\u001b[0m\u001b[0m\n\u001b[1;32m---> 14\u001b[1;33m \u001b[0mc\u001b[0m \u001b[1;33m=\u001b[0m \u001b[0mCircle\u001b[0m\u001b[1;33m(\u001b[0m\u001b[1;36m10\u001b[0m\u001b[1;33m)\u001b[0m\u001b[1;33m\u001b[0m\u001b[1;33m\u001b[0m\u001b[0m\n\u001b[0m\u001b[0;32m     15\u001b[0m \u001b[0mc1\u001b[0m \u001b[1;33m=\u001b[0m \u001b[0mCircle\u001b[0m\u001b[1;33m(\u001b[0m\u001b[1;36m7\u001b[0m\u001b[1;33m)\u001b[0m\u001b[1;33m\u001b[0m\u001b[1;33m\u001b[0m\u001b[0m\n\u001b[0;32m     16\u001b[0m \u001b[0mc2\u001b[0m \u001b[1;33m=\u001b[0m \u001b[0mCircle\u001b[0m\u001b[1;33m(\u001b[0m\u001b[1;36m20\u001b[0m\u001b[1;33m)\u001b[0m\u001b[1;33m\u001b[0m\u001b[1;33m\u001b[0m\u001b[0m\n",
      "\u001b[1;31mTypeError\u001b[0m: Circle() takes no arguments"
     ]
    }
   ],
   "source": [
    "# Create a circle class and print area and perimeter of the circle\n",
    "# count the number of objects\n",
    "class Circle:\n",
    "    count=0\n",
    "    def _init_(self,r):\n",
    "        self.r=r\n",
    "        Circle.count=count+1\n",
    "    def area(self):\n",
    "        print(3.14*self.r*self.r)\n",
    "    def perimeter(self):\n",
    "        print(4*3.14*self.r)\n",
    "    def display_count():\n",
    "        print(Circle.count)\n",
    "c = Circle(10)\n",
    "c1 = Circle(7)\n",
    "c2 = Circle(20)\n",
    "c.area()\n",
    "c.perimeter()\n",
    "c1.area()\n",
    "c1.perimeter()\n",
    "print(\"no.f objects are:\",)\n",
    "Circle.display_count()"
   ]
  },
  {
   "cell_type": "markdown",
   "metadata": {},
   "source": [
    "# Inheritance:\n",
    "  1. Single inheritance\n",
    "  2. Multiple inheritance\n",
    "  3. Multilevel inheritance\n",
    "  4. Hierarchical inheritance\n",
    "  5. Hybrid inheritance"
   ]
  },
  {
   "cell_type": "code",
   "execution_count": 6,
   "metadata": {},
   "outputs": [
    {
     "name": "stdout",
     "output_type": "stream",
     "text": [
      "this is class A method\n",
      "this is class A method\n"
     ]
    }
   ],
   "source": [
    "# Single Inheritance\n",
    "class A:\n",
    "    def add(self):\n",
    "        print(\"this is class A method\")\n",
    "class B(A):\n",
    "    def sub(self):\n",
    "        print(\"this is class B method\")\n",
    "\n",
    "a=A()\n",
    "b=B()\n",
    "a.add()\n",
    "b.add()\n",
    "        "
   ]
  },
  {
   "cell_type": "code",
   "execution_count": 26,
   "metadata": {},
   "outputs": [
    {
     "name": "stdout",
     "output_type": "stream",
     "text": [
      "this is class A method\n",
      "this is class A sub method\n"
     ]
    }
   ],
   "source": [
    "# Multiple Inheritance\n",
    "class A:\n",
    "    def add(self):\n",
    "        print(\"this is class A method\")\n",
    "    def sub(self):\n",
    "        print(\"this is class A sub method\")\n",
    "class B:\n",
    "    def sub(self):\n",
    "        print(\"this is class B  sub method\")\n",
    "class C(A,B):\n",
    "    pass\n",
    "c=C()\n",
    "c.add()\n",
    "c.sub()\n"
   ]
  },
  {
   "cell_type": "code",
   "execution_count": 10,
   "metadata": {},
   "outputs": [
    {
     "name": "stdout",
     "output_type": "stream",
     "text": [
      "this is class A method\n",
      "this is class B method\n",
      "this is class C method\n"
     ]
    }
   ],
   "source": [
    "# Multilevel Inheritance:\n",
    "class A:\n",
    "    def add(self):\n",
    "        print(\"this is class A method\")\n",
    "class B(A):\n",
    "    def sub(self):\n",
    "        print(\"this is class B method\")\n",
    "class C(B):\n",
    "    def mul(self):\n",
    "        print(\"this is class C method\")\n",
    "c=C()\n",
    "c.add()\n",
    "c.sub()\n",
    "c.mul()\n"
   ]
  },
  {
   "cell_type": "code",
   "execution_count": 13,
   "metadata": {},
   "outputs": [
    {
     "name": "stdout",
     "output_type": "stream",
     "text": [
      "this is class A method\n",
      "this is class B method\n",
      "this is class A method\n",
      "this is class C method\n"
     ]
    }
   ],
   "source": [
    "# Hierarchical Inheritance\n",
    "class A:\n",
    "    def add(self):\n",
    "        print(\"this is class A method\")\n",
    "class B(A):\n",
    "    def sub(self):\n",
    "        print(\"this is class B method\")\n",
    "class C(A):\n",
    "    def mul(self):\n",
    "        print(\"this is class C method\")\n",
    "b=B()\n",
    "c=C()\n",
    "b.add()\n",
    "b.sub()\n",
    "c.add()\n",
    "c.mul()"
   ]
  },
  {
   "cell_type": "code",
   "execution_count": 14,
   "metadata": {},
   "outputs": [
    {
     "ename": "TypeError",
     "evalue": "Cannot create a consistent method resolution\norder (MRO) for bases A, B",
     "output_type": "error",
     "traceback": [
      "\u001b[1;31m---------------------------------------------------------------------------\u001b[0m",
      "\u001b[1;31mTypeError\u001b[0m                                 Traceback (most recent call last)",
      "\u001b[1;32m<ipython-input-14-3e4fc9f4de11>\u001b[0m in \u001b[0;36m<module>\u001b[1;34m\u001b[0m\n\u001b[0;32m      6\u001b[0m     \u001b[1;32mdef\u001b[0m \u001b[0msub\u001b[0m\u001b[1;33m(\u001b[0m\u001b[0mself\u001b[0m\u001b[1;33m)\u001b[0m\u001b[1;33m:\u001b[0m\u001b[1;33m\u001b[0m\u001b[1;33m\u001b[0m\u001b[0m\n\u001b[0;32m      7\u001b[0m         \u001b[0mprint\u001b[0m\u001b[1;33m(\u001b[0m\u001b[1;34m\"this is class B method\"\u001b[0m\u001b[1;33m)\u001b[0m\u001b[1;33m\u001b[0m\u001b[1;33m\u001b[0m\u001b[0m\n\u001b[1;32m----> 8\u001b[1;33m \u001b[1;32mclass\u001b[0m \u001b[0mC\u001b[0m\u001b[1;33m(\u001b[0m\u001b[0mA\u001b[0m\u001b[1;33m,\u001b[0m\u001b[0mB\u001b[0m\u001b[1;33m)\u001b[0m\u001b[1;33m:\u001b[0m\u001b[1;33m\u001b[0m\u001b[1;33m\u001b[0m\u001b[0m\n\u001b[0m\u001b[0;32m      9\u001b[0m     \u001b[1;32mdef\u001b[0m \u001b[0mmul\u001b[0m\u001b[1;33m(\u001b[0m\u001b[0mself\u001b[0m\u001b[1;33m)\u001b[0m\u001b[1;33m:\u001b[0m\u001b[1;33m\u001b[0m\u001b[1;33m\u001b[0m\u001b[0m\n\u001b[0;32m     10\u001b[0m         \u001b[0mprint\u001b[0m\u001b[1;33m(\u001b[0m\u001b[1;34m\"this is class C method\"\u001b[0m\u001b[1;33m)\u001b[0m\u001b[1;33m\u001b[0m\u001b[1;33m\u001b[0m\u001b[0m\n",
      "\u001b[1;31mTypeError\u001b[0m: Cannot create a consistent method resolution\norder (MRO) for bases A, B"
     ]
    }
   ],
   "source": [
    "# Hybrid Inheritance-----> hierarchical + Multiple\n",
    "class A:\n",
    "    def add(self):\n",
    "        print(\"this is class A method\")\n",
    "class B(A):\n",
    "    def sub(self):\n",
    "        print(\"this is class B method\")\n",
    "class C(A,B):\n",
    "    def mul(self):\n",
    "        print(\"this is class C method\")\n",
    "\n",
    "c=C()\n",
    "c.add()\n",
    "c.sub()\n",
    "\n",
    "    "
   ]
  },
  {
   "cell_type": "markdown",
   "metadata": {},
   "source": [
    "## Real time scenarios:\n",
    " ### class 1\n",
    "    * mention student deatails--> name, rolln, branch\n",
    "    * method--> print student details\n",
    " ### class 2\n",
    "    * members--> roallno,total fee,paid\n",
    "    * method-->print the amount to be paid\n"
   ]
  },
  {
   "cell_type": "code",
   "execution_count": 20,
   "metadata": {},
   "outputs": [
    {
     "ename": "TypeError",
     "evalue": "sdetails() missing 3 required positional arguments: 'sname', 'rollno', and 'banch'",
     "output_type": "error",
     "traceback": [
      "\u001b[1;31m---------------------------------------------------------------------------\u001b[0m",
      "\u001b[1;31mTypeError\u001b[0m                                 Traceback (most recent call last)",
      "\u001b[1;32m<ipython-input-20-3608c9ed4d60>\u001b[0m in \u001b[0;36m<module>\u001b[1;34m\u001b[0m\n\u001b[0;32m     23\u001b[0m \u001b[1;33m\u001b[0m\u001b[0m\n\u001b[0;32m     24\u001b[0m \u001b[0ma\u001b[0m\u001b[1;33m=\u001b[0m\u001b[0mA\u001b[0m\u001b[1;33m(\u001b[0m\u001b[1;33m)\u001b[0m\u001b[1;33m\u001b[0m\u001b[1;33m\u001b[0m\u001b[0m\n\u001b[1;32m---> 25\u001b[1;33m \u001b[0ma\u001b[0m\u001b[1;33m.\u001b[0m\u001b[0msdetails\u001b[0m\u001b[1;33m(\u001b[0m\u001b[1;33m)\u001b[0m\u001b[1;33m\u001b[0m\u001b[1;33m\u001b[0m\u001b[0m\n\u001b[0m\u001b[0;32m     26\u001b[0m \u001b[1;33m\u001b[0m\u001b[0m\n\u001b[0;32m     27\u001b[0m \u001b[0mb\u001b[0m\u001b[1;33m.\u001b[0m\u001b[0msdetails\u001b[0m\u001b[1;33m(\u001b[0m\u001b[1;33m)\u001b[0m\u001b[1;33m\u001b[0m\u001b[1;33m\u001b[0m\u001b[0m\n",
      "\u001b[1;31mTypeError\u001b[0m: sdetails() missing 3 required positional arguments: 'sname', 'rollno', and 'banch'"
     ]
    }
   ],
   "source": [
    "class student1(object):\n",
    "    def sdetails(self,name,rollno,banch):\n",
    "        self.name=name\n",
    "        self.rollno=rollno\n",
    "        self.branch=branch\n",
    "    def display():    \n",
    "        print(self.name)\n",
    "        print(self.rollno)\n",
    "        print(self.branch)\n",
    "class B(A):\n",
    "    def sdetails(self,name,rollno,total_fee,paid,due):\n",
    "        self.total_fee=fee\n",
    "        self.paid=paid\n",
    "        self.due=due\n",
    "    def display():    \n",
    "        print(self.total_fee)\n",
    "        print(self.paid)\n",
    "        print(self.due)\n",
    "        if(total_fee==paid):\n",
    "            print(\"paid\")\n",
    "        else:\n",
    "            print(\"due\",due)\n",
    "        \n",
    "a=A()\n",
    "a.sdetails()\n",
    "a.display()\n",
    "\n",
    "b.sdetails()\n",
    "b.display()\n",
    "        \n"
   ]
  },
  {
   "cell_type": "code",
   "execution_count": null,
   "metadata": {},
   "outputs": [],
   "source": [
    "class Student:  \n",
    "    name = \"Rajee\"  \n",
    "    rollnp = 543\n",
    "    branch= \"CSE\"\n",
    "    def detls(self, name, rollno,banch):  \n",
    "        self.name = name  \n",
    "        self.rollno = rollno\n",
    "        self.branch= branch\n",
    "    def displayname(self):  \n",
    "        print(self.name)  \n",
    "  \n",
    "    def displayrollno(self):  \n",
    "        print(self.rollno)\n",
    "        \n",
    "    def displaybranch(self):\n",
    "        print(self.branch)\n",
    "        \n",
    "class Details(Student):\n",
    "    total_fee = 5000\n",
    "    \n",
    "  \n",
    "    def detls(self, name, rollno, branch,total_fee):  \n",
    "        Student.detls(self, name, rollno, branch)  \n",
    "        self.total_fee = total_fee\n",
    "Student1 = Student(\"Rajee\", 543,\" cse\")   \n",
    "Student1.displayname()\n",
    "Student1.displayrollno()\n",
    "Student1.displaybranch()  \n",
    "Details1 = Details(\"Raj\", 529, \"cse\", 5000)  #Line: 39\n",
    "print(Details1.getId())  \n",
    "student1.showName()        "
   ]
  }
 ],
 "metadata": {
  "kernelspec": {
   "display_name": "Python 3",
   "language": "python",
   "name": "python3"
  },
  "language_info": {
   "codemirror_mode": {
    "name": "ipython",
    "version": 3
   },
   "file_extension": ".py",
   "mimetype": "text/x-python",
   "name": "python",
   "nbconvert_exporter": "python",
   "pygments_lexer": "ipython3",
   "version": "3.7.4"
  }
 },
 "nbformat": 4,
 "nbformat_minor": 2
}
