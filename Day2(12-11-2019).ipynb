{
 "cells": [
  {
   "cell_type": "markdown",
   "metadata": {},
   "source": [
    "# List"
   ]
  },
  {
   "cell_type": "code",
   "execution_count": 2,
   "metadata": {},
   "outputs": [],
   "source": [
    "fruits = ['apple', 'banana', 'cherry']\n",
    "fruits.append(\"orange\")"
   ]
  },
  {
   "cell_type": "code",
   "execution_count": 3,
   "metadata": {},
   "outputs": [
    {
     "name": "stdout",
     "output_type": "stream",
     "text": [
      "['apple', 'banana', 'cherry', 'orange']\n"
     ]
    }
   ],
   "source": [
    "print (fruits)"
   ]
  },
  {
   "cell_type": "code",
   "execution_count": 4,
   "metadata": {},
   "outputs": [
    {
     "name": "stdout",
     "output_type": "stream",
     "text": [
      "['kiran', 'mai', 'is good girl']\n"
     ]
    }
   ],
   "source": [
    "a= ['kiran','mai']\n",
    "a.append('is good girl')\n",
    "print(a)"
   ]
  },
  {
   "cell_type": "code",
   "execution_count": 5,
   "metadata": {},
   "outputs": [
    {
     "name": "stdout",
     "output_type": "stream",
     "text": [
      "['rajee', 'kiran', 'friends']\n"
     ]
    }
   ],
   "source": [
    "a=['rajee','kiran']\n",
    "a.append('friends')\n",
    "print(a)"
   ]
  },
  {
   "cell_type": "code",
   "execution_count": 7,
   "metadata": {},
   "outputs": [
    {
     "name": "stdout",
     "output_type": "stream",
     "text": [
      "[]\n"
     ]
    }
   ],
   "source": [
    "a=['fd','gd','mk','bu']\n",
    "a.clear()\n",
    "print(a)"
   ]
  },
  {
   "cell_type": "code",
   "execution_count": 9,
   "metadata": {},
   "outputs": [
    {
     "name": "stdout",
     "output_type": "stream",
     "text": [
      "['bu', 'jj', 'mm']\n"
     ]
    }
   ],
   "source": [
    "a=['bu','jj','mm']\n",
    "x=a.copy()\n",
    "print(x)"
   ]
  },
  {
   "cell_type": "code",
   "execution_count": 11,
   "metadata": {},
   "outputs": [
    {
     "name": "stdout",
     "output_type": "stream",
     "text": [
      "1\n"
     ]
    }
   ],
   "source": [
    "y=a.count('bu')\n",
    "print(y)"
   ]
  },
  {
   "cell_type": "code",
   "execution_count": 12,
   "metadata": {},
   "outputs": [
    {
     "data": {
      "text/plain": [
       "1"
      ]
     },
     "execution_count": 12,
     "metadata": {},
     "output_type": "execute_result"
    }
   ],
   "source": [
    "a.count('jj')"
   ]
  },
  {
   "cell_type": "code",
   "execution_count": null,
   "metadata": {},
   "outputs": [],
   "source": []
  },
  {
   "cell_type": "code",
   "execution_count": 19,
   "metadata": {},
   "outputs": [
    {
     "name": "stdout",
     "output_type": "stream",
     "text": [
      "['bu', 'jj', 'mm', 'hh', 'oo', 'nn', 'hh', 'oo', 'nn', 'hh', 'oo', 'nn']\n"
     ]
    }
   ],
   "source": [
    "print (a)"
   ]
  },
  {
   "cell_type": "code",
   "execution_count": 20,
   "metadata": {},
   "outputs": [
    {
     "name": "stdout",
     "output_type": "stream",
     "text": [
      "['bu', 'jj', 'mm', 'hh', 'oo', 'nn', 'hh', 'oo', 'nn', 'hh', 'oo', 'nn', 'hh', 'oo', 'nn']\n"
     ]
    }
   ],
   "source": [
    "y=['hh','oo','nn']\n",
    "a.extend(y)\n",
    "print(a)"
   ]
  },
  {
   "cell_type": "markdown",
   "metadata": {},
   "source": [
    "# accept three values as input frm the user, you need to check whether student got minimum marks (30) in all the subjects , if not print fail. if he gets minimum marks then find average ...if average is >75=>print grade as A.if the average is between 60-75, print grade as B. if thr avg is btw 30-60,print as grade C, if <30 print it as FAIL.???"
   ]
  },
  {
   "cell_type": "code",
   "execution_count": 6,
   "metadata": {},
   "outputs": [
    {
     "name": "stdout",
     "output_type": "stream",
     "text": [
      "enter first sub the marks50\n",
      "50\n",
      "enter second sub the marks40\n",
      "40\n",
      "enter third sub the marks30\n",
      "30\n",
      "40.0\n",
      "C\n"
     ]
    }
   ],
   "source": [
    "a = int(input('enter first sub the marks'))\n",
    "if a >= 30 :\n",
    "    print(a)\n",
    "else :\n",
    "    print('fail')\n",
    "b = int(input('enter second sub the marks'))\n",
    "if b >= 30 :\n",
    "    print(b)\n",
    "else :\n",
    "    print('fail')\n",
    "c = int(input('enter third sub the marks'))\n",
    "if b >= 30 :\n",
    "    print(c)\n",
    "else :\n",
    "    print('fail')\n",
    "avg = (a+b+c)/3\n",
    "print (avg)\n",
    "if avg>75:\n",
    "    print('A')\n",
    "elif avg>=60 and avg<=70 :\n",
    "    print('B')\n",
    "elif avg>=30 and avg<=60 :\n",
    "    print ('C')\n",
    "else :\n",
    "    print('FAIL')\n",
    "    "
   ]
  },
  {
   "cell_type": "markdown",
   "metadata": {},
   "source": [
    "# Check whether the given number is even or odd\n"
   ]
  },
  {
   "cell_type": "code",
   "execution_count": 10,
   "metadata": {},
   "outputs": [
    {
     "name": "stdout",
     "output_type": "stream",
     "text": [
      "Enter the num:5\n",
      "odd\n"
     ]
    }
   ],
   "source": [
    "a=int(input('Enter the num:'))\n",
    "if a%2==0 :\n",
    "    print ('even')\n",
    "else :\n",
    "    print('odd')"
   ]
  },
  {
   "cell_type": "markdown",
   "metadata": {},
   "source": [
    "# Accept age of a person and decide whether the candidate is eligible for     voting or not"
   ]
  },
  {
   "cell_type": "code",
   "execution_count": 11,
   "metadata": {},
   "outputs": [
    {
     "name": "stdout",
     "output_type": "stream",
     "text": [
      "enter the num:40\n",
      "eligible\n"
     ]
    }
   ],
   "source": [
    "\n",
    "a = int(input('enter the num:'))\n",
    "if a>=18 :\n",
    "    print ('eligible')\n",
    "else :\n",
    "    print ('not eligible')"
   ]
  },
  {
   "cell_type": "markdown",
   "metadata": {},
   "source": [
    "# Check whether the given number is divible by 2 and 3 but not 4.\n"
   ]
  },
  {
   "cell_type": "code",
   "execution_count": 20,
   "metadata": {},
   "outputs": [
    {
     "name": "stdout",
     "output_type": "stream",
     "text": [
      "enter the num:4\n",
      "not divisible\n"
     ]
    }
   ],
   "source": [
    "a = int (input('enter the num:'))\n",
    "if a%2==0 and a%3==0 and a%4!=0 :\n",
    "    print('no is divisible by 2 and 3 but not 4')\n",
    "else :\n",
    "    print('not divisible')"
   ]
  },
  {
   "cell_type": "markdown",
   "metadata": {},
   "source": [
    "# find the large number from the given 3 numbers."
   ]
  },
  {
   "cell_type": "code",
   "execution_count": 21,
   "metadata": {},
   "outputs": [
    {
     "name": "stdout",
     "output_type": "stream",
     "text": [
      "enter the x value:4\n",
      "enter the y value:8\n",
      "enter the z value:7\n",
      "y is greater than x and z\n"
     ]
    }
   ],
   "source": [
    "x= int(input('enter the x value:'))\n",
    "y= int(input('enter the y value:'))\n",
    "z= int(input('enter the z value:'))\n",
    "if x>y and x>z :\n",
    "    print('x is greater than y and z')\n",
    "elif y>x and y>z :\n",
    "    print('y is greater than x and z')\n",
    "else :\n",
    "    print('z is greater than x and y')"
   ]
  },
  {
   "cell_type": "markdown",
   "metadata": {},
   "source": [
    "# check whether the given year is leap year or not.\n",
    " "
   ]
  },
  {
   "cell_type": "code",
   "execution_count": 44,
   "metadata": {},
   "outputs": [
    {
     "name": "stdout",
     "output_type": "stream",
     "text": [
      "enter a year2021\n",
      "not a leap year\n"
     ]
    }
   ],
   "source": [
    "a= int(input('enter a year'))\n",
    "if a%4==0 and a%100!=0 or a%400==0 :\n",
    "    print('it is a leap year')\n",
    "else :\n",
    "    print('not a leap year')"
   ]
  },
  {
   "cell_type": "markdown",
   "metadata": {},
   "source": [
    "# Read the string and char as input and print the number of occurances of charin the given string.\n"
   ]
  },
  {
   "cell_type": "code",
   "execution_count": 55,
   "metadata": {},
   "outputs": [
    {
     "name": "stdout",
     "output_type": "stream",
     "text": [
      "enter the stringappi\n",
      "enter a charectorp\n",
      "charector is in string\n",
      "2\n"
     ]
    }
   ],
   "source": [
    "x=input('enter the string')\n",
    "y=input('enter a charector')\n",
    "if y in x :\n",
    "    print('charector is in string')\n",
    "else :\n",
    "    print('char is not there')\n",
    "print(x.count(y))\n",
    "    "
   ]
  },
  {
   "cell_type": "markdown",
   "metadata": {},
   "source": [
    "# Read the input as string and print the output in the following manner Input: PythonProgrMMINg Output: pYTHONpROGRmminG\n"
   ]
  },
  {
   "cell_type": "code",
   "execution_count": 57,
   "metadata": {},
   "outputs": [
    {
     "name": "stdout",
     "output_type": "stream",
     "text": [
      "pYTHONpROGRmminG\n"
     ]
    }
   ],
   "source": [
    "x='PythonProgrMMINg'\n",
    "y=x.swapcase()\n",
    "print(y)"
   ]
  },
  {
   "cell_type": "markdown",
   "metadata": {},
   "source": [
    "# Test whether the string is palindrome or not:"
   ]
  },
  {
   "cell_type": "code",
   "execution_count": 69,
   "metadata": {},
   "outputs": [
    {
     "name": "stdout",
     "output_type": "stream",
     "text": [
      "enter a string:malayalam\n",
      "it is a palindrome\n"
     ]
    }
   ],
   "source": [
    "x=input('enter a string:')\n",
    "if x==x[::-1] :\n",
    "    print('it is a palindrome')\n",
    "else :\n",
    "    print('not a palindrome')\n"
   ]
  },
  {
   "cell_type": "markdown",
   "metadata": {},
   "source": [
    "# Convert string into list:Example:Input: a= \"1 2 3 4 5 6\"Output: [1, 2, 3, 4, 5, 6]\n"
   ]
  },
  {
   "cell_type": "code",
   "execution_count": 73,
   "metadata": {},
   "outputs": [
    {
     "name": "stdout",
     "output_type": "stream",
     "text": [
      "[1, 2, 3, 4, 5, 6]\n"
     ]
    }
   ],
   "source": [
    "a = '123456'\n",
    "l = []\n",
    "for x in a :\n",
    "    l.append(int(x))\n",
    "print(l)"
   ]
  },
  {
   "cell_type": "markdown",
   "metadata": {},
   "source": [
    "# Print the second largest string from the list of string:Input: a=[\"Python\",\"Java\",\"C\",\"programming\", \"Swift\"]\n"
   ]
  },
  {
   "cell_type": "code",
   "execution_count": 11,
   "metadata": {},
   "outputs": [
    {
     "name": "stdout",
     "output_type": "stream",
     "text": [
      "python\n"
     ]
    }
   ],
   "source": [
    "a = ['python', 'jaava', 'c', 'programming', 'swift']\n",
    "x=sorted(a,key=len)\n",
    "y=x[-2]\n",
    "print(y)"
   ]
  },
  {
   "cell_type": "code",
   "execution_count": 12,
   "metadata": {},
   "outputs": [
    {
     "name": "stdout",
     "output_type": "stream",
     "text": [
      "c\n",
      "jaava\n",
      "swift\n",
      "python\n",
      "programming\n"
     ]
    }
   ],
   "source": [
    "a = ['python', 'jaava', 'c', 'programming', 'swift']\n",
    "x=sorted(a,key=len)\n",
    "for i in x :\n",
    "    print(i)\n",
    "    \n",
    "    "
   ]
  },
  {
   "cell_type": "markdown",
   "metadata": {},
   "source": [
    "# Read the input as string and output will followed Example :Input : orange Reason: Print the next consonent to the vowel and print the vowel to the next  consonent\n"
   ]
  },
  {
   "cell_type": "code",
   "execution_count": 22,
   "metadata": {},
   "outputs": [
    {
     "data": {
      "text/plain": [
       "97"
      ]
     },
     "execution_count": 22,
     "metadata": {},
     "output_type": "execute_result"
    }
   ],
   "source": [
    "ord('a')"
   ]
  },
  {
   "cell_type": "code",
   "execution_count": 23,
   "metadata": {},
   "outputs": [
    {
     "data": {
      "text/plain": [
       "'a'"
      ]
     },
     "execution_count": 23,
     "metadata": {},
     "output_type": "execute_result"
    }
   ],
   "source": [
    "chr(97)"
   ]
  },
  {
   "cell_type": "code",
   "execution_count": 29,
   "metadata": {},
   "outputs": [
    {
     "name": "stdout",
     "output_type": "stream",
     "text": [
      "puboif\n"
     ]
    }
   ],
   "source": [
    "s1='orange'\n",
    "s2=''\n",
    "for ch in s1 :\n",
    "    if ch in ('a','e','i','o','u') :\n",
    "        s2=s2+chr(ord(ch)+1)\n",
    "    else :\n",
    "        if ord(ch)>=98 and ord(ch)<=100 :\n",
    "            s2=s2+'e'\n",
    "        elif ord(ch)>=102 and ord(ch)<=104 :\n",
    "            s2=s2+'i'\n",
    "        elif ord(ch)>=106 and ord(ch)<=110 :\n",
    "            s2=s2+'o'\n",
    "        elif ord(ch)>=112 and ord(ch)<=116 :\n",
    "            s2=s2+'u'\n",
    "print(s2)\n",
    "        "
   ]
  },
  {
   "cell_type": "code",
   "execution_count": null,
   "metadata": {},
   "outputs": [],
   "source": []
  },
  {
   "cell_type": "code",
   "execution_count": null,
   "metadata": {},
   "outputs": [],
   "source": []
  },
  {
   "cell_type": "code",
   "execution_count": null,
   "metadata": {},
   "outputs": [],
   "source": []
  },
  {
   "cell_type": "code",
   "execution_count": null,
   "metadata": {},
   "outputs": [],
   "source": []
  },
  {
   "cell_type": "code",
   "execution_count": null,
   "metadata": {},
   "outputs": [],
   "source": []
  },
  {
   "cell_type": "code",
   "execution_count": null,
   "metadata": {},
   "outputs": [],
   "source": []
  },
  {
   "cell_type": "code",
   "execution_count": null,
   "metadata": {},
   "outputs": [],
   "source": []
  },
  {
   "cell_type": "code",
   "execution_count": null,
   "metadata": {},
   "outputs": [],
   "source": []
  },
  {
   "cell_type": "code",
   "execution_count": null,
   "metadata": {},
   "outputs": [],
   "source": []
  },
  {
   "cell_type": "code",
   "execution_count": null,
   "metadata": {},
   "outputs": [],
   "source": []
  },
  {
   "cell_type": "code",
   "execution_count": null,
   "metadata": {},
   "outputs": [],
   "source": []
  },
  {
   "cell_type": "code",
   "execution_count": null,
   "metadata": {},
   "outputs": [],
   "source": []
  },
  {
   "cell_type": "code",
   "execution_count": null,
   "metadata": {},
   "outputs": [],
   "source": []
  },
  {
   "cell_type": "code",
   "execution_count": null,
   "metadata": {},
   "outputs": [],
   "source": []
  },
  {
   "cell_type": "code",
   "execution_count": null,
   "metadata": {},
   "outputs": [],
   "source": []
  },
  {
   "cell_type": "code",
   "execution_count": null,
   "metadata": {},
   "outputs": [],
   "source": []
  },
  {
   "cell_type": "code",
   "execution_count": null,
   "metadata": {},
   "outputs": [],
   "source": []
  },
  {
   "cell_type": "code",
   "execution_count": null,
   "metadata": {},
   "outputs": [],
   "source": []
  },
  {
   "cell_type": "code",
   "execution_count": null,
   "metadata": {},
   "outputs": [],
   "source": []
  },
  {
   "cell_type": "code",
   "execution_count": null,
   "metadata": {},
   "outputs": [],
   "source": []
  },
  {
   "cell_type": "code",
   "execution_count": null,
   "metadata": {},
   "outputs": [],
   "source": []
  },
  {
   "cell_type": "code",
   "execution_count": null,
   "metadata": {},
   "outputs": [],
   "source": []
  },
  {
   "cell_type": "code",
   "execution_count": null,
   "metadata": {},
   "outputs": [],
   "source": []
  }
 ],
 "metadata": {
  "kernelspec": {
   "display_name": "Python 3",
   "language": "python",
   "name": "python3"
  },
  "language_info": {
   "codemirror_mode": {
    "name": "ipython",
    "version": 3
   },
   "file_extension": ".py",
   "mimetype": "text/x-python",
   "name": "python",
   "nbconvert_exporter": "python",
   "pygments_lexer": "ipython3",
   "version": "3.7.4"
  }
 },
 "nbformat": 4,
 "nbformat_minor": 2
}
